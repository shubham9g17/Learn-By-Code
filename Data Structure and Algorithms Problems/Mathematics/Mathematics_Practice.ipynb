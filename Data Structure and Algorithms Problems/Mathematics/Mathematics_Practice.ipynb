{
 "cells": [
  {
   "cell_type": "markdown",
   "metadata": {},
   "source": [
    "# Practice"
   ]
  },
  {
   "cell_type": "markdown",
   "metadata": {},
   "source": [
    "### Smallest divisible number \n",
    "#### Find all the number which is divisible by all number from 1 to N"
   ]
  },
  {
   "cell_type": "code",
   "execution_count": 2,
   "metadata": {},
   "outputs": [
    {
     "data": {
      "text/plain": [
       "420"
      ]
     },
     "execution_count": 2,
     "metadata": {},
     "output_type": "execute_result"
    }
   ],
   "source": [
    "import math\n",
    "def getSmallestDivNum(n):\n",
    "    ans = 1\n",
    "    for i in range(2,n + 1): \n",
    "        ans = int((ans * i)/math.gcd(ans, i)) # taking lcm of initialy 1 and 2 then their LCM with 3 and ....\n",
    "    return ans \n",
    "getSmallestDivNum(7) \n",
    "#O(nlog(n))"
   ]
  },
  {
   "cell_type": "code",
   "execution_count": 3,
   "metadata": {},
   "outputs": [
    {
     "name": "stdout",
     "output_type": "stream",
     "text": [
      "420\n"
     ]
    }
   ],
   "source": [
    "# Python3 program to find LCM of \n",
    "# First N Natural Numbers. \n",
    "MAX = 100000; \n",
    "\n",
    "# array to store all the prime less \n",
    "# than and equal to 10^6 \n",
    "primes = []; \n",
    "\n",
    "# utility function for \n",
    "# sieve of Eratosthenes \n",
    "def sieve(): \n",
    "    isComposite = [False]*(MAX+1); \n",
    "    i = 2; \n",
    "    while (i * i <= MAX): \n",
    "        if (isComposite[i] == False): \n",
    "            j = 2; \n",
    "            while (j * i <= MAX): \n",
    "                isComposite[i * j] = True; \n",
    "                j+=1 \n",
    "        i+=1 \n",
    "    # Store all prime numbers in \n",
    "    # vector primes[] \n",
    "    for i in range(2,MAX+1): \n",
    "        if (isComposite[i] == False): \n",
    "            primes.append(i) \n",
    "\n",
    "# Function to find LCM of \n",
    "# first n Natural Numbers \n",
    "def LCM(n): \n",
    "    lcm = 1; \n",
    "    i = 0; \n",
    "    while (i < len(primes) and primes[i] <= n): \n",
    "        # Find the highest power of prime, \n",
    "        # primes[i] that is less than or \n",
    "        # equal to n \n",
    "        pp = primes[i]; \n",
    "        while (pp * primes[i] <= n): \n",
    "            pp = pp * primes[i]; \n",
    "        # multiply lcm with highest \n",
    "        # power of prime[i] \n",
    "        lcm *= pp; \n",
    "        lcm %= 1000000007; \n",
    "        i+=1; \n",
    "    return lcm; \n",
    " \n",
    "sieve(); \n",
    "N = 7; \n",
    "print(LCM(N)); \n"
   ]
  },
  {
   "cell_type": "markdown",
   "metadata": {},
   "source": [
    "### Digits In Factorial"
   ]
  },
  {
   "cell_type": "code",
   "execution_count": 4,
   "metadata": {},
   "outputs": [
    {
     "data": {
      "text/plain": [
       "(7, 3628800)"
      ]
     },
     "execution_count": 4,
     "metadata": {},
     "output_type": "execute_result"
    }
   ],
   "source": [
    "import math\n",
    "##Complete this function\n",
    "def digitsInFactorial(N):\n",
    "    fac=1\n",
    "    for i in range(2,N+1):\n",
    "        fac*=i\n",
    "    return math.floor(math.log10(fac))+1,fac\n",
    "digitsInFactorial(10)"
   ]
  },
  {
   "cell_type": "markdown",
   "metadata": {},
   "source": [
    "### Exactly3Divisors"
   ]
  },
  {
   "cell_type": "code",
   "execution_count": 5,
   "metadata": {},
   "outputs": [],
   "source": [
    "def isPrime(N):\n",
    "    if (N==1):\n",
    "        return False\n",
    "    for i in range(2,1+int(math.sqrt(N))):\n",
    "        if N%i==0:\n",
    "            return False\n",
    "    return True\n",
    "    \n",
    "# function to check the numbers with exactly 3 divisors\n",
    "def exactly3Divisors(N):\n",
    "    N = int(math.sqrt(N))\n",
    "    counter=0 #Initializing counter to zero\n",
    "    for i in range(1,N+1): #Running a loop from 1 to N\n",
    "    \n",
    "        #  A number N only has 3 divisors if it is a perfect square and its square root is a prime number,\n",
    "        #  and we know the number of perfect squares less than N which is sqrt(N),\n",
    "        #  so just checking if i is prime or not\n",
    "        if(isPrime(i)): \n",
    "            counter+=1\n",
    "    return counter"
   ]
  },
  {
   "cell_type": "code",
   "execution_count": 6,
   "metadata": {},
   "outputs": [
    {
     "data": {
      "text/plain": [
       "4"
      ]
     },
     "execution_count": 6,
     "metadata": {},
     "output_type": "execute_result"
    }
   ],
   "source": [
    "exactly3Divisors(100)"
   ]
  },
  {
   "cell_type": "code",
   "execution_count": null,
   "metadata": {},
   "outputs": [],
   "source": []
  }
 ],
 "metadata": {
  "kernelspec": {
   "display_name": "Python 3",
   "language": "python",
   "name": "python3"
  },
  "language_info": {
   "codemirror_mode": {
    "name": "ipython",
    "version": 3
   },
   "file_extension": ".py",
   "mimetype": "text/x-python",
   "name": "python",
   "nbconvert_exporter": "python",
   "pygments_lexer": "ipython3",
   "version": "3.8.3"
  }
 },
 "nbformat": 4,
 "nbformat_minor": 4
}

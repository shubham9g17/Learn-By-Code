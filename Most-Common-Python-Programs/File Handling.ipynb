{
 "cells": [
  {
   "cell_type": "markdown",
   "metadata": {},
   "source": [
    "__`Python Program to Read the Contents of a File`__"
   ]
  },
  {
   "cell_type": "code",
   "execution_count": 2,
   "metadata": {},
   "outputs": [
    {
     "name": "stdout",
     "output_type": "stream",
     "text": [
      "sg0\n",
      "sg2 sg1\n",
      "sg1 3 4 \n",
      "sg \n",
      "sg680"
     ]
    }
   ],
   "source": [
    "a=\"Sg.txt\"\n",
    "file2=open(a,'r')\n",
    "line=file2.readline()\n",
    "while(line!=\"\"):\n",
    "    print(line, end=\"\")\n",
    "    line=file2.readline()\n",
    "file2.close()"
   ]
  },
  {
   "cell_type": "markdown",
   "metadata": {},
   "source": [
    "__`Python Program to Count the Number of Words in a Text File`__"
   ]
  },
  {
   "cell_type": "code",
   "execution_count": 3,
   "metadata": {},
   "outputs": [
    {
     "name": "stdout",
     "output_type": "stream",
     "text": [
      "Number of words:\n",
      "8\n"
     ]
    }
   ],
   "source": [
    "fname = \"Sg.txt\"\n",
    " \n",
    "num_words = 0\n",
    " \n",
    "with open(fname, 'r') as f:\n",
    "    for line in f:\n",
    "        words = line.split()\n",
    "        num_words += len(words)\n",
    "print(\"Number of words:\")\n",
    "print(num_words)"
   ]
  },
  {
   "cell_type": "markdown",
   "metadata": {},
   "source": [
    "__`Python Program to Count the Number of Lines in a Text File`__"
   ]
  },
  {
   "cell_type": "code",
   "execution_count": 4,
   "metadata": {},
   "outputs": [
    {
     "name": "stdout",
     "output_type": "stream",
     "text": [
      "Number of lines:\n",
      "5\n"
     ]
    }
   ],
   "source": [
    "#same file \n",
    "num_lines = 0\n",
    "with open(fname, 'r') as f:\n",
    "    for line in f:\n",
    "        num_lines += 1\n",
    "print(\"Number of lines:\")\n",
    "print(num_lines)"
   ]
  },
  {
   "cell_type": "markdown",
   "metadata": {},
   "source": [
    "__`Python Program to Read a String from the User and Append it into a File`__"
   ]
  },
  {
   "cell_type": "code",
   "execution_count": 6,
   "metadata": {},
   "outputs": [
    {
     "name": "stdout",
     "output_type": "stream",
     "text": [
      "Contents of appended file:\n",
      "sg0\n",
      "sg2 sg1\n",
      "sg1 3 4 \n",
      "sg \n",
      "sg680\n",
      "SG!@#\n",
      "SG!@#"
     ]
    }
   ],
   "source": [
    "file3=open(fname,\"a\")\n",
    "c=\"SG!@#\"\n",
    "file3.write(\"\\n\")\n",
    "file3.write(c)\n",
    "file3.close()\n",
    "print(\"Contents of appended file:\");\n",
    "file4=open(fname,'r')\n",
    "line1=file4.readline()\n",
    "while(line1!=\"\"):\n",
    "    print(line1,end=\"\")\n",
    "    line1=file4.readline()    \n",
    "file4.close()"
   ]
  },
  {
   "cell_type": "markdown",
   "metadata": {},
   "source": [
    "__`Python Program to Count the Occurrences of a Word in a Text File`__"
   ]
  },
  {
   "cell_type": "code",
   "execution_count": 7,
   "metadata": {},
   "outputs": [
    {
     "name": "stdout",
     "output_type": "stream",
     "text": [
      "Occurrences of the word:\n",
      "2\n"
     ]
    }
   ],
   "source": [
    "word=\"SG!@#\"\n",
    "k = 0\n",
    " \n",
    "with open(fname, 'r') as f:\n",
    "    for line in f:\n",
    "        words = line.split()\n",
    "        for i in words:\n",
    "            if(i==word):\n",
    "                k=k+1\n",
    "print(\"Occurrences of the word:\")\n",
    "print(k)"
   ]
  },
  {
   "cell_type": "markdown",
   "metadata": {},
   "source": [
    "__`Python Program to Copy the Contents of One File into Another`__"
   ]
  },
  {
   "cell_type": "code",
   "execution_count": 9,
   "metadata": {},
   "outputs": [],
   "source": [
    "with open(\"SG.txt\") as f:\n",
    "    with open(\"SG-copy.txt\", \"w\") as f1:\n",
    "        for line in f:\n",
    "            f1.write(line)"
   ]
  },
  {
   "cell_type": "markdown",
   "metadata": {},
   "source": [
    "__`Python Program that Reads a Text File and Counts the Number of Times a Certain Letter Appears in the Text File`__"
   ]
  },
  {
   "cell_type": "code",
   "execution_count": 11,
   "metadata": {},
   "outputs": [
    {
     "name": "stdout",
     "output_type": "stream",
     "text": [
      "Occurrences of the letter:\n",
      "2\n"
     ]
    }
   ],
   "source": [
    "l=\"S\"\n",
    "k = 0\n",
    " \n",
    "with open(fname, 'r') as f:\n",
    "    for line in f:\n",
    "        words = line.split()\n",
    "        for i in words:\n",
    "            for letter in i:\n",
    "                if(letter==l):\n",
    "                    k=k+1\n",
    "print(\"Occurrences of the letter:\")\n",
    "print(k)"
   ]
  },
  {
   "cell_type": "markdown",
   "metadata": {},
   "source": [
    "__`Python Program to Read a Text File and Print all the Numbers Present in the Text File`__"
   ]
  },
  {
   "cell_type": "code",
   "execution_count": 13,
   "metadata": {},
   "outputs": [
    {
     "name": "stdout",
     "output_type": "stream",
     "text": [
      "0 2 1 1 3 4 6 8 0 "
     ]
    }
   ],
   "source": [
    "with open(fname, 'r') as f:\n",
    "    for line in f:\n",
    "        words = line.split()\n",
    "        for i in words:\n",
    "            for letter in i:\n",
    "                if(letter.isdigit()):\n",
    "                    print(letter,end=\" \")"
   ]
  },
  {
   "cell_type": "markdown",
   "metadata": {},
   "source": [
    "__`Python Program to Append the Contents of One File to Another File`__"
   ]
  },
  {
   "cell_type": "code",
   "execution_count": 14,
   "metadata": {},
   "outputs": [],
   "source": [
    "name1 = \"SG.txt\"\n",
    "name2 = \"SG-copy.txt\"\n",
    "fin = open(name1, \"r\")\n",
    "data2 = fin.read()\n",
    "fin.close()\n",
    "fout = open(name2, \"a\")\n",
    "fout.write(data2)\n",
    "fout.close()"
   ]
  },
  {
   "cell_type": "markdown",
   "metadata": {},
   "source": [
    "__`Python Program to Count the Number of Blank Spaces in a Text File`__"
   ]
  },
  {
   "cell_type": "code",
   "execution_count": 15,
   "metadata": {},
   "outputs": [
    {
     "name": "stdout",
     "output_type": "stream",
     "text": [
      "Occurrences of blank spaces:\n",
      "31\n"
     ]
    }
   ],
   "source": [
    "fname = \"SG.txt\"\n",
    "k = 0\n",
    " \n",
    "with open(fname, 'r') as f:\n",
    "    for line in f:\n",
    "        words = line.split()\n",
    "        for i in words:\n",
    "            for letter in i:\n",
    "                if(letter.isspace):\n",
    "                    k=k+1\n",
    "print(\"Occurrences of blank spaces:\")\n",
    "print(k)"
   ]
  },
  {
   "cell_type": "markdown",
   "metadata": {},
   "source": [
    "__`Python Program to Read a File and Capitalize the First Letter of Every Word in the File`__"
   ]
  },
  {
   "cell_type": "code",
   "execution_count": 17,
   "metadata": {},
   "outputs": [
    {
     "name": "stdout",
     "output_type": "stream",
     "text": [
      "Sg0\n",
      "Sg2 Sg1\n",
      "Sg1 3 4 \n",
      "Sg \n",
      "Sg680\n",
      "Sg!@#\n",
      "Sg!@#"
     ]
    }
   ],
   "source": [
    "with open(fname, 'r') as f:\n",
    "    for line in f:\n",
    "        l=line.title()\n",
    "        print(l,end=\"\")"
   ]
  },
  {
   "cell_type": "markdown",
   "metadata": {},
   "source": [
    "__`Python Program to Read the Contents of a File in Reverse Order`__"
   ]
  },
  {
   "cell_type": "code",
   "execution_count": 18,
   "metadata": {},
   "outputs": [
    {
     "name": "stdout",
     "output_type": "stream",
     "text": [
      "SG!@#\n",
      "SG!@#\n",
      "sg680\n",
      "sg\n",
      "sg1 3 4\n",
      "sg2 sg1\n",
      "sg0\n"
     ]
    }
   ],
   "source": [
    "filename=\"SG.txt\"\n",
    "for line in reversed(list(open(filename))):\n",
    "    print(line.rstrip())"
   ]
  }
 ],
 "metadata": {
  "kernelspec": {
   "display_name": "Python 3",
   "language": "python",
   "name": "python3"
  },
  "language_info": {
   "codemirror_mode": {
    "name": "ipython",
    "version": 3
   },
   "file_extension": ".py",
   "mimetype": "text/x-python",
   "name": "python",
   "nbconvert_exporter": "python",
   "pygments_lexer": "ipython3",
   "version": "3.8.3"
  }
 },
 "nbformat": 4,
 "nbformat_minor": 4
}
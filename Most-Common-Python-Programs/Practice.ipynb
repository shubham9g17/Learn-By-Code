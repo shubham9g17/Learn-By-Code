{
 "cells": [
  {
   "cell_type": "markdown",
   "metadata": {},
   "source": [
    "## Simple Python Programs"
   ]
  },
  {
   "cell_type": "markdown",
   "metadata": {},
   "source": [
    "### sieve of Eratosthenes"
   ]
  },
  {
   "cell_type": "code",
   "execution_count": 1,
   "metadata": {},
   "outputs": [
    {
     "name": "stdout",
     "output_type": "stream",
     "text": [
      "100\n",
      "[2, 3, 5, 7, 11, 13, 17, 19, 23, 29, 31, 37, 41, 43, 47, 53, 59, 61, 67, 71, 73, 79, 83, 89, 97]\n"
     ]
    }
   ],
   "source": [
    "n=int(input())\n",
    "sieve=set(range(2,n+1))\n",
    "li=[]\n",
    "while sieve:\n",
    "    x=min(sieve)\n",
    "    sieve-=set(range(x,n+1,x))\n",
    "    li.append(x)\n",
    "print(li)"
   ]
  },
  {
   "cell_type": "markdown",
   "metadata": {},
   "source": [
    "### find all combinations of a string without duplicates\n"
   ]
  },
  {
   "cell_type": "code",
   "execution_count": 6,
   "metadata": {},
   "outputs": [
    {
     "name": "stdout",
     "output_type": "stream",
     "text": [
      "123\n"
     ]
    },
    {
     "data": {
      "text/plain": [
       "['123', '132', '213', '231', '312', '321']"
      ]
     },
     "execution_count": 6,
     "metadata": {},
     "output_type": "execute_result"
    }
   ],
   "source": [
    "from itertools import permutations\n",
    "n=input()\n",
    "per=list(map(\"\".join,permutations(n,len(n))))\n",
    "per"
   ]
  },
  {
   "cell_type": "code",
   "execution_count": 8,
   "metadata": {},
   "outputs": [
    {
     "name": "stdout",
     "output_type": "stream",
     "text": [
      "123\n",
      "132\n",
      "213\n",
      "231\n",
      "321\n",
      "312\n"
     ]
    }
   ],
   "source": [
    "def permute(a,l,r):\n",
    "    if l==r:\n",
    "        print(\"\".join(a))\n",
    "    else:\n",
    "        for i in range(l,r+1):\n",
    "            a[i],a[l]=a[l],a[i]\n",
    "            permute(a,l+1,r)\n",
    "            a[i],a[l]=a[l],a[i]\n",
    "permute(list(\"123\"),0,len(\"123\")-1)\n",
    "        "
   ]
  },
  {
   "cell_type": "markdown",
   "metadata": {},
   "source": [
    "## Mathematical Functions"
   ]
  },
  {
   "cell_type": "markdown",
   "metadata": {},
   "source": [
    "### Pascal Triangle"
   ]
  },
  {
   "cell_type": "code",
   "execution_count": 9,
   "metadata": {},
   "outputs": [
    {
     "name": "stdout",
     "output_type": "stream",
     "text": [
      "5\n",
      "1 \n",
      "1 1 \n",
      "1 2 1 \n",
      "1 3 3 1 \n",
      "1 4 6 4 1 \n"
     ]
    }
   ],
   "source": [
    "n=int(input())\n",
    "arr=[[0 for y in range(n)] for x in range(n)]\n",
    "for line in range(n):\n",
    "    for i in range(line+1):\n",
    "        if(i == 0 or i is line): \n",
    "            arr[line][i] = 1\n",
    "            print(arr[line][i], end = \" \")  \n",
    "  \n",
    "            # Other values are sum of values \n",
    "            # just above and left of above  \n",
    "        else: \n",
    "            arr[line][i] = (arr[line - 1][i - 1] + arr[line - 1][i]) \n",
    "            print(arr[line][i], end = \" \")              \n",
    "    print(\"\\n\", end = \"\")\n",
    "        "
   ]
  },
  {
   "cell_type": "markdown",
   "metadata": {},
   "source": [
    "### GCD and LCM "
   ]
  },
  {
   "cell_type": "code",
   "execution_count": 11,
   "metadata": {},
   "outputs": [
    {
     "name": "stdout",
     "output_type": "stream",
     "text": [
      "The gcd of 60 and 48 is : 12\n"
     ]
    }
   ],
   "source": [
    "# Python code to demonstrate naive \n",
    "# method to compute gcd ( Euclidean algo ) \n",
    "\n",
    "\n",
    "def computeGCD(x, y): \n",
    "    while(y): \n",
    "        x, y = y, x % y \n",
    "    return x \n",
    "\n",
    "a = 60\n",
    "b= 48\n",
    "\n",
    "# prints 12 \n",
    "print (\"The gcd of 60 and 48 is : \",end=\"\") \n",
    "print (computeGCD(60,48)) \n"
   ]
  },
  {
   "cell_type": "markdown",
   "metadata": {},
   "source": [
    "## List"
   ]
  },
  {
   "cell_type": "markdown",
   "metadata": {},
   "source": [
    "__Python Program to Sort the List According to the Second Element in Sublist__"
   ]
  },
  {
   "cell_type": "code",
   "execution_count": 4,
   "metadata": {},
   "outputs": [
    {
     "name": "stdout",
     "output_type": "stream",
     "text": [
      "[['B', 21], ['C', 26], ['A', 34]]\n"
     ]
    }
   ],
   "source": [
    "L=[['A',34],['B',21],['C',26]]\n",
    "L.sort(key=lambda L:L[1])\n",
    "print(L)"
   ]
  },
  {
   "cell_type": "markdown",
   "metadata": {},
   "source": [
    "__Python Program to Merge sorted Two Lists into one list__"
   ]
  },
  {
   "cell_type": "code",
   "execution_count": 7,
   "metadata": {},
   "outputs": [],
   "source": [
    "def merge(A,B):\n",
    "    i=0\n",
    "    j=0\n",
    "    AB=[]\n",
    "    while i<len(A) and j<len(B):\n",
    "        if A[i]>B[j]:\n",
    "            AB.append(B[j])\n",
    "            j+=1\n",
    "        else:\n",
    "            AB.append(A[i])\n",
    "            i+=1\n",
    "    while i==len(A) and j<len(B):\n",
    "        AB.append(B[j])\n",
    "        j+=1\n",
    "    while i<len(A) and j==len(B):\n",
    "        AB.append(A[i])\n",
    "        i+=1\n",
    "    print(AB)\n",
    "        "
   ]
  },
  {
   "cell_type": "code",
   "execution_count": 9,
   "metadata": {},
   "outputs": [
    {
     "name": "stdout",
     "output_type": "stream",
     "text": [
      "[1, 2, 3, 3, 4, 5]\n"
     ]
    }
   ],
   "source": [
    "merge([1,3,5],[2,3,4])"
   ]
  },
  {
   "cell_type": "markdown",
   "metadata": {},
   "source": [
    "## Dictionary"
   ]
  },
  {
   "cell_type": "markdown",
   "metadata": {},
   "source": [
    "__Python Program to concatenate two Dictionary into one__"
   ]
  },
  {
   "cell_type": "code",
   "execution_count": 1,
   "metadata": {},
   "outputs": [
    {
     "name": "stdout",
     "output_type": "stream",
     "text": [
      "{1: 'a', 2: 'B', 3: 'C'}\n"
     ]
    }
   ],
   "source": [
    "d1={1:\"A\",2:\"B\"}\n",
    "d2={1:\"a\",3:\"C\"}\n",
    "d1.update(d2)\n",
    "print(d1)"
   ]
  },
  {
   "cell_type": "code",
   "execution_count": 2,
   "metadata": {},
   "outputs": [
    {
     "name": "stdout",
     "output_type": "stream",
     "text": [
      "{1: 'a', 2: 'B', 3: 'C'}\n"
     ]
    }
   ],
   "source": [
    "d1={1:\"A\",2:\"B\"}\n",
    "d2={1:\"a\",3:\"C\"}\n",
    "d3={**d1,**d2}\n",
    "print(d3)"
   ]
  },
  {
   "cell_type": "markdown",
   "metadata": {},
   "source": [
    "__Python Program to check whether a given key exist or not in an dictionary__"
   ]
  },
  {
   "cell_type": "code",
   "execution_count": 3,
   "metadata": {},
   "outputs": [
    {
     "name": "stdout",
     "output_type": "stream",
     "text": [
      "Not Exist\n"
     ]
    }
   ],
   "source": [
    "d={1:\"A\"}\n",
    "key=2\n",
    "print(d.get(key,\"Not Exist\")) "
   ]
  },
  {
   "cell_type": "markdown",
   "metadata": {},
   "source": [
    "__Python Program to map two list into a dictionary__"
   ]
  },
  {
   "cell_type": "code",
   "execution_count": 4,
   "metadata": {},
   "outputs": [
    {
     "name": "stdout",
     "output_type": "stream",
     "text": [
      "{1: 'A', 2: 'B', 3: 'C'}\n"
     ]
    }
   ],
   "source": [
    "l=[1,2,3]\n",
    "L=[\"A\",\"B\",\"C\"]\n",
    "print(dict(zip(l,L)))"
   ]
  },
  {
   "cell_type": "markdown",
   "metadata": {},
   "source": [
    "__Python Program to count the frequency of words appearing in a string__"
   ]
  },
  {
   "cell_type": "code",
   "execution_count": 5,
   "metadata": {},
   "outputs": [
    {
     "name": "stdout",
     "output_type": "stream",
     "text": [
      "{'sg': 3, 'success': 2, 'hardwork': 1}\n"
     ]
    }
   ],
   "source": [
    "s=\"sg sg success success hardwork sg\"\n",
    "d={}\n",
    "for k in s.split() :\n",
    "    if k not in d:\n",
    "        d[k]=1\n",
    "    else:\n",
    "        d[k]+=1\n",
    "        \n",
    "print(d) "
   ]
  },
  {
   "cell_type": "code",
   "execution_count": 6,
   "metadata": {},
   "outputs": [
    {
     "name": "stdout",
     "output_type": "stream",
     "text": [
      "{'sg': 3, 'success': 2, 'hardwork': 1}\n"
     ]
    }
   ],
   "source": [
    "l=s.split()\n",
    "word_count=[l.count(i) for i in l]\n",
    "print(dict(zip(l,word_count))) \n"
   ]
  },
  {
   "cell_type": "markdown",
   "metadata": {},
   "source": [
    "## Set"
   ]
  },
  {
   "cell_type": "markdown",
   "metadata": {},
   "source": [
    "__Python Program to Perform Operation on two strings__"
   ]
  },
  {
   "cell_type": "code",
   "execution_count": 11,
   "metadata": {},
   "outputs": [],
   "source": [
    "s1=\"sg is good boy\"\n",
    "s2=\"ss and tv and sg are good\""
   ]
  },
  {
   "cell_type": "code",
   "execution_count": 12,
   "metadata": {},
   "outputs": [
    {
     "name": "stdout",
     "output_type": "stream",
     "text": [
      "['g', 'o', 'd', 's', ' ']\n"
     ]
    }
   ],
   "source": [
    "#print common letters\n",
    "print(list(set(s1) & set(s2)))"
   ]
  },
  {
   "cell_type": "code",
   "execution_count": 13,
   "metadata": {},
   "outputs": [
    {
     "name": "stdout",
     "output_type": "stream",
     "text": [
      "['g', 'i', 'o', 't', 'b', 'n', 'e', 'a', 'r', 'y', 'd', 's', 'v', ' ']\n"
     ]
    }
   ],
   "source": [
    "#print letters in both strings\n",
    "print(list(set(s1) | set(s2)))"
   ]
  },
  {
   "cell_type": "code",
   "execution_count": 14,
   "metadata": {},
   "outputs": [
    {
     "name": "stdout",
     "output_type": "stream",
     "text": [
      "['y', 'i', 'b']\n"
     ]
    }
   ],
   "source": [
    "#print letter in st1 but not in st2\n",
    "print(list(set(s1) - set(s2)))"
   ]
  },
  {
   "cell_type": "code",
   "execution_count": 15,
   "metadata": {},
   "outputs": [
    {
     "name": "stdout",
     "output_type": "stream",
     "text": [
      "{'a', 'r', 'i', 'y', 't', 'b', 'v', 'n', 'e'}\n"
     ]
    }
   ],
   "source": [
    "#print letter in st1, st2 but not in both\n",
    "U=set(s1) | set(s2)\n",
    "I=set(s1) & set(s2)\n",
    "print(U-I) "
   ]
  },
  {
   "cell_type": "markdown",
   "metadata": {},
   "source": [
    "## Class and object"
   ]
  },
  {
   "cell_type": "markdown",
   "metadata": {},
   "source": [
    "__`Python Program to Find the Area of a Rectangle Using Classes`__"
   ]
  },
  {
   "cell_type": "code",
   "execution_count": 12,
   "metadata": {},
   "outputs": [
    {
     "data": {
      "text/plain": [
       "180"
      ]
     },
     "execution_count": 12,
     "metadata": {},
     "output_type": "execute_result"
    }
   ],
   "source": [
    "class Rectangle():\n",
    "    def __init__(self,length,breadth):\n",
    "        self.length=length\n",
    "        self.breadth=breadth\n",
    "    def area(self):\n",
    "        return self.length*self.breadth\n",
    "R1=Rectangle(12,15)\n",
    "R1.area()"
   ]
  },
  {
   "cell_type": "markdown",
   "metadata": {},
   "source": [
    "__`Python Program to Append, Delete and Display Elements of a List Using Classes`__"
   ]
  },
  {
   "cell_type": "code",
   "execution_count": 15,
   "metadata": {},
   "outputs": [
    {
     "name": "stdout",
     "output_type": "stream",
     "text": [
      "[5, 6]\n",
      "[6]\n"
     ]
    }
   ],
   "source": [
    "class List():\n",
    "    def __init__(self):\n",
    "        self.n=[]\n",
    "    def append(self,x):\n",
    "        self.n.append(x)\n",
    "    def delete(self,x):\n",
    "        self.n.remove(x)\n",
    "    def display(self):\n",
    "        print(self.n)\n",
    "L=List()\n",
    "L.append(5)\n",
    "L.append(6)\n",
    "L.display()\n",
    "L.delete(5)\n",
    "L.display()\n",
    "        "
   ]
  },
  {
   "cell_type": "markdown",
   "metadata": {},
   "source": [
    "__`Python Program to Create a Class and Get All Possible Subsets from a Set of Distinct Integers`__"
   ]
  },
  {
   "cell_type": "code",
   "execution_count": 17,
   "metadata": {},
   "outputs": [
    {
     "name": "stdout",
     "output_type": "stream",
     "text": [
      "Subsets: \n",
      "[[], [3], [2], [2, 3], [1], [1, 3], [1, 2], [1, 2, 3]]\n"
     ]
    }
   ],
   "source": [
    "class sub:\n",
    "    def f1(self,s1):\n",
    "        return self.f2([],sorted(s1))\n",
    "    def f2(self,curr,s1):\n",
    "        if s1:\n",
    "            return self.f2(curr,s1[1:]) + self.f2(curr+[s1[0]],s1[1:])\n",
    "        return [curr]\n",
    "print(\"Subsets: \")\n",
    "print(sub().f1([1,2,3]))"
   ]
  },
  {
   "cell_type": "markdown",
   "metadata": {},
   "source": [
    "## File Handling"
   ]
  },
  {
   "cell_type": "markdown",
   "metadata": {},
   "source": [
    "__`Python Program to Read the Contents of a File`__"
   ]
  },
  {
   "cell_type": "code",
   "execution_count": 20,
   "metadata": {},
   "outputs": [
    {
     "name": "stdout",
     "output_type": "stream",
     "text": [
      "sg0\n",
      "sg2 sg1\n",
      "sg1 3 4 \n",
      "sg \n",
      "sg680\n",
      "SG!@#\n",
      "SG!@#"
     ]
    }
   ],
   "source": [
    "a=\"Sg.txt\"\n",
    "file=open(a,\"r\")\n",
    "line=file.readline()\n",
    "while line!=\"\":\n",
    "    print(line,end=\"\")\n",
    "    line=file.readline()\n",
    "file.close()"
   ]
  },
  {
   "cell_type": "markdown",
   "metadata": {},
   "source": [
    "__`Python Program to Count the Number of Words in a Text File`__"
   ]
  },
  {
   "cell_type": "code",
   "execution_count": 22,
   "metadata": {},
   "outputs": [
    {
     "name": "stdout",
     "output_type": "stream",
     "text": [
      "Num of Words 10\n"
     ]
    }
   ],
   "source": [
    "file=open(a,\"r\")\n",
    "line=file.readline()\n",
    "words=0\n",
    "while line!=\"\":\n",
    "    words+=len(line.split())\n",
    "    line=file.readline()\n",
    "file.close()\n",
    "print(\"Num of Words\",words)    \n"
   ]
  },
  {
   "cell_type": "markdown",
   "metadata": {},
   "source": [
    "__`Python Program to Count the Number of Lines in a Text File`__"
   ]
  },
  {
   "cell_type": "code",
   "execution_count": 23,
   "metadata": {},
   "outputs": [
    {
     "name": "stdout",
     "output_type": "stream",
     "text": [
      "7\n"
     ]
    }
   ],
   "source": [
    "lines=0\n",
    "with open(a,\"r\") as f:\n",
    "    for line in f:\n",
    "        lines+=1\n",
    "print(lines)"
   ]
  },
  {
   "cell_type": "markdown",
   "metadata": {},
   "source": [
    "__`Python Program to Append the Contents of One File to Another File`__"
   ]
  },
  {
   "cell_type": "code",
   "execution_count": 24,
   "metadata": {},
   "outputs": [],
   "source": [
    "name1 = \"SG.txt\"\n",
    "name2 = \"SG-copy.txt\"\n",
    "fin = open(name1, \"r\")\n",
    "data2 = fin.read()\n",
    "fin.close()\n",
    "fout = open(name2, \"a\")\n",
    "fout.write(data2)\n",
    "fout.close()"
   ]
  },
  {
   "cell_type": "markdown",
   "metadata": {},
   "source": [
    "__`Python Program to Read the Contents of a File in Reverse Order`__"
   ]
  },
  {
   "cell_type": "code",
   "execution_count": 25,
   "metadata": {},
   "outputs": [
    {
     "name": "stdout",
     "output_type": "stream",
     "text": [
      "SG!@#\n",
      "SG!@#\n",
      "sg680\n",
      "sg\n",
      "sg1 3 4\n",
      "sg2 sg1\n",
      "sg0\n"
     ]
    }
   ],
   "source": [
    "filename=\"SG.txt\"\n",
    "for line in reversed(list(open(filename))):\n",
    "    print(line.rstrip())"
   ]
  },
  {
   "cell_type": "code",
   "execution_count": null,
   "metadata": {},
   "outputs": [],
   "source": []
  }
 ],
 "metadata": {
  "kernelspec": {
   "display_name": "Python 3",
   "language": "python",
   "name": "python3"
  },
  "language_info": {
   "codemirror_mode": {
    "name": "ipython",
    "version": 3
   },
   "file_extension": ".py",
   "mimetype": "text/x-python",
   "name": "python",
   "nbconvert_exporter": "python",
   "pygments_lexer": "ipython3",
   "version": "3.8.3"
  }
 },
 "nbformat": 4,
 "nbformat_minor": 4
}

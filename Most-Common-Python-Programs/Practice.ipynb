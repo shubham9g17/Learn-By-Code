{
 "cells": [
  {
   "cell_type": "markdown",
   "metadata": {},
   "source": [
    "## Simple Python Programs"
   ]
  },
  {
   "cell_type": "markdown",
   "metadata": {},
   "source": [
    "### sieve of Eratosthenes"
   ]
  },
  {
   "cell_type": "code",
   "execution_count": 1,
   "metadata": {},
   "outputs": [
    {
     "name": "stdout",
     "output_type": "stream",
     "text": [
      "100\n",
      "[2, 3, 5, 7, 11, 13, 17, 19, 23, 29, 31, 37, 41, 43, 47, 53, 59, 61, 67, 71, 73, 79, 83, 89, 97]\n"
     ]
    }
   ],
   "source": [
    "n=int(input())\n",
    "sieve=set(range(2,n+1))\n",
    "li=[]\n",
    "while sieve:\n",
    "    x=min(sieve)\n",
    "    sieve-=set(range(x,n+1,x))\n",
    "    li.append(x)\n",
    "print(li)"
   ]
  },
  {
   "cell_type": "markdown",
   "metadata": {},
   "source": [
    "### find all combinations of a string without duplicates\n"
   ]
  },
  {
   "cell_type": "code",
   "execution_count": 6,
   "metadata": {},
   "outputs": [
    {
     "name": "stdout",
     "output_type": "stream",
     "text": [
      "123\n"
     ]
    },
    {
     "data": {
      "text/plain": [
       "['123', '132', '213', '231', '312', '321']"
      ]
     },
     "execution_count": 6,
     "metadata": {},
     "output_type": "execute_result"
    }
   ],
   "source": [
    "from itertools import permutations\n",
    "n=input()\n",
    "per=list(map(\"\".join,permutations(n,len(n))))\n",
    "per"
   ]
  },
  {
   "cell_type": "code",
   "execution_count": 8,
   "metadata": {},
   "outputs": [
    {
     "name": "stdout",
     "output_type": "stream",
     "text": [
      "123\n",
      "132\n",
      "213\n",
      "231\n",
      "321\n",
      "312\n"
     ]
    }
   ],
   "source": [
    "def permute(a,l,r):\n",
    "    if l==r:\n",
    "        print(\"\".join(a))\n",
    "    else:\n",
    "        for i in range(l,r+1):\n",
    "            a[i],a[l]=a[l],a[i]\n",
    "            permute(a,l+1,r)\n",
    "            a[i],a[l]=a[l],a[i]\n",
    "permute(list(\"123\"),0,len(\"123\")-1)\n",
    "        "
   ]
  },
  {
   "cell_type": "markdown",
   "metadata": {},
   "source": [
    "## Mathematical Functions"
   ]
  },
  {
   "cell_type": "markdown",
   "metadata": {},
   "source": [
    "### Pascal Triangle"
   ]
  },
  {
   "cell_type": "code",
   "execution_count": 9,
   "metadata": {},
   "outputs": [
    {
     "name": "stdout",
     "output_type": "stream",
     "text": [
      "5\n",
      "1 \n",
      "1 1 \n",
      "1 2 1 \n",
      "1 3 3 1 \n",
      "1 4 6 4 1 \n"
     ]
    }
   ],
   "source": [
    "n=int(input())\n",
    "arr=[[0 for y in range(n)] for x in range(n)]\n",
    "for line in range(n):\n",
    "    for i in range(line+1):\n",
    "        if(i == 0 or i is line): \n",
    "            arr[line][i] = 1\n",
    "            print(arr[line][i], end = \" \")  \n",
    "  \n",
    "            # Other values are sum of values \n",
    "            # just above and left of above  \n",
    "        else: \n",
    "            arr[line][i] = (arr[line - 1][i - 1] + arr[line - 1][i]) \n",
    "            print(arr[line][i], end = \" \")              \n",
    "    print(\"\\n\", end = \"\")\n",
    "        "
   ]
  },
  {
   "cell_type": "markdown",
   "metadata": {},
   "source": [
    "### GCD and LCM "
   ]
  },
  {
   "cell_type": "code",
   "execution_count": 11,
   "metadata": {},
   "outputs": [
    {
     "name": "stdout",
     "output_type": "stream",
     "text": [
      "The gcd of 60 and 48 is : 12\n"
     ]
    }
   ],
   "source": [
    "# Python code to demonstrate naive \n",
    "# method to compute gcd ( Euclidean algo ) \n",
    "\n",
    "\n",
    "def computeGCD(x, y): \n",
    "    while(y): \n",
    "        x, y = y, x % y \n",
    "    return x \n",
    "\n",
    "a = 60\n",
    "b= 48\n",
    "\n",
    "# prints 12 \n",
    "print (\"The gcd of 60 and 48 is : \",end=\"\") \n",
    "print (computeGCD(60,48)) \n"
   ]
  },
  {
   "cell_type": "code",
   "execution_count": null,
   "metadata": {},
   "outputs": [],
   "source": [
    "### binary code to gray code "
   ]
  }
 ],
 "metadata": {
  "kernelspec": {
   "display_name": "Python 3",
   "language": "python",
   "name": "python3"
  },
  "language_info": {
   "codemirror_mode": {
    "name": "ipython",
    "version": 3
   },
   "file_extension": ".py",
   "mimetype": "text/x-python",
   "name": "python",
   "nbconvert_exporter": "python",
   "pygments_lexer": "ipython3",
   "version": "3.8.3"
  }
 },
 "nbformat": 4,
 "nbformat_minor": 4
}

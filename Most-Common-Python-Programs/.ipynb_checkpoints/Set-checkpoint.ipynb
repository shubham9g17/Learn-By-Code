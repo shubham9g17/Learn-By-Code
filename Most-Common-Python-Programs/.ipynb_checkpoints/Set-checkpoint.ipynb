{
 "cells": [
  {
   "cell_type": "markdown",
   "metadata": {},
   "source": [
    "__Python Program to Perform Operation on two strings__"
   ]
  },
  {
   "cell_type": "code",
   "execution_count": 1,
   "metadata": {},
   "outputs": [],
   "source": [
    "s1=\"sg is good boy\"\n",
    "s2=\"ss and tv and sg are good\""
   ]
  },
  {
   "cell_type": "code",
   "execution_count": 2,
   "metadata": {},
   "outputs": [
    {
     "name": "stdout",
     "output_type": "stream",
     "text": [
      "['o', 'd', 'g', ' ', 's']\n"
     ]
    }
   ],
   "source": [
    "#print common letters\n",
    "print(list(set(s1) & set(s2)))"
   ]
  },
  {
   "cell_type": "code",
   "execution_count": 3,
   "metadata": {},
   "outputs": [
    {
     "name": "stdout",
     "output_type": "stream",
     "text": [
      "['n', 'o', 'i', 'd', 'e', 'g', ' ', 'a', 'b', 'y', 't', 'v', 'r', 's']\n"
     ]
    }
   ],
   "source": [
    "#print letters in both strings\n",
    "print(list(set(s1) | set(s2)))"
   ]
  },
  {
   "cell_type": "code",
   "execution_count": 4,
   "metadata": {},
   "outputs": [
    {
     "name": "stdout",
     "output_type": "stream",
     "text": [
      "['y', 'i', 'b']\n"
     ]
    }
   ],
   "source": [
    "#print letter in st1 but not in st2\n",
    "print(list(set(s1) - set(s2)))"
   ]
  },
  {
   "cell_type": "code",
   "execution_count": 5,
   "metadata": {},
   "outputs": [
    {
     "name": "stdout",
     "output_type": "stream",
     "text": [
      "{'n', 'i', 'e', 'a', 'b', 'y', 't', 'v', 'r'}\n"
     ]
    }
   ],
   "source": [
    "#print letter in st1, st2 but not in both\n",
    "U=set(s1) | set(s2)\n",
    "I=set(s1) & set(s2)\n",
    "print(U-I) "
   ]
  },
  {
   "cell_type": "code",
   "execution_count": null,
   "metadata": {},
   "outputs": [],
   "source": []
  }
 ],
 "metadata": {
  "kernelspec": {
   "display_name": "Python 3",
   "language": "python",
   "name": "python3"
  },
  "language_info": {
   "codemirror_mode": {
    "name": "ipython",
    "version": 3
   },
   "file_extension": ".py",
   "mimetype": "text/x-python",
   "name": "python",
   "nbconvert_exporter": "python",
   "pygments_lexer": "ipython3",
   "version": "3.8.3"
  }
 },
 "nbformat": 4,
 "nbformat_minor": 4
}

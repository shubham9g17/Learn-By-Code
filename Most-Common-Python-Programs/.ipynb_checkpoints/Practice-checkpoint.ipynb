{
 "cells": [
  {
   "cell_type": "markdown",
   "metadata": {},
   "source": [
    "## Simple Python Programs"
   ]
  },
  {
   "cell_type": "markdown",
   "metadata": {},
   "source": [
    "### sieve of Eratosthenes"
   ]
  },
  {
   "cell_type": "code",
   "execution_count": 1,
   "metadata": {},
   "outputs": [
    {
     "name": "stdout",
     "output_type": "stream",
     "text": [
      "100\n",
      "[2, 3, 5, 7, 11, 13, 17, 19, 23, 29, 31, 37, 41, 43, 47, 53, 59, 61, 67, 71, 73, 79, 83, 89, 97]\n"
     ]
    }
   ],
   "source": [
    "n=int(input())\n",
    "sieve=set(range(2,n+1))\n",
    "li=[]\n",
    "while sieve:\n",
    "    x=min(sieve)\n",
    "    sieve-=set(range(x,n+1,x))\n",
    "    li.append(x)\n",
    "print(li)"
   ]
  },
  {
   "cell_type": "markdown",
   "metadata": {},
   "source": [
    "### find all combinations of a string without duplicates\n"
   ]
  },
  {
   "cell_type": "code",
   "execution_count": 6,
   "metadata": {},
   "outputs": [
    {
     "name": "stdout",
     "output_type": "stream",
     "text": [
      "123\n"
     ]
    },
    {
     "data": {
      "text/plain": [
       "['123', '132', '213', '231', '312', '321']"
      ]
     },
     "execution_count": 6,
     "metadata": {},
     "output_type": "execute_result"
    }
   ],
   "source": [
    "from itertools import permutations\n",
    "n=input()\n",
    "per=list(map(\"\".join,permutations(n,len(n))))\n",
    "per"
   ]
  },
  {
   "cell_type": "code",
   "execution_count": 8,
   "metadata": {},
   "outputs": [
    {
     "name": "stdout",
     "output_type": "stream",
     "text": [
      "123\n",
      "132\n",
      "213\n",
      "231\n",
      "321\n",
      "312\n"
     ]
    }
   ],
   "source": [
    "def permute(a,l,r):\n",
    "    if l==r:\n",
    "        print(\"\".join(a))\n",
    "    else:\n",
    "        for i in range(l,r+1):\n",
    "            a[i],a[l]=a[l],a[i]\n",
    "            permute(a,l+1,r)\n",
    "            a[i],a[l]=a[l],a[i]\n",
    "permute(list(\"123\"),0,len(\"123\")-1)\n",
    "        "
   ]
  },
  {
   "cell_type": "markdown",
   "metadata": {},
   "source": [
    "## Mathematical Functions"
   ]
  },
  {
   "cell_type": "markdown",
   "metadata": {},
   "source": [
    "### Pascal Triangle"
   ]
  },
  {
   "cell_type": "code",
   "execution_count": 9,
   "metadata": {},
   "outputs": [
    {
     "name": "stdout",
     "output_type": "stream",
     "text": [
      "5\n",
      "1 \n",
      "1 1 \n",
      "1 2 1 \n",
      "1 3 3 1 \n",
      "1 4 6 4 1 \n"
     ]
    }
   ],
   "source": [
    "n=int(input())\n",
    "arr=[[0 for y in range(n)] for x in range(n)]\n",
    "for line in range(n):\n",
    "    for i in range(line+1):\n",
    "        if(i == 0 or i is line): \n",
    "            arr[line][i] = 1\n",
    "            print(arr[line][i], end = \" \")  \n",
    "  \n",
    "            # Other values are sum of values \n",
    "            # just above and left of above  \n",
    "        else: \n",
    "            arr[line][i] = (arr[line - 1][i - 1] + arr[line - 1][i]) \n",
    "            print(arr[line][i], end = \" \")              \n",
    "    print(\"\\n\", end = \"\")\n",
    "        "
   ]
  },
  {
   "cell_type": "markdown",
   "metadata": {},
   "source": [
    "### GCD and LCM "
   ]
  },
  {
   "cell_type": "code",
   "execution_count": 11,
   "metadata": {},
   "outputs": [
    {
     "name": "stdout",
     "output_type": "stream",
     "text": [
      "The gcd of 60 and 48 is : 12\n"
     ]
    }
   ],
   "source": [
    "# Python code to demonstrate naive \n",
    "# method to compute gcd ( Euclidean algo ) \n",
    "\n",
    "\n",
    "def computeGCD(x, y): \n",
    "    while(y): \n",
    "        x, y = y, x % y \n",
    "    return x \n",
    "\n",
    "a = 60\n",
    "b= 48\n",
    "\n",
    "# prints 12 \n",
    "print (\"The gcd of 60 and 48 is : \",end=\"\") \n",
    "print (computeGCD(60,48)) \n"
   ]
  },
  {
   "cell_type": "markdown",
   "metadata": {},
   "source": [
    "## List"
   ]
  },
  {
   "cell_type": "markdown",
   "metadata": {},
   "source": [
    "__Python Program to Sort the List According to the Second Element in Sublist__"
   ]
  },
  {
   "cell_type": "code",
   "execution_count": 4,
   "metadata": {},
   "outputs": [
    {
     "name": "stdout",
     "output_type": "stream",
     "text": [
      "[['B', 21], ['C', 26], ['A', 34]]\n"
     ]
    }
   ],
   "source": [
    "L=[['A',34],['B',21],['C',26]]\n",
    "L.sort(key=lambda L:L[1])\n",
    "print(L)"
   ]
  },
  {
   "cell_type": "markdown",
   "metadata": {},
   "source": [
    "__Python Program to Merge sorted Two Lists into one list__"
   ]
  },
  {
   "cell_type": "code",
   "execution_count": 7,
   "metadata": {},
   "outputs": [],
   "source": [
    "def merge(A,B):\n",
    "    i=0\n",
    "    j=0\n",
    "    AB=[]\n",
    "    while i<len(A) and j<len(B):\n",
    "        if A[i]>B[j]:\n",
    "            AB.append(B[j])\n",
    "            j+=1\n",
    "        else:\n",
    "            AB.append(A[i])\n",
    "            i+=1\n",
    "    while i==len(A) and j<len(B):\n",
    "        AB.append(B[j])\n",
    "        j+=1\n",
    "    while i<len(A) and j==len(B):\n",
    "        AB.append(A[i])\n",
    "        i+=1\n",
    "    print(AB)\n",
    "        "
   ]
  },
  {
   "cell_type": "code",
   "execution_count": 9,
   "metadata": {},
   "outputs": [
    {
     "name": "stdout",
     "output_type": "stream",
     "text": [
      "[1, 2, 3, 3, 4, 5]\n"
     ]
    }
   ],
   "source": [
    "merge([1,3,5],[2,3,4])"
   ]
  },
  {
   "cell_type": "markdown",
   "metadata": {},
   "source": [
    "## Dictionary"
   ]
  },
  {
   "cell_type": "markdown",
   "metadata": {},
   "source": [
    "__Python Program to concatenate two Dictionary into one__"
   ]
  },
  {
   "cell_type": "code",
   "execution_count": 1,
   "metadata": {},
   "outputs": [
    {
     "name": "stdout",
     "output_type": "stream",
     "text": [
      "{1: 'a', 2: 'B', 3: 'C'}\n"
     ]
    }
   ],
   "source": [
    "d1={1:\"A\",2:\"B\"}\n",
    "d2={1:\"a\",3:\"C\"}\n",
    "d1.update(d2)\n",
    "print(d1)"
   ]
  },
  {
   "cell_type": "code",
   "execution_count": 2,
   "metadata": {},
   "outputs": [
    {
     "name": "stdout",
     "output_type": "stream",
     "text": [
      "{1: 'a', 2: 'B', 3: 'C'}\n"
     ]
    }
   ],
   "source": [
    "d1={1:\"A\",2:\"B\"}\n",
    "d2={1:\"a\",3:\"C\"}\n",
    "d3={**d1,**d2}\n",
    "print(d3)"
   ]
  },
  {
   "cell_type": "markdown",
   "metadata": {},
   "source": [
    "__Python Program to check whether a given key exist or not in an dictionary__"
   ]
  },
  {
   "cell_type": "code",
   "execution_count": 3,
   "metadata": {},
   "outputs": [
    {
     "name": "stdout",
     "output_type": "stream",
     "text": [
      "Not Exist\n"
     ]
    }
   ],
   "source": [
    "d={1:\"A\"}\n",
    "key=2\n",
    "print(d.get(key,\"Not Exist\")) "
   ]
  },
  {
   "cell_type": "markdown",
   "metadata": {},
   "source": [
    "__Python Program to map two list into a dictionary__"
   ]
  },
  {
   "cell_type": "code",
   "execution_count": 4,
   "metadata": {},
   "outputs": [
    {
     "name": "stdout",
     "output_type": "stream",
     "text": [
      "{1: 'A', 2: 'B', 3: 'C'}\n"
     ]
    }
   ],
   "source": [
    "l=[1,2,3]\n",
    "L=[\"A\",\"B\",\"C\"]\n",
    "print(dict(zip(l,L)))"
   ]
  },
  {
   "cell_type": "markdown",
   "metadata": {},
   "source": [
    "__Python Program to count the frequency of words appearing in a string__"
   ]
  },
  {
   "cell_type": "code",
   "execution_count": 5,
   "metadata": {},
   "outputs": [
    {
     "name": "stdout",
     "output_type": "stream",
     "text": [
      "{'sg': 3, 'success': 2, 'hardwork': 1}\n"
     ]
    }
   ],
   "source": [
    "s=\"sg sg success success hardwork sg\"\n",
    "d={}\n",
    "for k in s.split() :\n",
    "    if k not in d:\n",
    "        d[k]=1\n",
    "    else:\n",
    "        d[k]+=1\n",
    "        \n",
    "print(d) "
   ]
  },
  {
   "cell_type": "code",
   "execution_count": 6,
   "metadata": {},
   "outputs": [
    {
     "name": "stdout",
     "output_type": "stream",
     "text": [
      "{'sg': 3, 'success': 2, 'hardwork': 1}\n"
     ]
    }
   ],
   "source": [
    "l=s.split()\n",
    "word_count=[l.count(i) for i in l]\n",
    "print(dict(zip(l,word_count))) \n"
   ]
  },
  {
   "cell_type": "markdown",
   "metadata": {},
   "source": [
    "## Set"
   ]
  },
  {
   "cell_type": "markdown",
   "metadata": {},
   "source": [
    "__Python Program to Perform Operation on two strings__"
   ]
  },
  {
   "cell_type": "code",
   "execution_count": 11,
   "metadata": {},
   "outputs": [],
   "source": [
    "s1=\"sg is good boy\"\n",
    "s2=\"ss and tv and sg are good\""
   ]
  },
  {
   "cell_type": "code",
   "execution_count": 12,
   "metadata": {},
   "outputs": [
    {
     "name": "stdout",
     "output_type": "stream",
     "text": [
      "['g', 'o', 'd', 's', ' ']\n"
     ]
    }
   ],
   "source": [
    "#print common letters\n",
    "print(list(set(s1) & set(s2)))"
   ]
  },
  {
   "cell_type": "code",
   "execution_count": 13,
   "metadata": {},
   "outputs": [
    {
     "name": "stdout",
     "output_type": "stream",
     "text": [
      "['g', 'i', 'o', 't', 'b', 'n', 'e', 'a', 'r', 'y', 'd', 's', 'v', ' ']\n"
     ]
    }
   ],
   "source": [
    "#print letters in both strings\n",
    "print(list(set(s1) | set(s2)))"
   ]
  },
  {
   "cell_type": "code",
   "execution_count": 14,
   "metadata": {},
   "outputs": [
    {
     "name": "stdout",
     "output_type": "stream",
     "text": [
      "['y', 'i', 'b']\n"
     ]
    }
   ],
   "source": [
    "#print letter in st1 but not in st2\n",
    "print(list(set(s1) - set(s2)))"
   ]
  },
  {
   "cell_type": "code",
   "execution_count": 15,
   "metadata": {},
   "outputs": [
    {
     "name": "stdout",
     "output_type": "stream",
     "text": [
      "{'a', 'r', 'i', 'y', 't', 'b', 'v', 'n', 'e'}\n"
     ]
    }
   ],
   "source": [
    "#print letter in st1, st2 but not in both\n",
    "U=set(s1) | set(s2)\n",
    "I=set(s1) & set(s2)\n",
    "print(U-I) "
   ]
  },
  {
   "cell_type": "markdown",
   "metadata": {},
   "source": [
    "## Class and object"
   ]
  },
  {
   "cell_type": "markdown",
   "metadata": {},
   "source": [
    "__`Python Program to Find the Area of a Rectangle Using Classes`__"
   ]
  },
  {
   "cell_type": "code",
   "execution_count": 12,
   "metadata": {},
   "outputs": [
    {
     "data": {
      "text/plain": [
       "180"
      ]
     },
     "execution_count": 12,
     "metadata": {},
     "output_type": "execute_result"
    }
   ],
   "source": [
    "class Rectangle():\n",
    "    def __init__(self,length,breadth):\n",
    "        self.length=length\n",
    "        self.breadth=breadth\n",
    "    def area(self):\n",
    "        return self.length*self.breadth\n",
    "R1=Rectangle(12,15)\n",
    "R1.area()"
   ]
  },
  {
   "cell_type": "markdown",
   "metadata": {},
   "source": [
    "__`Python Program to Append, Delete and Display Elements of a List Using Classes`__"
   ]
  },
  {
   "cell_type": "code",
   "execution_count": 15,
   "metadata": {},
   "outputs": [
    {
     "name": "stdout",
     "output_type": "stream",
     "text": [
      "[5, 6]\n",
      "[6]\n"
     ]
    }
   ],
   "source": [
    "class List():\n",
    "    def __init__(self):\n",
    "        self.n=[]\n",
    "    def append(self,x):\n",
    "        self.n.append(x)\n",
    "    def delete(self,x):\n",
    "        self.n.remove(x)\n",
    "    def display(self):\n",
    "        print(self.n)\n",
    "L=List()\n",
    "L.append(5)\n",
    "L.append(6)\n",
    "L.display()\n",
    "L.delete(5)\n",
    "L.display()\n",
    "        "
   ]
  },
  {
   "cell_type": "markdown",
   "metadata": {},
   "source": [
    "__`Python Program to Create a Class and Get All Possible Subsets from a Set of Distinct Integers`__"
   ]
  },
  {
   "cell_type": "code",
   "execution_count": 17,
   "metadata": {},
   "outputs": [
    {
     "name": "stdout",
     "output_type": "stream",
     "text": [
      "Subsets: \n",
      "[[], [3], [2], [2, 3], [1], [1, 3], [1, 2], [1, 2, 3]]\n"
     ]
    }
   ],
   "source": [
    "class sub:\n",
    "    def f1(self,s1):\n",
    "        return self.f2([],sorted(s1))\n",
    "    def f2(self,curr,s1):\n",
    "        if s1:\n",
    "            return self.f2(curr,s1[1:]) + self.f2(curr+[s1[0]],s1[1:])\n",
    "        return [curr]\n",
    "print(\"Subsets: \")\n",
    "print(sub().f1([1,2,3]))"
   ]
  },
  {
   "cell_type": "markdown",
   "metadata": {},
   "source": [
    "## File Handling"
   ]
  },
  {
   "cell_type": "markdown",
   "metadata": {},
   "source": [
    "__`Python Program to Read the Contents of a File`__"
   ]
  },
  {
   "cell_type": "code",
   "execution_count": 20,
   "metadata": {},
   "outputs": [
    {
     "name": "stdout",
     "output_type": "stream",
     "text": [
      "sg0\n",
      "sg2 sg1\n",
      "sg1 3 4 \n",
      "sg \n",
      "sg680\n",
      "SG!@#\n",
      "SG!@#"
     ]
    }
   ],
   "source": [
    "a=\"Sg.txt\"\n",
    "file=open(a,\"r\")\n",
    "line=file.readline()\n",
    "while line!=\"\":\n",
    "    print(line,end=\"\")\n",
    "    line=file.readline()\n",
    "file.close()"
   ]
  },
  {
   "cell_type": "markdown",
   "metadata": {},
   "source": [
    "__`Python Program to Count the Number of Words in a Text File`__"
   ]
  },
  {
   "cell_type": "code",
   "execution_count": 22,
   "metadata": {},
   "outputs": [
    {
     "name": "stdout",
     "output_type": "stream",
     "text": [
      "Num of Words 10\n"
     ]
    }
   ],
   "source": [
    "file=open(a,\"r\")\n",
    "line=file.readline()\n",
    "words=0\n",
    "while line!=\"\":\n",
    "    words+=len(line.split())\n",
    "    line=file.readline()\n",
    "file.close()\n",
    "print(\"Num of Words\",words)    \n"
   ]
  },
  {
   "cell_type": "markdown",
   "metadata": {},
   "source": [
    "__`Python Program to Count the Number of Lines in a Text File`__"
   ]
  },
  {
   "cell_type": "code",
   "execution_count": 23,
   "metadata": {},
   "outputs": [
    {
     "name": "stdout",
     "output_type": "stream",
     "text": [
      "7\n"
     ]
    }
   ],
   "source": [
    "lines=0\n",
    "with open(a,\"r\") as f:\n",
    "    for line in f:\n",
    "        lines+=1\n",
    "print(lines)"
   ]
  },
  {
   "cell_type": "markdown",
   "metadata": {},
   "source": [
    "__`Python Program to Append the Contents of One File to Another File`__"
   ]
  },
  {
   "cell_type": "code",
   "execution_count": 24,
   "metadata": {},
   "outputs": [],
   "source": [
    "name1 = \"SG.txt\"\n",
    "name2 = \"SG-copy.txt\"\n",
    "fin = open(name1, \"r\")\n",
    "data2 = fin.read()\n",
    "fin.close()\n",
    "fout = open(name2, \"a\")\n",
    "fout.write(data2)\n",
    "fout.close()"
   ]
  },
  {
   "cell_type": "markdown",
   "metadata": {},
   "source": [
    "__`Python Program to Read the Contents of a File in Reverse Order`__"
   ]
  },
  {
   "cell_type": "code",
   "execution_count": 25,
   "metadata": {},
   "outputs": [
    {
     "name": "stdout",
     "output_type": "stream",
     "text": [
      "SG!@#\n",
      "SG!@#\n",
      "sg680\n",
      "sg\n",
      "sg1 3 4\n",
      "sg2 sg1\n",
      "sg0\n"
     ]
    }
   ],
   "source": [
    "filename=\"SG.txt\"\n",
    "for line in reversed(list(open(filename))):\n",
    "    print(line.rstrip())"
   ]
  },
  {
   "cell_type": "markdown",
   "metadata": {},
   "source": [
    "## LinkedList"
   ]
  },
  {
   "cell_type": "code",
   "execution_count": 3,
   "metadata": {},
   "outputs": [],
   "source": [
    "#defination of linkedlist node\n",
    "class Node():\n",
    "    def __init__(self,data):\n",
    "        self.data=data\n",
    "        self.next=None\n",
    "        "
   ]
  },
  {
   "cell_type": "code",
   "execution_count": 20,
   "metadata": {},
   "outputs": [],
   "source": [
    "class LinkedList():\n",
    "    def __init__(self):\n",
    "        self.head=None\n",
    "        self.last_node=None\n",
    "    def append(self,data):\n",
    "        if self.last_node is None:\n",
    "            self.head=Node(data)\n",
    "            self.last_node=self.head\n",
    "        else:\n",
    "            self.last_node.next=Node(data)\n",
    "            self.last_node=self.last_node.next\n",
    "    def insert_beg(self,new_node):\n",
    "        if self.head is None:\n",
    "            self.head=new_node\n",
    "        else:\n",
    "            new_node.next=self.head\n",
    "            self.head=new_node\n",
    "            \n",
    "    def display(self):\n",
    "        curr=self.head\n",
    "        while curr is not None:\n",
    "            print(curr.data,\"-->\",end=\" \")\n",
    "            \n",
    "            curr=curr.next\n",
    "        print(\"None\")\n",
    "        \n",
    "    def display_recursive(self):\n",
    "        self.display_recursive_helper(self.head)\n",
    "    def display_recursive_helper(self,current):\n",
    "        if current is None:\n",
    "            return\n",
    "        else:\n",
    "            print(current.data,end=\" \")\n",
    "            self.display_recursive_helper(current.next)\n",
    "            \n",
    "    def display_recursive_reverse(self):\n",
    "        self.display_recursive_helper_reverse(self.head)\n",
    "    def display_recursive_helper_reverse(self,current):\n",
    "        if current is None:\n",
    "            return\n",
    "        else:\n",
    "            self.display_recursive_helper_reverse(current.next)\n",
    "            print(current.data,end=\" \")\n",
    "            \n",
    "    def search(self,element):\n",
    "        curr=self.head\n",
    "        index=0\n",
    "        while curr is not None:\n",
    "            if curr.data==element:\n",
    "                return index\n",
    "            else:\n",
    "                index+=1\n",
    "                curr=curr.next\n",
    "        return -1\n",
    "    \n",
    "    def search_recurrsive(self, key):\n",
    "        return self.search_recurrsive_helper(key, 0, self.head)\n",
    " \n",
    "    def search_recurrsive_helper(self, key, start, node):\n",
    "        if node is None:\n",
    "            return -1\n",
    " \n",
    "        if node.data == key:\n",
    "            return start\n",
    "        else:\n",
    "            return self.search_recurrsive_helper(key, start + 1, node.next)\n",
    "        \n",
    "    def count(self):\n",
    "        curr=self.head\n",
    "        count=0\n",
    "        while curr is not None:\n",
    "            count+=1\n",
    "            curr=curr.next\n",
    "        return count\n",
    "    \n",
    "    def count_recurrsive(self):\n",
    "        return self.count_recurrsive_helper(self.head)\n",
    "    def count_recurrsive_helper(self,current,count=0):\n",
    "        if current is None:\n",
    "            return count\n",
    "        return self.count_recurrsive_helper(current.next,count+1)\n",
    "    \n",
    "    def alternate(self):\n",
    "        current = self.head\n",
    "        while current:\n",
    "            print(current.data, end = ' ')\n",
    "            if current.next is not None:\n",
    "                current = current.next.next\n",
    "            else:\n",
    "                break\n",
    "        \n",
    "    \n",
    "            "
   ]
  },
  {
   "cell_type": "markdown",
   "metadata": {},
   "source": [
    "#### Python Program to Create a Linked List & Display the Elements in the List"
   ]
  },
  {
   "cell_type": "code",
   "execution_count": 13,
   "metadata": {},
   "outputs": [
    {
     "name": "stdout",
     "output_type": "stream",
     "text": [
      "1 2 3 4 5\n",
      "1 --> 2 --> 3 --> 4 --> 5 --> None\n"
     ]
    }
   ],
   "source": [
    "L=LinkedList()\n",
    "li=list(map(int,input().split()))\n",
    "for i in li:\n",
    "    L.append(i)\n",
    "L.display()"
   ]
  },
  {
   "cell_type": "markdown",
   "metadata": {},
   "source": [
    "#### Python Program to Read a Linked List in Reverse"
   ]
  },
  {
   "cell_type": "code",
   "execution_count": 21,
   "metadata": {},
   "outputs": [
    {
     "name": "stdout",
     "output_type": "stream",
     "text": [
      "1 2 3 4\n",
      "4 --> 3 --> 2 --> 1 --> None\n"
     ]
    }
   ],
   "source": [
    "L=LinkedList()\n",
    "li=list(map(int,input().split()))\n",
    "for i in li:\n",
    "    n=Node(i)\n",
    "    L.insert_beg(n)\n",
    "L.display()"
   ]
  },
  {
   "cell_type": "markdown",
   "metadata": {},
   "source": [
    "#### Python Program to Display all the Nodes in a Linked List using Recursion"
   ]
  },
  {
   "cell_type": "code",
   "execution_count": 23,
   "metadata": {},
   "outputs": [
    {
     "name": "stdout",
     "output_type": "stream",
     "text": [
      "1 2 3 4\n",
      "1 2 3 4 "
     ]
    }
   ],
   "source": [
    "L=LinkedList()\n",
    "li=list(map(int,input().split()))\n",
    "for i in li:\n",
    "    L.append(i)\n",
    "L.display_recursive()"
   ]
  },
  {
   "cell_type": "markdown",
   "metadata": {},
   "source": [
    "#### Python Program to Display the Nodes of a Linked List in Reverse using Recursion"
   ]
  },
  {
   "cell_type": "code",
   "execution_count": 26,
   "metadata": {},
   "outputs": [
    {
     "name": "stdout",
     "output_type": "stream",
     "text": [
      "1 2 3 4\n",
      "4 3 2 1 "
     ]
    }
   ],
   "source": [
    "L=LinkedList()\n",
    "li=list(map(int,input().split()))\n",
    "for i in li:\n",
    "    L.append(i)\n",
    "L.display_recursive_reverse()"
   ]
  },
  {
   "cell_type": "markdown",
   "metadata": {},
   "source": [
    "#### Python Program to Search for an Element in the Linked List without using Recursion"
   ]
  },
  {
   "cell_type": "code",
   "execution_count": 28,
   "metadata": {},
   "outputs": [
    {
     "name": "stdout",
     "output_type": "stream",
     "text": [
      "1 2 3 5 4 6\n"
     ]
    },
    {
     "data": {
      "text/plain": [
       "4"
      ]
     },
     "execution_count": 28,
     "metadata": {},
     "output_type": "execute_result"
    }
   ],
   "source": [
    "L=LinkedList()\n",
    "li=list(map(int,input().split()))\n",
    "for i in li:\n",
    "    L.append(i)\n",
    "L.search(4)"
   ]
  },
  {
   "cell_type": "markdown",
   "metadata": {},
   "source": [
    "#### Python Program to Search for an Element in the Linked List using Recursion"
   ]
  },
  {
   "cell_type": "code",
   "execution_count": 31,
   "metadata": {},
   "outputs": [
    {
     "name": "stdout",
     "output_type": "stream",
     "text": [
      "1 3 5 7\n"
     ]
    },
    {
     "data": {
      "text/plain": [
       "-1"
      ]
     },
     "execution_count": 31,
     "metadata": {},
     "output_type": "execute_result"
    }
   ],
   "source": [
    "L=LinkedList()\n",
    "li=list(map(int,input().split()))\n",
    "for i in li:\n",
    "    L.append(i)\n",
    "L.search_recurrsive(9)"
   ]
  },
  {
   "cell_type": "markdown",
   "metadata": {},
   "source": [
    "#### Python Program to Find the Length of the Linked List without using Recursion"
   ]
  },
  {
   "cell_type": "code",
   "execution_count": 4,
   "metadata": {},
   "outputs": [
    {
     "name": "stdout",
     "output_type": "stream",
     "text": [
      "1 2 3 4 5\n"
     ]
    },
    {
     "data": {
      "text/plain": [
       "5"
      ]
     },
     "execution_count": 4,
     "metadata": {},
     "output_type": "execute_result"
    }
   ],
   "source": [
    "L=LinkedList()\n",
    "li=list(map(int,input().split()))\n",
    "for i in li:\n",
    "    L.append(i)\n",
    "L.count()    "
   ]
  },
  {
   "cell_type": "markdown",
   "metadata": {},
   "source": [
    "#### Python Program to Find the Length of the Linked List using Recursion"
   ]
  },
  {
   "cell_type": "code",
   "execution_count": 19,
   "metadata": {},
   "outputs": [
    {
     "name": "stdout",
     "output_type": "stream",
     "text": [
      "1 2 3 4\n"
     ]
    },
    {
     "data": {
      "text/plain": [
       "4"
      ]
     },
     "execution_count": 19,
     "metadata": {},
     "output_type": "execute_result"
    }
   ],
   "source": [
    "L=LinkedList()\n",
    "li=list(map(int,input().split()))\n",
    "for i in li:\n",
    "    L.append(i)\n",
    "L.count_recurrsive()"
   ]
  },
  {
   "cell_type": "markdown",
   "metadata": {},
   "source": [
    "#### Python Program to Print the Alternate Nodes in a Linked List without using Recursion"
   ]
  },
  {
   "cell_type": "code",
   "execution_count": 21,
   "metadata": {},
   "outputs": [
    {
     "name": "stdout",
     "output_type": "stream",
     "text": [
      "1 2 3 4 5\n",
      "1 3 5 "
     ]
    }
   ],
   "source": [
    "L=LinkedList()\n",
    "li=list(map(int,input().split()))\n",
    "for i in li:\n",
    "    L.append(i)\n",
    "L.alternate()"
   ]
  },
  {
   "cell_type": "markdown",
   "metadata": {},
   "source": [
    "#### Python Program to Illustrate the Operations of Singly Linked List"
   ]
  },
  {
   "cell_type": "code",
   "execution_count": 1,
   "metadata": {},
   "outputs": [],
   "source": []
  },
  {
   "cell_type": "markdown",
   "metadata": {},
   "source": [
    "#### Python Program to Implement a Doubly Linked List & provide Insertion, Deletion & Display Operations"
   ]
  },
  {
   "cell_type": "code",
   "execution_count": 4,
   "metadata": {},
   "outputs": [],
   "source": []
  },
  {
   "cell_type": "code",
   "execution_count": null,
   "metadata": {},
   "outputs": [],
   "source": []
  },
  {
   "cell_type": "markdown",
   "metadata": {},
   "source": [
    "## Searching"
   ]
  },
  {
   "cell_type": "markdown",
   "metadata": {},
   "source": [
    "#### Python Program to Implement Linear Search"
   ]
  },
  {
   "cell_type": "code",
   "execution_count": 2,
   "metadata": {},
   "outputs": [
    {
     "data": {
      "text/plain": [
       "2"
      ]
     },
     "execution_count": 2,
     "metadata": {},
     "output_type": "execute_result"
    }
   ],
   "source": [
    "def Linear_Search(arr,x):\n",
    "    index=-1\n",
    "    for i in range(len(arr)):\n",
    "        if x == arr[i]:\n",
    "            index=i\n",
    "            break\n",
    "    return index\n",
    "Linear_Search([2,7,5,3,9],5)\n",
    "            "
   ]
  },
  {
   "cell_type": "markdown",
   "metadata": {},
   "source": [
    "#### Python Program to Implement Binary Search without Recursion"
   ]
  },
  {
   "cell_type": "code",
   "execution_count": 4,
   "metadata": {},
   "outputs": [
    {
     "data": {
      "text/plain": [
       "4"
      ]
     },
     "execution_count": 4,
     "metadata": {},
     "output_type": "execute_result"
    }
   ],
   "source": [
    "def binary_search(arr,x):\n",
    "    l=0\n",
    "    h=len(arr)\n",
    "    index=-1\n",
    "    while l<h:\n",
    "        mid=(l+h)//2\n",
    "        if arr[mid]==x:\n",
    "            index=mid\n",
    "            break\n",
    "        elif arr[mid]>x:\n",
    "            h=mid\n",
    "        else:\n",
    "            l=mid+1\n",
    "    return index\n",
    "binary_search([1,2,3,6,7,8,9],7)"
   ]
  },
  {
   "cell_type": "markdown",
   "metadata": {},
   "source": [
    "#### Python Program to Implement Binary Search with Recursion"
   ]
  },
  {
   "cell_type": "code",
   "execution_count": 5,
   "metadata": {},
   "outputs": [
    {
     "data": {
      "text/plain": [
       "4"
      ]
     },
     "execution_count": 5,
     "metadata": {},
     "output_type": "execute_result"
    }
   ],
   "source": [
    "def binary_search_rec(alist, start, end, key):\n",
    "    \"\"\"Search key in alist[start... end - 1].\"\"\"\n",
    "    if not start < end:\n",
    "        return -1\n",
    " \n",
    "    mid = (start + end)//2\n",
    "    if alist[mid] < key:\n",
    "        return binary_search_rec(alist, mid + 1, end, key)\n",
    "    elif alist[mid] > key:\n",
    "        return binary_search_rec(alist, start, mid, key)\n",
    "    else:\n",
    "        return mid\n",
    "    \n",
    "binary_search_rec([1,3,5,7,9],0,5,9)"
   ]
  },
  {
   "cell_type": "markdown",
   "metadata": {},
   "source": [
    "#### Python Program to Select the ith Largest Element from a List in Expected Linear Time"
   ]
  },
  {
   "cell_type": "code",
   "execution_count": 9,
   "metadata": {},
   "outputs": [
    {
     "data": {
      "text/plain": [
       "7"
      ]
     },
     "execution_count": 9,
     "metadata": {},
     "output_type": "execute_result"
    }
   ],
   "source": [
    "def select_ith_largest(arr,start,end,i):\n",
    "    if start>=end:\n",
    "        return arr[start]\n",
    "    pivot=partion(arr,start,end)\n",
    "    \n",
    "    k=end-pivot\n",
    "    \n",
    "    if i<k:\n",
    "        return select_ith_largest(arr,pivot+1,end,i)\n",
    "    else:\n",
    "        return select_ith_largest(arr,start,pivot,i-k)\n",
    "    \n",
    "    return arr[pivot]\n",
    "    \n",
    "    \n",
    "def partion(arr,start,end):\n",
    "    pivot=arr[start]\n",
    "    i=start+1\n",
    "    j=end-1\n",
    "    while True:\n",
    "        while(i<=j and arr[i]<=pivot):\n",
    "            i=i+1\n",
    "        while(i<=j and arr[j]>=pivot):\n",
    "            j=j-1\n",
    "        if i<=j:\n",
    "            arr[i],arr[j]=arr[j],arr[i]\n",
    "        else:\n",
    "            arr[start],arr[j]=arr[j],arr[start]\n",
    "            return j\n",
    "select_ith_largest([4,6,7,2,9,8,7],0,7,4)                "
   ]
  },
  {
   "cell_type": "markdown",
   "metadata": {},
   "source": [
    "## Sorting"
   ]
  },
  {
   "cell_type": "markdown",
   "metadata": {},
   "source": [
    "#### Python Program to Implement Bubble Sort"
   ]
  },
  {
   "cell_type": "code",
   "execution_count": 11,
   "metadata": {},
   "outputs": [
    {
     "data": {
      "text/plain": [
       "[3, 5, 6, 8, 9]"
      ]
     },
     "execution_count": 11,
     "metadata": {},
     "output_type": "execute_result"
    }
   ],
   "source": [
    "def bubble_sort(arr):\n",
    "    for i in range(len(arr)-1,0,-1):\n",
    "        for j in range(0,i):\n",
    "            if arr[j]>arr[j+1]:\n",
    "                arr[j],arr[j+1]=arr[j+1],arr[j]\n",
    "    return arr\n",
    "bubble_sort([8,5,6,3,9])"
   ]
  },
  {
   "cell_type": "markdown",
   "metadata": {},
   "source": [
    "#### Python Program to Implement Selection Sort"
   ]
  },
  {
   "cell_type": "code",
   "execution_count": 12,
   "metadata": {},
   "outputs": [
    {
     "data": {
      "text/plain": [
       "[3, 5, 6, 8, 9]"
      ]
     },
     "execution_count": 12,
     "metadata": {},
     "output_type": "execute_result"
    }
   ],
   "source": [
    "def selection_sort(arr):\n",
    "    for i in range(0,len(arr)-1):\n",
    "        smallest=i\n",
    "        for j in range(i+1,len(arr)):\n",
    "            if arr[j]<arr[smallest]:\n",
    "                smallest=j\n",
    "        arr[i],arr[smallest]=arr[smallest],arr[i]\n",
    "    return arr\n",
    "selection_sort([8,5,6,3,9])"
   ]
  },
  {
   "cell_type": "markdown",
   "metadata": {},
   "source": [
    "#### Python Program to Implement Insertion Sort"
   ]
  },
  {
   "cell_type": "code",
   "execution_count": 13,
   "metadata": {},
   "outputs": [
    {
     "data": {
      "text/plain": [
       "[3, 5, 6, 8, 9]"
      ]
     },
     "execution_count": 13,
     "metadata": {},
     "output_type": "execute_result"
    }
   ],
   "source": [
    "def insertion_sort(arr):\n",
    "    for i in range(1,len(arr)):\n",
    "        temp=arr[i]\n",
    "        j=i-1\n",
    "        while(j>=0 and temp<arr[j]):\n",
    "            arr[j+1]=arr[j]\n",
    "            j=j-1\n",
    "        arr[j+1]=temp\n",
    "    return arr\n",
    "insertion_sort([8,5,6,3,9])"
   ]
  },
  {
   "cell_type": "markdown",
   "metadata": {},
   "source": [
    "#### Python Program to Implement Merge Sort"
   ]
  },
  {
   "cell_type": "code",
   "execution_count": 16,
   "metadata": {},
   "outputs": [],
   "source": [
    "def merge_sort(arr,start,end):\n",
    "    if end-start>1:\n",
    "        mid=(start+end)//2\n",
    "        merge_sort(arr,start,mid)\n",
    "        merge_sort(arr,mid,end)\n",
    "        merge(arr,start,mid,end)\n",
    "    \n",
    "def merge(arr,start,mid,end):\n",
    "    L=arr[start:mid]\n",
    "    R=arr[mid:end]\n",
    "    k=start\n",
    "    i=0\n",
    "    j=0\n",
    "    while(start+i < mid and mid+j < end ):\n",
    "        if L[i]<R[j]:\n",
    "            i+=1\n",
    "            arr[k]=L[i]\n",
    "        else:\n",
    "            arr[k]=R[j]\n",
    "            j+=1\n",
    "        k+=1\n",
    "    if start+i<mid:\n",
    "        while k<end:\n",
    "            arr[k]=L[i]\n",
    "            k+=1\n",
    "            i+=1\n",
    "    else:\n",
    "        while k<end:\n",
    "            arr[k]=R[i]\n",
    "            k+=1\n",
    "            j+=1\n",
    "    "
   ]
  },
  {
   "cell_type": "code",
   "execution_count": 18,
   "metadata": {},
   "outputs": [
    {
     "data": {
      "text/plain": [
       "[3, 4, 5, 6, 7, 8, 9]"
      ]
     },
     "execution_count": 18,
     "metadata": {},
     "output_type": "execute_result"
    }
   ],
   "source": [
    "arr=[9,8,7,6,5,4,3]\n",
    "merge_sort(arr,0,7)\n",
    "arr"
   ]
  },
  {
   "cell_type": "markdown",
   "metadata": {},
   "source": [
    "#### Python Program to Implement Quicksort"
   ]
  },
  {
   "cell_type": "code",
   "execution_count": 19,
   "metadata": {},
   "outputs": [],
   "source": [
    "def quicksort(alist, start, end):\n",
    "    if end - start > 1:\n",
    "        p = partition(alist, start, end)\n",
    "        quicksort(alist, start, p)\n",
    "        quicksort(alist, p + 1, end)\n",
    " \n",
    " \n",
    "def partition(alist, start, end):\n",
    "    pivot = alist[start]\n",
    "    i = start + 1\n",
    "    j = end - 1\n",
    " \n",
    "    while True:\n",
    "        while (i <= j and alist[i] <= pivot):\n",
    "            i = i + 1\n",
    "        while (i <= j and alist[j] >= pivot):\n",
    "            j = j - 1\n",
    " \n",
    "        if i <= j:\n",
    "            alist[i], alist[j] = alist[j], alist[i]\n",
    "        else:\n",
    "            alist[start], alist[j] = alist[j], alist[start]\n",
    "            return j"
   ]
  },
  {
   "cell_type": "code",
   "execution_count": 20,
   "metadata": {},
   "outputs": [
    {
     "data": {
      "text/plain": [
       "[3, 4, 5, 6, 7, 8, 9]"
      ]
     },
     "execution_count": 20,
     "metadata": {},
     "output_type": "execute_result"
    }
   ],
   "source": [
    "quicksort(arr,0,7)\n",
    "arr"
   ]
  },
  {
   "cell_type": "code",
   "execution_count": null,
   "metadata": {},
   "outputs": [],
   "source": []
  }
 ],
 "metadata": {
  "kernelspec": {
   "display_name": "Python 3",
   "language": "python",
   "name": "python3"
  },
  "language_info": {
   "codemirror_mode": {
    "name": "ipython",
    "version": 3
   },
   "file_extension": ".py",
   "mimetype": "text/x-python",
   "name": "python",
   "nbconvert_exporter": "python",
   "pygments_lexer": "ipython3",
   "version": "3.8.3"
  }
 },
 "nbformat": 4,
 "nbformat_minor": 4
}

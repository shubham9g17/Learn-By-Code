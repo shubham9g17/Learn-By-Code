{
 "cells": [
  {
   "cell_type": "markdown",
   "metadata": {},
   "source": [
    "__Python Program to Check if a Date is Valid and Print the Incremented Date if it is__"
   ]
  },
  {
   "cell_type": "code",
   "execution_count": 14,
   "metadata": {},
   "outputs": [
    {
     "name": "stdout",
     "output_type": "stream",
     "text": [
      "29-feb-2020\n",
      "Valid Date\n",
      "Incremented Date 1-mar-2020\n"
     ]
    }
   ],
   "source": [
    "#For Format 12-jan-2010\n",
    "def get_next_month(cm):\n",
    "    li=[\"jan\",\"feb\",\"mar\",\"apr\",\"may\",\"jun\",\"jul\",\"aug\",\"sep\",\"oct\",\"nov\",\"dec\"]\n",
    "    i=li.index(cm)\n",
    "    return li[i+1]\n",
    "    \n",
    "def check_leap(x):\n",
    "    if(x%4==0 and x%100!=0 or x%400==0):\n",
    "        return True\n",
    "    else:\n",
    "        return False\n",
    "        \n",
    "def check_validity(d,m,c):\n",
    "    if m not in c:\n",
    "        return False    \n",
    "    max_days=c[m]\n",
    "    if d<0 or d>max_days:\n",
    "        return False\n",
    "    return True\n",
    "            \n",
    "def increment_date(d,m,y,c):\n",
    "    if m==\"dec\":\n",
    "        if d==c[m]:\n",
    "            y+=1\n",
    "            m=\"jan\"\n",
    "            d=1\n",
    "        else:\n",
    "            d+=1\n",
    "    else:\n",
    "        if d==c[m]:\n",
    "            m=get_next_month(m)\n",
    "            d=1\n",
    "        else:\n",
    "            d+=1\n",
    "    return(\"-\".join([str(d),m,str(y)]))        \n",
    "    \n",
    "date=input().lower().split(\"-\")\n",
    "day=int(date[0])\n",
    "month=date[1]\n",
    "year=int(date[2])\n",
    "normal_year={\"jan\":31,\"feb\":28,\"mar\":31,\"apr\":30,\"may\":31,\"jun\":30,\"jul\":31,\"aug\":31,\"sep\":30,\"oct\":31,\"nov\":30,\"dec\":31}\n",
    "leap_year={\"jan\":31,\"feb\":29,\"mar\":31,\"apr\":30,\"may\":31,\"jun\":30,\"jul\":31,\"aug\":31,\"sep\":30,\"oct\":31,\"nov\":30,\"dec\":31}\n",
    "if check_leap(year):\n",
    "    current_year=leap_year.copy()\n",
    "else:\n",
    "    current_year=normal_year.copy()\n",
    "if check_validity(day,month,current_year):\n",
    "    print(\"Valid Date\")\n",
    "    next_date=increment_date(day,month,year,current_year)\n",
    "    print(\"Incremented Date\",next_date)\n",
    "else:\n",
    "    print(\"Invalid Date\")\n"
   ]
  },
  {
   "cell_type": "code",
   "execution_count": 17,
   "metadata": {},
   "outputs": [
    {
     "name": "stdout",
     "output_type": "stream",
     "text": [
      "Enter the date: 29/2/2020\n",
      "The incremented date is:  1/3/2020\n"
     ]
    }
   ],
   "source": [
    "# For format dd/mm/yyyy\n",
    "date=input(\"Enter the date: \")\n",
    "dd,mm,yy=date.split('/')\n",
    "dd=int(dd)\n",
    "mm=int(mm)\n",
    "yy=int(yy)\n",
    "if(mm==1 or mm==3 or mm==5 or mm==7 or mm==8 or mm==10 or mm==12):\n",
    "    max1=31\n",
    "elif(mm==4 or mm==6 or mm==9 or mm==11):\n",
    "    max1=30\n",
    "elif(yy%4==0 and yy%100!=0 or yy%400==0):\n",
    "    max1=29\n",
    "else:\n",
    "    max1=28\n",
    "if(mm<1 or mm>12):\n",
    "    print(\"Date is invalid.\")\n",
    "elif(dd<1 or dd>max1):\n",
    "    print(\"Date is invalid.\")\n",
    "elif(dd==max1 and mm!=12):\n",
    "    dd=1\n",
    "    mm=mm+1\n",
    "    print(\"The incremented date is: \",\"/\".join([str(dd),str(mm),str(yy)]))\n",
    "elif(dd==31 and mm==12):\n",
    "    dd=1\n",
    "    mm=1\n",
    "    yy=yy+1\n",
    "    print(\"The incremented date is: \",\"/\".join([str(dd),str(mm),str(yy)]))\n",
    "else:\n",
    "    dd=dd+1\n",
    "    print(\"The incremented date is: \" , \"/\".join([str(dd),str(mm),str(yy)]))"
   ]
  },
  {
   "cell_type": "markdown",
   "metadata": {},
   "source": [
    "__Python Program to Compute Simple Interest Given all the Required Values__"
   ]
  },
  {
   "cell_type": "code",
   "execution_count": 22,
   "metadata": {},
   "outputs": [
    {
     "name": "stdout",
     "output_type": "stream",
     "text": [
      "20.00\n",
      "21.00\n"
     ]
    }
   ],
   "source": [
    "def simple_interest(p,r,t):\n",
    "    return p*r*t/100\n",
    "def compound_interest(p,r,t):\n",
    "    return (p*((1+r/100)**t))-p\n",
    "print(\"{:.2f}\".format(simple_interest(100,10,2)))\n",
    "print(\"{:.2f}\".format(compound_interest(100,10,2)))"
   ]
  },
  {
   "cell_type": "markdown",
   "metadata": {},
   "source": [
    "__Python Program to Check Whether a Given Year is a Leap Year__"
   ]
  },
  {
   "cell_type": "code",
   "execution_count": 24,
   "metadata": {},
   "outputs": [
    {
     "name": "stdout",
     "output_type": "stream",
     "text": [
      "Enter year to be checked:2016\n",
      "The year is a leap year!\n"
     ]
    }
   ],
   "source": [
    "year=int(input(\"Enter year to be checked:\"))\n",
    "if(year%4==0 and year%100!=0 or year%400==0):\n",
    "    print(\"The year is a leap year!\")\n",
    "else:\n",
    "    print(\"The year isn't a leap year!\")"
   ]
  },
  {
   "cell_type": "markdown",
   "metadata": {},
   "source": [
    "__Python Program to Read Height in Centimeters and then Convert the Height to Feet and Inches__"
   ]
  },
  {
   "cell_type": "code",
   "execution_count": 25,
   "metadata": {},
   "outputs": [
    {
     "name": "stdout",
     "output_type": "stream",
     "text": [
      "180\n",
      "5 feet 11 inch\n"
     ]
    }
   ],
   "source": [
    "height=float(input())\n",
    "inches=round(height/2.54)\n",
    "feet=inches//12\n",
    "inch=inches%12\n",
    "print(feet,\"feet\",inch,\"inch\")"
   ]
  },
  {
   "cell_type": "markdown",
   "metadata": {},
   "source": [
    "__Python Program to Take the Temperature in Celcius and Covert it to Farenheit__"
   ]
  },
  {
   "cell_type": "code",
   "execution_count": 2,
   "metadata": {},
   "outputs": [
    {
     "name": "stdout",
     "output_type": "stream",
     "text": [
      "34\n",
      "93.20\n"
     ]
    }
   ],
   "source": [
    "temp=float(input())\n",
    "fahr=1.8*temp+32\n",
    "print(\"{:.2f}\".format(fahr))"
   ]
  },
  {
   "cell_type": "markdown",
   "metadata": {},
   "source": [
    "__Python Program to Compute Prime Factors of an Integer__"
   ]
  },
  {
   "cell_type": "code",
   "execution_count": 45,
   "metadata": {},
   "outputs": [
    {
     "name": "stdout",
     "output_type": "stream",
     "text": [
      "[2, 3, 5]\n",
      "[2, 5]\n",
      "[7]\n",
      "[17]\n",
      "[3, 5]\n"
     ]
    }
   ],
   "source": [
    "def check_prime(n):\n",
    "    if n==2 or n==3:\n",
    "        return True\n",
    "    if n%2==0 or n%3==0:\n",
    "        return False\n",
    "    for i in range(5,int(n**0.5+1)+1,2):\n",
    "        if n%i==0:\n",
    "            return False\n",
    "    return True\n",
    "def compute_prime_factors(n):\n",
    "    l=[]\n",
    "    for i in range(2,n+1):\n",
    "        if n%i==0:\n",
    "            if check_prime(i):\n",
    "                l.append(i)            \n",
    "    return l\n",
    "print(compute_prime_factors(30))\n",
    "print(compute_prime_factors(200))\n",
    "print(compute_prime_factors(49))\n",
    "print(compute_prime_factors(17))\n",
    "print(compute_prime_factors(15))               "
   ]
  },
  {
   "cell_type": "markdown",
   "metadata": {},
   "source": [
    "__Python Program to Generate all the Divisors of an Integer__"
   ]
  },
  {
   "cell_type": "code",
   "execution_count": 42,
   "metadata": {},
   "outputs": [
    {
     "name": "stdout",
     "output_type": "stream",
     "text": [
      "[1, 2, 4, 5, 8, 10, 20, 25, 40, 50, 100, 200]\n",
      "[1, 2, 3, 5, 6, 10, 15, 30]\n",
      "[1, 2, 4, 5, 10, 20]\n"
     ]
    }
   ],
   "source": [
    "def gen_divisors(n):\n",
    "    l=[]\n",
    "    for i in range(1,n//2+1):\n",
    "        if n%i==0:\n",
    "            l.append(i)\n",
    "    l.append(n)        \n",
    "    return l\n",
    "print(gen_divisors(200))\n",
    "print(gen_divisors(30))\n",
    "print(gen_divisors(20))"
   ]
  },
  {
   "cell_type": "markdown",
   "metadata": {},
   "source": [
    "__Python Program to Print Table of a Given Number__"
   ]
  },
  {
   "cell_type": "code",
   "execution_count": 13,
   "metadata": {},
   "outputs": [
    {
     "name": "stdout",
     "output_type": "stream",
     "text": [
      "10\n",
      "10 x 1 = 10\n",
      "10 x 2 = 20\n",
      "10 x 3 = 30\n",
      "10 x 4 = 40\n",
      "10 x 5 = 50\n",
      "10 x 6 = 60\n",
      "10 x 7 = 70\n",
      "10 x 8 = 80\n",
      "10 x 9 = 90\n",
      "10 x 10 = 100\n"
     ]
    }
   ],
   "source": [
    "n=int(input())\n",
    "for i in range(1,11):\n",
    "    print(n,\"x\",i,\"=\",n*i)"
   ]
  },
  {
   "cell_type": "markdown",
   "metadata": {},
   "source": [
    "__Python Program to Print Sum of Negative Numbers, Positive Even Numbers and Positive Odd numbers in a List__"
   ]
  },
  {
   "cell_type": "code",
   "execution_count": 2,
   "metadata": {},
   "outputs": [
    {
     "name": "stdout",
     "output_type": "stream",
     "text": [
      "1 3 5 6 8 -7 -5\n",
      "[-12, 14, 9]\n"
     ]
    }
   ],
   "source": [
    "li=list(map(int,input().split()))\n",
    "sum_n=0\n",
    "sum_pe=0\n",
    "sum_po=0\n",
    "for i in li:\n",
    "    if i>=0:\n",
    "        if i&1:\n",
    "            sum_po+=i\n",
    "        else:\n",
    "            sum_pe+=i\n",
    "    else:\n",
    "        sum_n+=i\n",
    "print([sum_n,sum_pe,sum_po])        \n",
    "            "
   ]
  },
  {
   "cell_type": "markdown",
   "metadata": {},
   "source": [
    "__Python Program to Print Largest Even and Largest Odd Number in a List__"
   ]
  },
  {
   "cell_type": "code",
   "execution_count": 4,
   "metadata": {},
   "outputs": [
    {
     "name": "stdout",
     "output_type": "stream",
     "text": [
      "12 45 78 65\n",
      "65 78\n"
     ]
    }
   ],
   "source": [
    "l=list(map(int,input().split()))\n",
    "l_o=[i for i in l if i%2!=0]\n",
    "l_e=[i for i in l if i%2==0]\n",
    "print(max(l_o),max(l_e))\n"
   ]
  },
  {
   "cell_type": "code",
   "execution_count": 5,
   "metadata": {},
   "outputs": [
    {
     "name": "stdout",
     "output_type": "stream",
     "text": [
      "Enter the number of elements to be in the list:4\n",
      "Element: 23\n",
      "Element: 34\n",
      "Element: 45\n",
      "Element: 56\n",
      "Largest even number: 56\n",
      "Largest odd number 45\n"
     ]
    }
   ],
   "source": [
    "n=int(input(\"Enter the number of elements to be in the list:\"))\n",
    "b=[]\n",
    "for i in range(0,n):\n",
    "    a=int(input(\"Element: \"))\n",
    "    b.append(a)\n",
    "c=[]\n",
    "d=[]\n",
    "for i in b:\n",
    "    if(i%2==0):\n",
    "        c.append(i)\n",
    "    else:\n",
    "        d.append(i)\n",
    "c.sort()\n",
    "d.sort()\n",
    "count1=0\n",
    "count2=0\n",
    "for k in c:\n",
    "    count1=count1+1\n",
    "for j in d:\n",
    "    count2=count2+1\n",
    "print(\"Largest even number:\",c[count1-1])\n",
    "print(\"Largest odd number\",d[count2-1])"
   ]
  },
  {
   "cell_type": "markdown",
   "metadata": {},
   "source": [
    "__Python Program to Form an Integer that has the Number of Digits at Ten’s Place and the Least Significant Digit of the Entered Integer at One’s Place__"
   ]
  },
  {
   "cell_type": "code",
   "execution_count": 6,
   "metadata": {},
   "outputs": [
    {
     "name": "stdout",
     "output_type": "stream",
     "text": [
      "58\n",
      "39\n"
     ]
    }
   ],
   "source": [
    "def form_integer(n):\n",
    "    ones=n%10\n",
    "    tens=0\n",
    "    while(n!=0):\n",
    "        n=n//10\n",
    "        tens+=1\n",
    "    print(tens*10+ones)\n",
    "form_integer(24358)\n",
    "form_integer(129)\n",
    "        "
   ]
  },
  {
   "cell_type": "markdown",
   "metadata": {},
   "source": [
    "__Python Program to Find Those Numbers which are Divisible by 7 and Multiple of 5 in a Given Range of Numbers__"
   ]
  },
  {
   "cell_type": "code",
   "execution_count": 8,
   "metadata": {},
   "outputs": [
    {
     "name": "stdout",
     "output_type": "stream",
     "text": [
      "[420, 455, 490, 525, 560, 595, 630, 665, 700]\n",
      "[35, 70]\n"
     ]
    }
   ],
   "source": [
    "def check_range(low,high):\n",
    "    print ([i for i in range(low,high+1) if i%7==0 and i%5==0])\n",
    "check_range(400,700)\n",
    "check_range(1,100)\n",
    "    "
   ]
  },
  {
   "cell_type": "markdown",
   "metadata": {},
   "source": [
    "__Python Program to Check if a Number is an Armstrong Number__"
   ]
  },
  {
   "cell_type": "code",
   "execution_count": 10,
   "metadata": {},
   "outputs": [
    {
     "name": "stdout",
     "output_type": "stream",
     "text": [
      "Yes\n",
      "No\n"
     ]
    }
   ],
   "source": [
    "def check_armstrong(n):\n",
    "    n1=n\n",
    "    arm=0\n",
    "    while(n!=0):\n",
    "        d=n%10\n",
    "        arm+=d**3\n",
    "        n=n//10\n",
    "    return \"Yes\" if n1==arm else \"No\"  \n",
    "print(check_armstrong(371))\n",
    "print(check_armstrong(13))\n",
    "        "
   ]
  },
  {
   "cell_type": "markdown",
   "metadata": {},
   "source": [
    "__Python Program to Print the Pascal’s triangle for n number of rows given by the user__"
   ]
  },
  {
   "cell_type": "code",
   "execution_count": 20,
   "metadata": {},
   "outputs": [
    {
     "name": "stdout",
     "output_type": "stream",
     "text": [
      "                  1 \n",
      "               1      1 \n",
      "            1      2      1 \n",
      "         1      3      3      1 \n",
      "\n",
      "                        1 \n",
      "                     1      1 \n",
      "                  1      2      1 \n",
      "               1      3      3      1 \n",
      "            1      4      6      4      1 \n",
      "         1      5     10     10      5      1 \n",
      "\n"
     ]
    }
   ],
   "source": [
    "def create_pascal(n):\n",
    "    a=[]\n",
    "    for i in range(n):\n",
    "        a.append([])\n",
    "        a[i].append(1)\n",
    "        for j in range(1,i):\n",
    "            a[i].append(a[i-1][j-1]+a[i-1][j])\n",
    "        if(n!=0):\n",
    "            a[i].append(1)\n",
    "    for i in range(n):\n",
    "        print(\"   \"*(n-i),end=\" \",sep=\" \")\n",
    "        for j in range(0,i+1):\n",
    "            print('{0:6}'.format(a[i][j]),end=\" \",sep=\" \")\n",
    "        print()\n",
    "    print()    \n",
    "create_pascal(4)\n",
    "create_pascal(6)"
   ]
  },
  {
   "cell_type": "markdown",
   "metadata": {},
   "source": [
    "__Python Program to Check if a Number is a Perfect Number__"
   ]
  },
  {
   "cell_type": "code",
   "execution_count": 22,
   "metadata": {},
   "outputs": [
    {
     "name": "stdout",
     "output_type": "stream",
     "text": [
      "True\n",
      "False\n"
     ]
    }
   ],
   "source": [
    "def perfect_number(n):\n",
    "    l=[]\n",
    "    for i in range(1,int(n**0.5+1)+1):\n",
    "        if n%i==0:\n",
    "            l.append(i)\n",
    "    return True if sum(l)==n else False\n",
    "print(perfect_number(6))\n",
    "print(perfect_number(25))"
   ]
  },
  {
   "cell_type": "markdown",
   "metadata": {},
   "source": [
    "__Python Program to Check if a Number is a Strong Number__"
   ]
  },
  {
   "cell_type": "code",
   "execution_count": 23,
   "metadata": {},
   "outputs": [
    {
     "name": "stdout",
     "output_type": "stream",
     "text": [
      "yes\n",
      "No\n"
     ]
    }
   ],
   "source": [
    "def factorial(x):\n",
    "    fac=1\n",
    "    for i in range(2,x+1):\n",
    "        fac=fac*i\n",
    "    return fac\n",
    "def check_strong(n):\n",
    "    n1=n\n",
    "    total=0\n",
    "    while(n!=0):\n",
    "        d=n%10\n",
    "        total+=factorial(d)\n",
    "        n=n//10\n",
    "    return \"yes\" if n1==total else \"No\"\n",
    "print(check_strong(145))\n",
    "print(check_strong(234))\n",
    "        "
   ]
  },
  {
   "cell_type": "markdown",
   "metadata": {},
   "source": [
    "__Python Program to Check If Two Numbers are Amicable Numbers__"
   ]
  },
  {
   "cell_type": "code",
   "execution_count": 74,
   "metadata": {},
   "outputs": [
    {
     "name": "stdout",
     "output_type": "stream",
     "text": [
      "Enter number 1: 220\n",
      "Enter number 2: 284\n",
      "Amicable!\n"
     ]
    }
   ],
   "source": [
    "x=int(input('Enter number 1: '))\n",
    "y=int(input('Enter number 2: '))\n",
    "sum1=0\n",
    "sum2=0\n",
    "for i in range(1,x):\n",
    "    if x%i==0:\n",
    "        sum1+=i\n",
    "for j in range(1,y):\n",
    "    if y%j==0:\n",
    "        sum2+=j\n",
    "if(sum1==y and sum2==x):\n",
    "    print('Amicable!')\n",
    "else:\n",
    "    print('Not Amicable!')"
   ]
  },
  {
   "cell_type": "markdown",
   "metadata": {},
   "source": [
    "__Python Program to Find the GCD and LCM of Two Numbers__"
   ]
  },
  {
   "cell_type": "code",
   "execution_count": 2,
   "metadata": {},
   "outputs": [
    {
     "data": {
      "text/plain": [
       "(1, 1035)"
      ]
     },
     "execution_count": 2,
     "metadata": {},
     "output_type": "execute_result"
    }
   ],
   "source": [
    "def divisors(n):\n",
    "    l=[]\n",
    "    for i in range(1,n+1):\n",
    "        if n%i==0:\n",
    "            l.append(i)\n",
    "    return l\n",
    "def find_gcd_lcm(x,y):\n",
    "    if x > y:\n",
    "        d=divisors(y)\n",
    "        no=x\n",
    "    else:\n",
    "        d=divisors(x)\n",
    "        no=y\n",
    "    for i in d[::-1]:\n",
    "        if no%i==0:\n",
    "            break\n",
    "    return i,x*y//i\n",
    "find_gcd_lcm(45,23)\n",
    "        \n",
    "        "
   ]
  },
  {
   "cell_type": "markdown",
   "metadata": {},
   "source": [
    "__Python Program to Compute a Polynomial Equation given that the Coefficients of the Polynomial are stored in a List__"
   ]
  },
  {
   "cell_type": "code",
   "execution_count": 73,
   "metadata": {},
   "outputs": [
    {
     "name": "stdout",
     "output_type": "stream",
     "text": [
      "Enter the coefficients of the form ax^3 + bx^2 + cx + d\n",
      "Enter coefficient:3\n",
      "Enter coefficient:4\n",
      "Enter coefficient:5\n",
      "Enter coefficient:6\n",
      "Enter the value of x:2\n",
      "The value of the polynomial is: 56.0\n"
     ]
    }
   ],
   "source": [
    "import math\n",
    "print(\"Enter the coefficients of the form ax^3 + bx^2 + cx + d\")\n",
    "lst=[]\n",
    "for i in range(0,4):\n",
    "    a=int(input(\"Enter coefficient:\"))\n",
    "    lst.append(a)\n",
    "x=int(input(\"Enter the value of x:\"))\n",
    "sum1=0\n",
    "j=3\n",
    "for i in range(0,3):\n",
    "    while(j>0):\n",
    "        sum1=sum1+(lst[i]*math.pow(x,j))\n",
    "        break\n",
    "    j=j-1\n",
    "sum1=sum1+lst[3]\n",
    "print(\"The value of the polynomial is:\",sum1)"
   ]
  },
  {
   "cell_type": "markdown",
   "metadata": {},
   "source": [
    "__Python Program to Find the Area of a Triangle Given All Three Sides__"
   ]
  },
  {
   "cell_type": "code",
   "execution_count": 72,
   "metadata": {},
   "outputs": [
    {
     "name": "stdout",
     "output_type": "stream",
     "text": [
      "Enter first side: 6\n",
      "Enter second side: 8\n",
      "Enter third side: 10\n",
      "Area of the triangle is:  24.0\n"
     ]
    }
   ],
   "source": [
    "import math\n",
    "a=int(input(\"Enter first side: \"))\n",
    "b=int(input(\"Enter second side: \"))\n",
    "c=int(input(\"Enter third side: \"))\n",
    "s=(a+b+c)/2\n",
    "area=math.sqrt(s*(s-a)*(s-b)*(s-c))\n",
    "print(\"Area of the triangle is: \",round(area,2))"
   ]
  },
  {
   "cell_type": "markdown",
   "metadata": {},
   "source": [
    "__Python Program to Print all the Prime Numbers within a Given Range__"
   ]
  },
  {
   "cell_type": "code",
   "execution_count": 70,
   "metadata": {},
   "outputs": [
    {
     "name": "stdout",
     "output_type": "stream",
     "text": [
      "Enter upper limit: 100\n",
      "2  3  5  7  11  13  17  19  23  29  31  37  41  43  47  53  59  61  67  71  73  79  83  89  97  "
     ]
    }
   ],
   "source": [
    "r=int(input(\"Enter upper limit: \"))\n",
    "for a in range(2,r+1):\n",
    "    k=0\n",
    "    for i in range(2,a//2+1):\n",
    "        if(a%i==0):\n",
    "            k=k+1\n",
    "    if(k<=0):\n",
    "        print(a,end=\"  \")"
   ]
  },
  {
   "cell_type": "markdown",
   "metadata": {},
   "source": [
    "__Python Program to Print Numbers in a Range (1,upper) Without Using any Loops__"
   ]
  },
  {
   "cell_type": "code",
   "execution_count": 71,
   "metadata": {},
   "outputs": [
    {
     "name": "stdout",
     "output_type": "stream",
     "text": [
      "Enter upper limit: 5\n",
      "1  2  3  4  5  "
     ]
    }
   ],
   "source": [
    "def printno(upper):\n",
    "    if(upper>0):\n",
    "        printno(upper-1)\n",
    "        print(upper,end=\"  \")\n",
    "upper=int(input(\"Enter upper limit: \"))\n",
    "printno(upper)"
   ]
  },
  {
   "cell_type": "markdown",
   "metadata": {},
   "source": [
    "__Python Program to Find the Sum of First N Natural Numbers__"
   ]
  },
  {
   "cell_type": "code",
   "execution_count": 64,
   "metadata": {},
   "outputs": [
    {
     "name": "stdout",
     "output_type": "stream",
     "text": [
      "Enter a number: 5\n",
      "The sum of first n natural numbers is 15\n"
     ]
    }
   ],
   "source": [
    "n=int(input(\"Enter a number: \"))\n",
    "sum1 = 0\n",
    "while(n > 0):\n",
    "    sum1=sum1+n\n",
    "    n=n-1\n",
    "print(\"The sum of first n natural numbers is\",sum1)"
   ]
  },
  {
   "cell_type": "markdown",
   "metadata": {},
   "source": [
    "__Python Program to Find the Sum of the Series: 1 + 1/2 + 1/3 + ….. + 1/N__"
   ]
  },
  {
   "cell_type": "code",
   "execution_count": 62,
   "metadata": {},
   "outputs": [
    {
     "name": "stdout",
     "output_type": "stream",
     "text": [
      "Enter the number of terms: 3\n",
      "The sum of series is 1.83\n"
     ]
    }
   ],
   "source": [
    "n=int(input(\"Enter the number of terms: \"))\n",
    "sum1=0\n",
    "for i in range(1,n+1):\n",
    "    sum1=sum1+(1/i)\n",
    "print(\"The sum of series is\",round(sum1,2))"
   ]
  },
  {
   "cell_type": "markdown",
   "metadata": {},
   "source": [
    "__Python Program to Find the Sum of the Series: 1 + x^2/2 + x^3/3 + … x^n/n__"
   ]
  },
  {
   "cell_type": "code",
   "execution_count": 63,
   "metadata": {},
   "outputs": [
    {
     "name": "stdout",
     "output_type": "stream",
     "text": [
      "Enter the number of terms:3\n",
      "Enter the value of x:2\n",
      "The sum of series is 5.67\n"
     ]
    }
   ],
   "source": [
    "n=int(input(\"Enter the number of terms:\"))\n",
    "x=int(input(\"Enter the value of x:\"))\n",
    "sum1=1\n",
    "for i in range(2,n+1):\n",
    "    sum1=sum1+((x**i)/i)\n",
    "print(\"The sum of series is\",round(sum1,2))"
   ]
  },
  {
   "cell_type": "markdown",
   "metadata": {},
   "source": [
    "__Python Program to Compute the Value of Euler’s Number e. Use the Formula: e = 1 + 1/1! + 1/2! + …… 1/n!__"
   ]
  },
  {
   "cell_type": "code",
   "execution_count": 60,
   "metadata": {},
   "outputs": [
    {
     "name": "stdout",
     "output_type": "stream",
     "text": [
      "Enter the number of terms: 5\n",
      "The sum of series is 2.72\n"
     ]
    }
   ],
   "source": [
    "import math\n",
    "n=int(input(\"Enter the number of terms: \"))\n",
    "sum1=1\n",
    "for i in range(1,n+1):\n",
    "    sum1=sum1+(1/math.factorial(i))\n",
    "print(\"The sum of series is\",round(sum1,2))"
   ]
  },
  {
   "cell_type": "markdown",
   "metadata": {},
   "source": [
    "__Python Program to Determine all Pythagorean Triplets in the Range__"
   ]
  },
  {
   "cell_type": "code",
   "execution_count": 59,
   "metadata": {},
   "outputs": [
    {
     "name": "stdout",
     "output_type": "stream",
     "text": [
      "Enter upper limit:50\n",
      "3 4 5\n",
      "8 6 10\n",
      "5 12 13\n",
      "15 8 17\n",
      "12 16 20\n",
      "7 24 25\n",
      "24 10 26\n",
      "21 20 29\n",
      "16 30 34\n",
      "9 40 41\n"
     ]
    }
   ],
   "source": [
    "limit=int(input(\"Enter upper limit:\"))\n",
    "c=0\n",
    "m=2\n",
    "while(c<limit):\n",
    "    for n in range(1,m+1):\n",
    "        a=m*m-n*n\n",
    "        b=2*m*n\n",
    "        c=m*m+n*n\n",
    "        if(c>limit):\n",
    "            break\n",
    "        if(a==0 or b==0 or c==0):\n",
    "            break\n",
    "        print(a,b,c)\n",
    "    m=m+1"
   ]
  },
  {
   "cell_type": "markdown",
   "metadata": {},
   "source": [
    "__Python Program to Search the Number of Times a Particular Number Occurs in a List__"
   ]
  },
  {
   "cell_type": "code",
   "execution_count": 58,
   "metadata": {},
   "outputs": [
    {
     "name": "stdout",
     "output_type": "stream",
     "text": [
      "Enter number of elements:5\n",
      "Enter element:3\n",
      "Enter element:2\n",
      "Enter element:3\n",
      "Enter element:2\n",
      "Enter element:2\n",
      "Enter the number to be counted:2\n",
      "Number of times 2 appears is 3\n"
     ]
    }
   ],
   "source": [
    "a=[]\n",
    "n=int(input(\"Enter number of elements:\"))\n",
    "for i in range(1,n+1):\n",
    "    b=int(input(\"Enter element:\"))\n",
    "    a.append(b)\n",
    "k=0\n",
    "num=int(input(\"Enter the number to be counted:\"))\n",
    "for j in a:\n",
    "    if(j==num):\n",
    "        k=k+1\n",
    "print(\"Number of times\",num,\"appears is\",k)"
   ]
  },
  {
   "cell_type": "markdown",
   "metadata": {},
   "source": [
    "__Python Program to Count Set Bits in a Number__"
   ]
  },
  {
   "cell_type": "code",
   "execution_count": 57,
   "metadata": {},
   "outputs": [
    {
     "name": "stdout",
     "output_type": "stream",
     "text": [
      "Enter n: 15\n",
      "Number of set bits: 4\n"
     ]
    }
   ],
   "source": [
    "def count_set_bits(n):\n",
    "    count = 0\n",
    "    while n:\n",
    "        n &= n - 1\n",
    "        count += 1\n",
    "    return count\n",
    " \n",
    "n = int(input('Enter n: '))\n",
    "print('Number of set bits:', count_set_bits(n))"
   ]
  },
  {
   "cell_type": "markdown",
   "metadata": {},
   "source": [
    "__Python Program to Find Whether a Number is a Power of Two__"
   ]
  },
  {
   "cell_type": "code",
   "execution_count": 56,
   "metadata": {},
   "outputs": [
    {
     "name": "stdout",
     "output_type": "stream",
     "text": [
      "Enter a number: 16\n",
      "16 is a power of two.\n"
     ]
    }
   ],
   "source": [
    "def is_power_of_two(n):\n",
    "    \"\"\"Return True if n is a power of two.\"\"\"\n",
    "    if n <= 0:\n",
    "        return False\n",
    "    else:\n",
    "        return n & (n - 1) == 0\n",
    " \n",
    " \n",
    "n = int(input('Enter a number: '))\n",
    " \n",
    "if is_power_of_two(n):\n",
    "    print('{} is a power of two.'.format(n))\n",
    "else:\n",
    "    print('{} is not a power of two.'.format(n))"
   ]
  },
  {
   "cell_type": "markdown",
   "metadata": {},
   "source": [
    "__Python Program to Clear the Rightmost Set Bit of a Number__"
   ]
  },
  {
   "cell_type": "code",
   "execution_count": 55,
   "metadata": {},
   "outputs": [
    {
     "name": "stdout",
     "output_type": "stream",
     "text": [
      "Enter a number: 10\n",
      "n with its rightmost set bit cleared equals: 8\n"
     ]
    }
   ],
   "source": [
    "def clear_rightmost_set_bit(n):\n",
    "    \"\"\"Clear rightmost set bit of n and return it.\"\"\"\n",
    "    return n & (n - 1)\n",
    " \n",
    "n = int(input('Enter a number: '))\n",
    "ans = clear_rightmost_set_bit(n)\n",
    "print('n with its rightmost set bit cleared equals:', ans)"
   ]
  },
  {
   "cell_type": "markdown",
   "metadata": {},
   "source": [
    "__Python Program to Convert Gray Code to Binary__"
   ]
  },
  {
   "cell_type": "code",
   "execution_count": 54,
   "metadata": {},
   "outputs": [
    {
     "name": "stdout",
     "output_type": "stream",
     "text": [
      "Enter Gray codeword: 11011\n",
      "In binary: 10010\n"
     ]
    }
   ],
   "source": [
    "def gray_to_binary(n):\n",
    "    \"\"\"Convert Gray codeword to binary and return it.\"\"\"\n",
    "    n = int(n, 2) # convert to int\n",
    " \n",
    "    mask = n\n",
    "    while mask != 0:\n",
    "        mask >>= 1\n",
    "        n ^= mask\n",
    " \n",
    "    # bin(n) returns n's binary representation with a '0b' prefixed\n",
    "    # the slice operation is to remove the prefix\n",
    "    return bin(n)[2:]\n",
    " \n",
    "g = input('Enter Gray codeword: ')\n",
    "b = gray_to_binary(g)\n",
    "print('In binary:', b)"
   ]
  },
  {
   "cell_type": "markdown",
   "metadata": {},
   "source": [
    "__Python Program to Convert Binary to Gray Code__"
   ]
  },
  {
   "cell_type": "code",
   "execution_count": 53,
   "metadata": {},
   "outputs": [
    {
     "name": "stdout",
     "output_type": "stream",
     "text": [
      "Enter binary number: 10010\n",
      "Gray codeword: 11011\n"
     ]
    }
   ],
   "source": [
    "def binary_to_gray(n):\n",
    "    \"\"\"Convert Binary to Gray codeword and return it.\"\"\"\n",
    "    n = int(n, 2) # convert to int\n",
    "    n ^= (n >> 1)\n",
    " \n",
    "    # bin(n) returns n's binary representation with a '0b' prefixed\n",
    "    # the slice operation is to remove the prefix\n",
    "    return bin(n)[2:]\n",
    " \n",
    "g = input('Enter binary number: ')\n",
    "b = binary_to_gray(g)\n",
    "print('Gray codeword:', b)"
   ]
  },
  {
   "cell_type": "code",
   "execution_count": null,
   "metadata": {},
   "outputs": [],
   "source": []
  }
 ],
 "metadata": {
  "kernelspec": {
   "display_name": "Python 3",
   "language": "python",
   "name": "python3"
  },
  "language_info": {
   "codemirror_mode": {
    "name": "ipython",
    "version": 3
   },
   "file_extension": ".py",
   "mimetype": "text/x-python",
   "name": "python",
   "nbconvert_exporter": "python",
   "pygments_lexer": "ipython3",
   "version": "3.8.3"
  }
 },
 "nbformat": 4,
 "nbformat_minor": 4
}

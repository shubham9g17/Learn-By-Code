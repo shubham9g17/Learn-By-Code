{
 "cells": [
  {
   "cell_type": "markdown",
   "metadata": {},
   "source": [
    "# Dictionary"
   ]
  },
  {
   "cell_type": "markdown",
   "metadata": {},
   "source": [
    "__Python Program to add a Key-Value Pair in a Dictionary__"
   ]
  },
  {
   "cell_type": "code",
   "execution_count": 1,
   "metadata": {},
   "outputs": [
    {
     "name": "stdout",
     "output_type": "stream",
     "text": [
      "{1: 'A'}\n"
     ]
    }
   ],
   "source": [
    "key=1\n",
    "Value=\"A\"\n",
    "d={}\n",
    "d.update({key:Value}) \n",
    "print(d) \n"
   ]
  },
  {
   "cell_type": "code",
   "execution_count": 2,
   "metadata": {},
   "outputs": [
    {
     "name": "stdout",
     "output_type": "stream",
     "text": [
      "{1: 'A'}\n"
     ]
    }
   ],
   "source": [
    "d1={}\n",
    "d1[key]= Value\n",
    "print(d1) \n"
   ]
  },
  {
   "cell_type": "markdown",
   "metadata": {},
   "source": [
    "__Python Program to concatenate two Dictionary into one__"
   ]
  },
  {
   "cell_type": "code",
   "execution_count": 3,
   "metadata": {},
   "outputs": [
    {
     "name": "stdout",
     "output_type": "stream",
     "text": [
      "{1: 'a', 2: 'B', 3: 'C'}\n"
     ]
    }
   ],
   "source": [
    "d1={1:\"A\",2:\"B\"}\n",
    "d2={3:\"C\",1:\"a\"}\n",
    "d1.update(d2)\n",
    "print(d1) "
   ]
  },
  {
   "cell_type": "code",
   "execution_count": 4,
   "metadata": {},
   "outputs": [
    {
     "name": "stdout",
     "output_type": "stream",
     "text": [
      "{1: 'a', 2: 'B', 3: 'C'}\n"
     ]
    }
   ],
   "source": [
    "d1={1:\"A\",2:\"B\"}\n",
    "d2={3:\"C\",1:\"a\"}\n",
    "d={**d1, **d2}\n",
    "print(d) "
   ]
  },
  {
   "cell_type": "markdown",
   "metadata": {},
   "source": [
    "__Python Program to check whether a given key exist or not in an dictionary__"
   ]
  },
  {
   "cell_type": "code",
   "execution_count": 5,
   "metadata": {},
   "outputs": [
    {
     "name": "stdout",
     "output_type": "stream",
     "text": [
      "A\n"
     ]
    }
   ],
   "source": [
    "d={1:\"A\",2:\"B\"}\n",
    "key=1\n",
    "if key in d.keys() :\n",
    "    print(d[key]) \n",
    "else:\n",
    "    print(\"not exist\") "
   ]
  },
  {
   "cell_type": "code",
   "execution_count": 6,
   "metadata": {},
   "outputs": [
    {
     "name": "stdout",
     "output_type": "stream",
     "text": [
      "Not Exist\n"
     ]
    }
   ],
   "source": [
    "d={1:\"A\"}\n",
    "key=2\n",
    "print(d.get(key,\"Not Exist\")) \n",
    "      "
   ]
  },
  {
   "cell_type": "markdown",
   "metadata": {},
   "source": [
    "__Python Program to generate a dictionary that contains numbers from 1 to n in the form of (x:x*x)__"
   ]
  },
  {
   "cell_type": "code",
   "execution_count": 7,
   "metadata": {},
   "outputs": [
    {
     "name": "stdout",
     "output_type": "stream",
     "text": [
      "{1: 1, 2: 4, 3: 9, 4: 16, 5: 25, 6: 36, 7: 49, 8: 64, 9: 81, 10: 100, 11: 121, 12: 144, 13: 169, 14: 196, 15: 225, 16: 256, 17: 289, 18: 324, 19: 361, 20: 400, 21: 441, 22: 484, 23: 529, 24: 576, 25: 625, 26: 676, 27: 729, 28: 784, 29: 841, 30: 900}\n"
     ]
    }
   ],
   "source": [
    "n=30\n",
    "d={x:x*x for x in range(1,n+1)}\n",
    "print(d) "
   ]
  },
  {
   "cell_type": "markdown",
   "metadata": {},
   "source": [
    "__Python Program to delete a key from dictionary__"
   ]
  },
  {
   "cell_type": "code",
   "execution_count": 8,
   "metadata": {},
   "outputs": [
    {
     "name": "stdout",
     "output_type": "stream",
     "text": [
      "deleted\n",
      "deleted\n",
      "deleted\n",
      "deleted\n",
      "not in dictionary \n",
      "Updated Dictionary \n",
      "{2: 'B', 3: 'C', 4: 'D', 6: 'F', 7: 'G', 8: 'H', 10: 'J', 11: 'K', 12: 'L', 13: 'M', 14: 'N', 15: 'O', 16: 'P', 17: 'Q', 18: 'R', 19: 'S', 20: 'T', 21: 'U', 22: 'V', 24: 'X', 25: 'Y', 26: 'Z'}\n"
     ]
    }
   ],
   "source": [
    "d={i-64:chr(i) for i in range(65,91)}\n",
    "key=[1,5,9,23,34]\n",
    "for k in key:\n",
    "    if k in d.keys():\n",
    "        del d[k]\n",
    "        print(\"deleted\") \n",
    "    else:\n",
    "        print(\"not in dictionary \") \n",
    "print(\"Updated Dictionary \") \n",
    "print(d) "
   ]
  },
  {
   "cell_type": "code",
   "execution_count": 9,
   "metadata": {},
   "outputs": [
    {
     "name": "stdout",
     "output_type": "stream",
     "text": [
      "{'A': 1, 'B': 2}\n"
     ]
    }
   ],
   "source": [
    "#print dictionary form of object of an class\n",
    "class A(object):  \n",
    "     def __init__(self):  \n",
    "        self.A=1  \n",
    "        self.B=2  \n",
    "obj=A()  \n",
    "print(obj.__dict__)"
   ]
  },
  {
   "cell_type": "markdown",
   "metadata": {},
   "source": [
    "__Python Program to map two list into a dictionary__"
   ]
  },
  {
   "cell_type": "code",
   "execution_count": 10,
   "metadata": {},
   "outputs": [
    {
     "name": "stdout",
     "output_type": "stream",
     "text": [
      "{'a': 1, 'b': 2, 'c': 3}\n"
     ]
    }
   ],
   "source": [
    "key=[\"a\",\"b\",\"c\"]\n",
    "value=[1,2,3]\n",
    "d=dict(zip(key, value))\n",
    "print(d) "
   ]
  },
  {
   "cell_type": "markdown",
   "metadata": {},
   "source": [
    "__Python Program to count the frequency of words appearing in a string__"
   ]
  },
  {
   "cell_type": "code",
   "execution_count": 11,
   "metadata": {},
   "outputs": [
    {
     "name": "stdout",
     "output_type": "stream",
     "text": [
      "{'sg': 3, 'success': 2, 'hardwork': 1}\n"
     ]
    }
   ],
   "source": [
    "s=\"sg sg success success hardwork sg\"\n",
    "d={}\n",
    "for k in s.split() :\n",
    "    if k not in d:\n",
    "        d[k]=1\n",
    "    else:\n",
    "        d[k]+=1\n",
    "        \n",
    "print(d) "
   ]
  },
  {
   "cell_type": "code",
   "execution_count": 12,
   "metadata": {},
   "outputs": [
    {
     "name": "stdout",
     "output_type": "stream",
     "text": [
      "{'sg': 3, 'success': 2, 'hardwork': 1}\n"
     ]
    }
   ],
   "source": [
    "l=s.split()\n",
    "word_count=[l.count(i) for i in l]\n",
    "print(dict(zip(l,word_count))) \n"
   ]
  }
 ],
 "metadata": {
  "kernelspec": {
   "display_name": "Python 3",
   "language": "python",
   "name": "python3"
  },
  "language_info": {
   "codemirror_mode": {
    "name": "ipython",
    "version": 3
   },
   "file_extension": ".py",
   "mimetype": "text/x-python",
   "name": "python",
   "nbconvert_exporter": "python",
   "pygments_lexer": "ipython3",
   "version": "3.8.3"
  }
 },
 "nbformat": 4,
 "nbformat_minor": 4
}

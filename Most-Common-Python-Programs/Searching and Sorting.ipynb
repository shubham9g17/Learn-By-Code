{
 "cells": [
  {
   "cell_type": "markdown",
   "metadata": {},
   "source": [
    "#### Python Program to Implement Linear Search"
   ]
  },
  {
   "cell_type": "code",
   "execution_count": 1,
   "metadata": {},
   "outputs": [
    {
     "name": "stdout",
     "output_type": "stream",
     "text": [
      "Enter the list of numbers: 1 2 3 4 5 8 7 6 0\n",
      "The number to search for: 7\n",
      "7 was found at index 6.\n"
     ]
    }
   ],
   "source": [
    "def linear_search(alist, key):\n",
    "    \"\"\"Return index of key in alist. Return -1 if key not present.\"\"\"\n",
    "    for i in range(len(alist)):\n",
    "        if alist[i] == key:\n",
    "            return i\n",
    "    return -1\n",
    " \n",
    "alist = input('Enter the list of numbers: ')\n",
    "alist = alist.split()\n",
    "alist = [int(x) for x in alist]\n",
    "key = int(input('The number to search for: '))\n",
    " \n",
    "index = linear_search(alist, key)\n",
    "if index < 0:\n",
    "    print('{} was not found.'.format(key))\n",
    "else:\n",
    "    print('{} was found at index {}.'.format(key, index))"
   ]
  },
  {
   "cell_type": "markdown",
   "metadata": {},
   "source": [
    "#### Python Program to Implement Binary Search without Recursion"
   ]
  },
  {
   "cell_type": "code",
   "execution_count": 2,
   "metadata": {},
   "outputs": [
    {
     "name": "stdout",
     "output_type": "stream",
     "text": [
      "Enter the sorted list of numbers: 3 4 5 8 8 9 10\n",
      "The number to search for: 9\n",
      "9 was found at index 5.\n"
     ]
    }
   ],
   "source": [
    "def binary_search(alist, key):\n",
    "    \"\"\"Search key in alist[start... end - 1].\"\"\"\n",
    "    start = 0\n",
    "    end = len(alist)\n",
    "    while start < end:\n",
    "        mid = (start + end)//2\n",
    "        if alist[mid] > key:\n",
    "            end = mid\n",
    "        elif alist[mid] < key:\n",
    "            start = mid + 1\n",
    "        else:\n",
    "            return mid\n",
    "    return -1\n",
    " \n",
    "alist = input('Enter the sorted list of numbers: ')\n",
    "alist = alist.split()\n",
    "alist = [int(x) for x in alist]\n",
    "key = int(input('The number to search for: '))\n",
    " \n",
    "index = binary_search(alist, key)\n",
    "if index < 0:\n",
    "    print('{} was not found.'.format(key))\n",
    "else:\n",
    "    print('{} was found at index {}.'.format(key, index))"
   ]
  },
  {
   "cell_type": "markdown",
   "metadata": {},
   "source": [
    "#### Python Program to Implement Binary Search with Recursion"
   ]
  },
  {
   "cell_type": "code",
   "execution_count": 3,
   "metadata": {},
   "outputs": [
    {
     "name": "stdout",
     "output_type": "stream",
     "text": [
      "Enter the sorted list of numbers: 2 3 4 5 6 7\n",
      "The number to search for: 4\n",
      "4 was found at index 2.\n"
     ]
    }
   ],
   "source": [
    "def binary_search(alist, start, end, key):\n",
    "    \"\"\"Search key in alist[start... end - 1].\"\"\"\n",
    "    if not start < end:\n",
    "        return -1\n",
    " \n",
    "    mid = (start + end)//2\n",
    "    if alist[mid] < key:\n",
    "        return binary_search(alist, mid + 1, end, key)\n",
    "    elif alist[mid] > key:\n",
    "        return binary_search(alist, start, mid, key)\n",
    "    else:\n",
    "        return mid\n",
    " \n",
    " \n",
    "alist = input('Enter the sorted list of numbers: ')\n",
    "alist = alist.split()\n",
    "alist = [int(x) for x in alist]\n",
    "key = int(input('The number to search for: '))\n",
    " \n",
    "index = binary_search(alist, 0, len(alist), key)\n",
    "if index < 0:\n",
    "    print('{} was not found.'.format(key))\n",
    "else:\n",
    "    print('{} was found at index {}.'.format(key, index))"
   ]
  },
  {
   "cell_type": "markdown",
   "metadata": {},
   "source": [
    "#### Python Program to Select the ith Smallest Element from a List in Expected Linear Time"
   ]
  },
  {
   "cell_type": "code",
   "execution_count": 4,
   "metadata": {},
   "outputs": [
    {
     "name": "stdout",
     "output_type": "stream",
     "text": [
      "Enter the list of numbers: 4 3 2 5 6 8 9 1 7\n",
      "The ith smallest element will be found. Enter i: 5\n",
      "Result: 5.\n"
     ]
    }
   ],
   "source": [
    "def select(alist, start, end, i):\n",
    "    \"\"\"Find ith smallest element in alist[start... end-1].\"\"\"\n",
    "    if end - start <= 1:\n",
    "        return alist[start]\n",
    "    pivot = partition(alist, start, end)\n",
    " \n",
    "    # number of elements in alist[start... pivot]\n",
    "    k = pivot - start + 1\n",
    " \n",
    "    if i < k:\n",
    "        return select(alist, start, pivot, i)\n",
    "    elif i > k:\n",
    "        return select(alist, pivot + 1, end, i - k)\n",
    " \n",
    "    return alist[pivot]\n",
    " \n",
    "def partition(alist, start, end):\n",
    "    pivot = alist[start]\n",
    "    i = start + 1\n",
    "    j = end - 1\n",
    " \n",
    "    while True:\n",
    "        while (i <= j and alist[i] <= pivot):\n",
    "            i = i + 1\n",
    "        while (i <= j and alist[j] >= pivot):\n",
    "            j = j - 1\n",
    " \n",
    "        if i <= j:\n",
    "            alist[i], alist[j] = alist[j], alist[i]\n",
    "        else:\n",
    "            alist[start], alist[j] = alist[j], alist[start]\n",
    "            return j\n",
    " \n",
    " \n",
    "alist = input('Enter the list of numbers: ')\n",
    "alist = alist.split()\n",
    "alist = [int(x) for x in alist]\n",
    "i = int(input('The ith smallest element will be found. Enter i: '))\n",
    " \n",
    "ith_smallest_item = select(alist, 0, len(alist), i)\n",
    "print('Result: {}.'.format(ith_smallest_item))"
   ]
  },
  {
   "cell_type": "markdown",
   "metadata": {},
   "source": [
    "#### Python Program to Select the ith Largest Element from a List in Expected Linear Time"
   ]
  },
  {
   "cell_type": "code",
   "execution_count": 5,
   "metadata": {},
   "outputs": [
    {
     "name": "stdout",
     "output_type": "stream",
     "text": [
      "Enter the list of numbers: 1 2 3 4 5 6 7 8 9\n",
      "The ith smallest element will be found. Enter i: 3\n",
      "Result: 7.\n"
     ]
    }
   ],
   "source": [
    "def select(alist, start, end, i):\n",
    "    \"\"\"Find ith largest element in alist[start... end-1].\"\"\"\n",
    "    if end - start <= 1:\n",
    "        return alist[start]\n",
    "    pivot = partition(alist, start, end)\n",
    " \n",
    "    # number of elements in alist[pivot... end - 1]\n",
    "    k = end - pivot\n",
    " \n",
    "    if i < k:\n",
    "        return select(alist, pivot + 1, end, i)\n",
    "    elif i > k:\n",
    "        return select(alist, start, pivot, i - k)\n",
    " \n",
    "    return alist[pivot]\n",
    " \n",
    "def partition(alist, start, end):\n",
    "    pivot = alist[start]\n",
    "    i = start + 1\n",
    "    j = end - 1\n",
    " \n",
    "    while True:\n",
    "        while (i <= j and alist[i] <= pivot):\n",
    "            i = i + 1\n",
    "        while (i <= j and alist[j] >= pivot):\n",
    "            j = j - 1\n",
    " \n",
    "        if i <= j:\n",
    "            alist[i], alist[j] = alist[j], alist[i]\n",
    "        else:\n",
    "            alist[start], alist[j] = alist[j], alist[start]\n",
    "            return j\n",
    " \n",
    " \n",
    "alist = input('Enter the list of numbers: ')\n",
    "alist = alist.split()\n",
    "alist = [int(x) for x in alist]\n",
    "i = int(input('The ith largest element will be found. Enter i: '))\n",
    " \n",
    "ith_smallest_item = select(alist, 0, len(alist), i)\n",
    "print('Result: {}.'.format(ith_smallest_item))"
   ]
  },
  {
   "cell_type": "markdown",
   "metadata": {},
   "source": [
    "#### Python Program to Implement Bubble Sort"
   ]
  },
  {
   "cell_type": "code",
   "execution_count": 6,
   "metadata": {},
   "outputs": [
    {
     "name": "stdout",
     "output_type": "stream",
     "text": [
      "Enter the list of numbers: 1 3 2 4 5 7\n",
      "Sorted list: [1, 2, 3, 4, 5, 7]\n"
     ]
    }
   ],
   "source": [
    "def bubble_sort(alist):\n",
    "    for i in range(len(alist) - 1, 0, -1):\n",
    "        no_swap = True\n",
    "        for j in range(0, i):\n",
    "            if alist[j + 1] < alist[j]:\n",
    "                alist[j], alist[j + 1] = alist[j + 1], alist[j]\n",
    "                no_swap = False\n",
    "        if no_swap:\n",
    "            return\n",
    " \n",
    " \n",
    "alist = input('Enter the list of numbers: ').split()\n",
    "alist = [int(x) for x in alist]\n",
    "bubble_sort(alist)\n",
    "print('Sorted list: ', end='')\n",
    "print(alist)"
   ]
  },
  {
   "cell_type": "markdown",
   "metadata": {},
   "source": [
    "#### Python Program to Implement Selection Sort"
   ]
  },
  {
   "cell_type": "code",
   "execution_count": 7,
   "metadata": {},
   "outputs": [
    {
     "name": "stdout",
     "output_type": "stream",
     "text": [
      "Enter the list of numbers: 3 4 2 1 6 5\n",
      "Sorted list: [1, 2, 3, 4, 5, 6]\n"
     ]
    }
   ],
   "source": [
    "def selection_sort(alist):\n",
    "    for i in range(0, len(alist) - 1):\n",
    "        smallest = i\n",
    "        for j in range(i + 1, len(alist)):\n",
    "            if alist[j] < alist[smallest]:\n",
    "                smallest = j\n",
    "        alist[i], alist[smallest] = alist[smallest], alist[i]\n",
    " \n",
    " \n",
    "alist = input('Enter the list of numbers: ').split()\n",
    "alist = [int(x) for x in alist]\n",
    "selection_sort(alist)\n",
    "print('Sorted list: ', end='')\n",
    "print(alist)"
   ]
  },
  {
   "cell_type": "markdown",
   "metadata": {},
   "source": [
    "#### Python Program to Implement Insertion Sort"
   ]
  },
  {
   "cell_type": "code",
   "execution_count": 8,
   "metadata": {},
   "outputs": [
    {
     "name": "stdout",
     "output_type": "stream",
     "text": [
      "Enter the list of numbers: 2 3 4 5 1\n",
      "Sorted list: [1, 2, 3, 4, 5]\n"
     ]
    }
   ],
   "source": [
    "def insertion_sort(alist):\n",
    "    for i in range(1, len(alist)):\n",
    "        temp = alist[i]\n",
    "        j = i - 1\n",
    "        while (j >= 0 and temp < alist[j]):\n",
    "            alist[j + 1] = alist[j]\n",
    "            j = j - 1\n",
    "        alist[j + 1] = temp\n",
    " \n",
    " \n",
    "alist = input('Enter the list of numbers: ').split()\n",
    "alist = [int(x) for x in alist]\n",
    "insertion_sort(alist)\n",
    "print('Sorted list: ', end='')\n",
    "print(alist)"
   ]
  },
  {
   "cell_type": "markdown",
   "metadata": {},
   "source": [
    "#### Python Program to Implement Merge Sort"
   ]
  },
  {
   "cell_type": "code",
   "execution_count": 9,
   "metadata": {},
   "outputs": [
    {
     "name": "stdout",
     "output_type": "stream",
     "text": [
      "Enter the list of numbers: 8 7 6 5 4 3\n",
      "Sorted list: [3, 4, 5, 6, 7, 8]\n"
     ]
    }
   ],
   "source": [
    "def merge_sort(alist, start, end):\n",
    "    '''Sorts the list from indexes start to end - 1 inclusive.'''\n",
    "    if end - start > 1:\n",
    "        mid = (start + end)//2\n",
    "        merge_sort(alist, start, mid)\n",
    "        merge_sort(alist, mid, end)\n",
    "        merge_list(alist, start, mid, end)\n",
    "\n",
    "def merge_list(alist, start, mid, end):\n",
    "    left = alist[start:mid]\n",
    "    right = alist[mid:end]\n",
    "    k = start\n",
    "    i = 0\n",
    "    j = 0\n",
    "    while (start + i < mid and mid + j < end):\n",
    "        if (left[i] <= right[j]):\n",
    "            alist[k] = left[i]\n",
    "            i = i + 1\n",
    "        else:\n",
    "            alist[k] = right[j]\n",
    "            j = j + 1\n",
    "        k = k + 1\n",
    "    if start + i < mid:\n",
    "        while k < end:\n",
    "            alist[k] = left[i]\n",
    "            i = i + 1\n",
    "            k = k + 1\n",
    "    else:\n",
    "        while k < end:\n",
    "            alist[k] = right[j]\n",
    "            j = j + 1\n",
    "            k = k + 1\n",
    " \n",
    " \n",
    "alist = input('Enter the list of numbers: ').split()\n",
    "alist = [int(x) for x in alist]\n",
    "merge_sort(alist, 0, len(alist))\n",
    "print('Sorted list: ', end='')\n",
    "print(alist)"
   ]
  },
  {
   "cell_type": "markdown",
   "metadata": {},
   "source": [
    "#### Python Program to Implement Quicksort"
   ]
  },
  {
   "cell_type": "code",
   "execution_count": 10,
   "metadata": {},
   "outputs": [
    {
     "name": "stdout",
     "output_type": "stream",
     "text": [
      "Enter the list of numbers: 6 5 4 7 8 2 1\n",
      "Sorted list: [1, 2, 4, 5, 6, 7, 8]\n"
     ]
    }
   ],
   "source": [
    "def quicksort(alist, start, end):\n",
    "    '''Sorts the list from indexes start to end - 1 inclusive.'''\n",
    "    if end - start > 1:\n",
    "        p = partition(alist, start, end)\n",
    "        quicksort(alist, start, p)\n",
    "        quicksort(alist, p + 1, end)\n",
    " \n",
    " \n",
    "def partition(alist, start, end):\n",
    "    pivot = alist[start]\n",
    "    i = start + 1\n",
    "    j = end - 1\n",
    " \n",
    "    while True:\n",
    "        while (i <= j and alist[i] <= pivot):\n",
    "            i = i + 1\n",
    "        while (i <= j and alist[j] >= pivot):\n",
    "            j = j - 1\n",
    " \n",
    "        if i <= j:\n",
    "            alist[i], alist[j] = alist[j], alist[i]\n",
    "        else:\n",
    "            alist[start], alist[j] = alist[j], alist[start]\n",
    "            return j\n",
    " \n",
    " \n",
    "alist = input('Enter the list of numbers: ').split()\n",
    "alist = [int(x) for x in alist]\n",
    "quicksort(alist, 0, len(alist))\n",
    "print('Sorted list: ', end='')\n",
    "print(alist)"
   ]
  },
  {
   "cell_type": "markdown",
   "metadata": {},
   "source": [
    "#### Python Program to Implement Heapsort"
   ]
  },
  {
   "cell_type": "code",
   "execution_count": 11,
   "metadata": {},
   "outputs": [
    {
     "name": "stdout",
     "output_type": "stream",
     "text": [
      "Enter the list of numbers: 4 3 2 5 6\n",
      "Sorted list: [2, 3, 4, 5, 6]\n"
     ]
    }
   ],
   "source": [
    "def heapsort(alist):\n",
    "    build_max_heap(alist)\n",
    "    for i in range(len(alist) - 1, 0, -1):\n",
    "        alist[0], alist[i] = alist[i], alist[0]\n",
    "        max_heapify(alist, index=0, size=i)\n",
    "\n",
    "def parent(i):\n",
    "    return (i - 1)//2\n",
    " \n",
    "def left(i):\n",
    "    return 2*i + 1\n",
    " \n",
    "def right(i):\n",
    "    return 2*i + 2\n",
    " \n",
    "def build_max_heap(alist):\n",
    "    length = len(alist)\n",
    "    start = parent(length - 1)\n",
    "    while start >= 0:\n",
    "        max_heapify(alist, index=start, size=length)\n",
    "        start = start - 1\n",
    "\n",
    "def max_heapify(alist, index, size):\n",
    "    l = left(index)\n",
    "    r = right(index)\n",
    "    if (l < size and alist[l] > alist[index]):\n",
    "        largest = l\n",
    "    else:\n",
    "        largest = index\n",
    "    if (r < size and alist[r] > alist[largest]):\n",
    "        largest = r\n",
    "    if (largest != index):\n",
    "        alist[largest], alist[index] = alist[index], alist[largest]\n",
    "        max_heapify(alist, largest, size)\n",
    " \n",
    " \n",
    "alist = input('Enter the list of numbers: ').split()\n",
    "alist = [int(x) for x in alist]\n",
    "heapsort(alist)\n",
    "print('Sorted list: ', end='')\n",
    "print(alist)"
   ]
  },
  {
   "cell_type": "markdown",
   "metadata": {},
   "source": [
    "#### Python Program to Implement Counting Sort"
   ]
  },
  {
   "cell_type": "code",
   "execution_count": 13,
   "metadata": {},
   "outputs": [
    {
     "name": "stdout",
     "output_type": "stream",
     "text": [
      "Enter the list of (nonnegative) numbers: 7 8 9 5 3 43\n",
      "Sorted list: [3, 5, 7, 8, 9, 43]\n"
     ]
    }
   ],
   "source": [
    "def counting_sort(alist, largest):\n",
    "    c = [0]*(largest + 1)\n",
    "    for i in range(len(alist)):\n",
    "        c[alist[i]] = c[alist[i]] + 1\n",
    " \n",
    "    # Find the last index for each element\n",
    "    c[0] = c[0] - 1 # to decrement each element for zero-based indexing\n",
    "    for i in range(1, largest + 1):\n",
    "        c[i] = c[i] + c[i - 1]\n",
    " \n",
    "    result = [None]*len(alist)\n",
    " \n",
    "    # Though it is not required here,\n",
    "    # it becomes necessary to reverse the list\n",
    "    # when this function needs to be a stable sort\n",
    "    for x in reversed(alist):\n",
    "        result[c[x]] = x\n",
    "        c[x] = c[x] - 1\n",
    " \n",
    "    return result\n",
    " \n",
    "alist = input('Enter the list of (nonnegative) numbers: ').split()\n",
    "alist = [int(x) for x in alist]\n",
    "k = max(alist)\n",
    "sorted_list = counting_sort(alist, k)\n",
    "print('Sorted list: ', end='')\n",
    "print(sorted_list)"
   ]
  },
  {
   "cell_type": "markdown",
   "metadata": {},
   "source": [
    "#### Python Program to Implement Radix Sort"
   ]
  },
  {
   "cell_type": "code",
   "execution_count": 14,
   "metadata": {},
   "outputs": [
    {
     "name": "stdout",
     "output_type": "stream",
     "text": [
      "Enter the list of (nonnegative) numbers: 5 6 3 8 7 2\n",
      "Sorted list: [2, 3, 5, 6, 7, 8]\n"
     ]
    }
   ],
   "source": [
    "def radix_sort(alist, base=10):\n",
    "    if alist == []:\n",
    "        return\n",
    " \n",
    "    def key_factory(digit, base):\n",
    "        def key(alist, index):\n",
    "            return ((alist[index]//(base**digit)) % base)\n",
    "        return key\n",
    "    largest = max(alist)\n",
    "    exp = 0\n",
    "    while base**exp <= largest:\n",
    "        alist = counting_sort(alist, base - 1, key_factory(exp, base))\n",
    "        exp = exp + 1\n",
    "    return alist\n",
    " \n",
    "def counting_sort(alist, largest, key):\n",
    "    c = [0]*(largest + 1)\n",
    "    for i in range(len(alist)):\n",
    "        c[key(alist, i)] = c[key(alist, i)] + 1\n",
    " \n",
    "    # Find the last index for each element\n",
    "    c[0] = c[0] - 1 # to decrement each element for zero-based indexing\n",
    "    for i in range(1, largest + 1):\n",
    "        c[i] = c[i] + c[i - 1]\n",
    " \n",
    "    result = [None]*len(alist)\n",
    "    for i in range(len(alist) - 1, -1, -1):\n",
    "        result[c[key(alist, i)]] = alist[i]\n",
    "        c[key(alist, i)] = c[key(alist, i)] - 1\n",
    " \n",
    "    return result\n",
    " \n",
    "alist = input('Enter the list of (nonnegative) numbers: ').split()\n",
    "alist = [int(x) for x in alist]\n",
    "sorted_list = radix_sort(alist)\n",
    "print('Sorted list: ', end='')\n",
    "print(sorted_list)"
   ]
  },
  {
   "cell_type": "markdown",
   "metadata": {},
   "source": [
    "#### Python Program to Implement Bucket Sort"
   ]
  },
  {
   "cell_type": "code",
   "execution_count": 15,
   "metadata": {},
   "outputs": [
    {
     "name": "stdout",
     "output_type": "stream",
     "text": [
      "Enter the list of (nonnegative) numbers: 6 44 7 8 97\n",
      "Sorted list: [6, 7, 8, 44, 97]\n"
     ]
    }
   ],
   "source": [
    "def bucket_sort(alist):\n",
    "    largest = max(alist)\n",
    "    length = len(alist)\n",
    "    size = largest/length\n",
    " \n",
    "    buckets = [[] for _ in range(length)]\n",
    "    for i in range(length):\n",
    "        j = int(alist[i]/size)\n",
    "        if j != length:\n",
    "            buckets[j].append(alist[i])\n",
    "        else:\n",
    "            buckets[length - 1].append(alist[i])\n",
    " \n",
    "    for i in range(length):\n",
    "        insertion_sort(buckets[i])\n",
    " \n",
    "    result = []\n",
    "    for i in range(length):\n",
    "        result = result + buckets[i]\n",
    " \n",
    "    return result\n",
    " \n",
    "def insertion_sort(alist):\n",
    "    for i in range(1, len(alist)):\n",
    "        temp = alist[i]\n",
    "        j = i - 1\n",
    "        while (j >= 0 and temp < alist[j]):\n",
    "            alist[j + 1] = alist[j]\n",
    "            j = j - 1\n",
    "        alist[j + 1] = temp\n",
    " \n",
    " \n",
    "alist = input('Enter the list of (nonnegative) numbers: ').split()\n",
    "alist = [int(x) for x in alist]\n",
    "sorted_list = bucket_sort(alist)\n",
    "print('Sorted list: ', end='')\n",
    "print(sorted_list)"
   ]
  },
  {
   "cell_type": "markdown",
   "metadata": {},
   "source": [
    "#### Python Program to Implement Gnome Sort"
   ]
  },
  {
   "cell_type": "code",
   "execution_count": 16,
   "metadata": {},
   "outputs": [
    {
     "name": "stdout",
     "output_type": "stream",
     "text": [
      "Enter the list of numbers: 7 5 4 9 6 2\n",
      "Sorted list: [2, 4, 5, 6, 7, 9]\n"
     ]
    }
   ],
   "source": [
    "def gnome_sort(alist):\n",
    "    for pos in range(1, len(alist)):\n",
    "        while (pos != 0 and alist[pos] < alist[pos - 1]):\n",
    "            alist[pos], alist[pos - 1] = alist[pos - 1], alist[pos]\n",
    "            pos = pos - 1\n",
    " \n",
    " \n",
    "alist = input('Enter the list of numbers: ').split()\n",
    "alist = [int(x) for x in alist]\n",
    "gnome_sort(alist)\n",
    "print('Sorted list: ', end='')\n",
    "print(alist)"
   ]
  },
  {
   "cell_type": "markdown",
   "metadata": {},
   "source": [
    "#### Python Program to Implement Cocktail Shaker Sort"
   ]
  },
  {
   "cell_type": "code",
   "execution_count": 17,
   "metadata": {},
   "outputs": [
    {
     "name": "stdout",
     "output_type": "stream",
     "text": [
      "Enter the list of numbers: 6 5 -2 3 8\n",
      "Sorted list: [-2, 3, 5, 6, 8]\n"
     ]
    }
   ],
   "source": [
    "def cocktail_shaker_sort(alist):\n",
    "    def swap(i, j):\n",
    "        alist[i], alist[j] = alist[j], alist[i]\n",
    " \n",
    "    upper = len(alist) - 1\n",
    "    lower = 0\n",
    " \n",
    "    no_swap = False\n",
    "    while (not no_swap and upper - lower > 1):\n",
    "        no_swap = True\n",
    "        for j in range(lower, upper):\n",
    "            if alist[j + 1] < alist[j]:\n",
    "                swap(j + 1, j)\n",
    "                no_swap = False\n",
    "        upper = upper - 1\n",
    " \n",
    "        for j in range(upper, lower, -1):\n",
    "            if alist[j - 1] > alist[j]:\n",
    "                swap(j - 1, j)\n",
    "                no_swap = False\n",
    "        lower = lower + 1\n",
    " \n",
    " \n",
    "alist = input('Enter the list of numbers: ').split()\n",
    "alist = [int(x) for x in alist]\n",
    "cocktail_shaker_sort(alist)\n",
    "print('Sorted list: ', end='')\n",
    "print(alist)"
   ]
  },
  {
   "cell_type": "markdown",
   "metadata": {},
   "source": [
    "#### Python Program to Implement Comb Sort"
   ]
  },
  {
   "cell_type": "code",
   "execution_count": 18,
   "metadata": {},
   "outputs": [
    {
     "name": "stdout",
     "output_type": "stream",
     "text": [
      "Enter the list of numbers: 5 4 3 2 1\n",
      "Sorted list: [1, 2, 3, 4, 5]\n"
     ]
    }
   ],
   "source": [
    "def comb_sort(alist):\n",
    "    def swap(i, j):\n",
    "        alist[i], alist[j] = alist[j], alist[i]\n",
    " \n",
    "    gap = len(alist)\n",
    "    shrink = 1.3\n",
    " \n",
    "    no_swap = False\n",
    "    while not no_swap:\n",
    "        gap = int(gap/shrink)\n",
    " \n",
    "        if gap < 1:\n",
    "            gap = 1\n",
    "            no_swap = True\n",
    "        else:\n",
    "            no_swap = False\n",
    " \n",
    "        i = 0\n",
    "        while i + gap < len(alist):\n",
    "            if alist[i] > alist[i + gap]:\n",
    "                swap(i, i + gap)\n",
    "                no_swap = False\n",
    "            i = i + 1\n",
    " \n",
    " \n",
    "alist = input('Enter the list of numbers: ').split()\n",
    "alist = [int(x) for x in alist]\n",
    "comb_sort(alist)\n",
    "print('Sorted list: ', end='')\n",
    "print(alist)"
   ]
  },
  {
   "cell_type": "markdown",
   "metadata": {},
   "source": [
    "#### Python Program to Implement Shell Sort"
   ]
  },
  {
   "cell_type": "code",
   "execution_count": 19,
   "metadata": {},
   "outputs": [
    {
     "name": "stdout",
     "output_type": "stream",
     "text": [
      "Enter the list of numbers: 5 3 7 9 3 2\n",
      "Sorted list: [2, 3, 3, 5, 7, 9]\n"
     ]
    }
   ],
   "source": [
    "def gaps(size):\n",
    "    # uses the gap sequence 2^k - 1: 1, 3, 7, 15, 31, ...\n",
    "    length = size.bit_length()\n",
    "    for k in range(length - 1, 0, -1):\n",
    "        yield 2**k - 1\n",
    " \n",
    " \n",
    "def shell_sort(alist):\n",
    "    def insertion_sort_with_gap(gap):\n",
    "        for i in range(gap, len(alist)):\n",
    "            temp = alist[i]\n",
    "            j = i - gap\n",
    "            while (j >= 0 and temp < alist[j]):\n",
    "                alist[j + gap] = alist[j]\n",
    "                j = j - gap\n",
    "            alist[j + gap] = temp\n",
    " \n",
    "    for g in gaps(len(alist)):\n",
    "        insertion_sort_with_gap(g)\n",
    " \n",
    " \n",
    "alist = input('Enter the list of numbers: ').split()\n",
    "alist = [int(x) for x in alist]\n",
    "shell_sort(alist)\n",
    "print('Sorted list: ', end='')\n",
    "print(alist)"
   ]
  },
  {
   "cell_type": "markdown",
   "metadata": {},
   "source": [
    "#### Python Program to Implement Introsort"
   ]
  },
  {
   "cell_type": "code",
   "execution_count": 20,
   "metadata": {},
   "outputs": [
    {
     "name": "stdout",
     "output_type": "stream",
     "text": [
      "Enter the list of numbers: 5 6 4 3 8 9 2\n",
      "Sorted list: [2, 3, 4, 5, 6, 8, 9]\n"
     ]
    }
   ],
   "source": [
    "def introsort(alist):\n",
    "    maxdepth = (len(alist).bit_length() - 1)*2\n",
    "    introsort_helper(alist, 0, len(alist), maxdepth)\n",
    " \n",
    "def introsort_helper(alist, start, end, maxdepth):\n",
    "    if end - start <= 1:\n",
    "        return\n",
    "    elif maxdepth == 0:\n",
    "        heapsort(alist, start, end)\n",
    "    else:\n",
    "        p = partition(alist, start, end)\n",
    "        introsort_helper(alist, start, p + 1, maxdepth - 1)\n",
    "        introsort_helper(alist, p + 1, end, maxdepth - 1)\n",
    " \n",
    "def partition(alist, start, end):\n",
    "    pivot = alist[start]\n",
    "    i = start - 1\n",
    "    j = end\n",
    " \n",
    "    while True:\n",
    "        i = i + 1\n",
    "        while alist[i] < pivot:\n",
    "            i = i + 1\n",
    "        j = j - 1\n",
    "        while alist[j] > pivot:\n",
    "            j = j - 1\n",
    " \n",
    "        if i >= j:\n",
    "            return j\n",
    " \n",
    "        swap(alist, i, j)\n",
    " \n",
    "def swap(alist, i, j):\n",
    "    alist[i], alist[j] = alist[j], alist[i]\n",
    " \n",
    "def heapsort(alist, start, end):\n",
    "    build_max_heap(alist, start, end)\n",
    "    for i in range(end - 1, start, -1):\n",
    "        swap(alist, start, i)\n",
    "        max_heapify(alist, index=0, start=start, end=i)\n",
    " \n",
    "def build_max_heap(alist, start, end):\n",
    "    def parent(i):\n",
    "        return (i - 1)//2\n",
    "    length = end - start\n",
    "    index = parent(length - 1)\n",
    "    while index >= 0:\n",
    "        max_heapify(alist, index, start, end)\n",
    "        index = index - 1\n",
    " \n",
    "def max_heapify(alist, index, start, end):\n",
    "    def left(i):\n",
    "        return 2*i + 1\n",
    "    def right(i):\n",
    "        return 2*i + 2\n",
    " \n",
    "    size = end - start\n",
    "    l = left(index)\n",
    "    r = right(index)\n",
    "    if (l < size and alist[start + l] > alist[start + index]):\n",
    "        largest = l\n",
    "    else:\n",
    "        largest = index\n",
    "    if (r < size and alist[start + r] > alist[start + largest]):\n",
    "        largest = r\n",
    "    if largest != index:\n",
    "        swap(alist, start + largest, start + index)\n",
    "        max_heapify(alist, largest, start, end)\n",
    " \n",
    " \n",
    "alist = input('Enter the list of numbers: ').split()\n",
    "alist = [int(x) for x in alist]\n",
    "introsort(alist)\n",
    "print('Sorted list: ', end='')\n",
    "print(alist)"
   ]
  },
  {
   "cell_type": "markdown",
   "metadata": {},
   "source": [
    "#### Python Program to Implement Binary Insertion Sort"
   ]
  },
  {
   "cell_type": "code",
   "execution_count": 21,
   "metadata": {},
   "outputs": [
    {
     "name": "stdout",
     "output_type": "stream",
     "text": [
      "Enter the list of numbers: 65 4 3 8 7\n",
      "Sorted list: [3, 4, 7, 8, 65]\n"
     ]
    }
   ],
   "source": [
    "def binary_insertion_sort(alist):\n",
    "    for i in range(1, len(alist)):\n",
    "        temp = alist[i]\n",
    "        pos = binary_search(alist, temp, 0, i) + 1\n",
    " \n",
    "        for k in range(i, pos, -1):\n",
    "            alist[k] = alist[k - 1]\n",
    " \n",
    "        alist[pos] = temp\n",
    " \n",
    "def binary_search(alist, key, start, end):\n",
    "    '''If key is in the list at index p, then return p.\n",
    "    If there are multiple such keys in the list, then return the index of any one.\n",
    "    If key is not in the list and a < key < b where a and b are elements in the list, then return the index of a.\n",
    "    If key is not in the list and key < a where a is the first element in the list, then return -1.\n",
    "    Only elements with indexes start to end - 1 inclusive are considered.\n",
    "    '''\n",
    "    if end - start <= 1:\n",
    "        if key < alist[start]:\n",
    "            return start - 1\n",
    "        else:\n",
    "            return start\n",
    " \n",
    "    mid = (start + end)//2\n",
    "    if alist[mid] < key:\n",
    "        return binary_search(alist, key, mid, end)\n",
    "    elif alist[mid] > key:\n",
    "        return binary_search(alist, key, start, mid)\n",
    "    else:\n",
    "        return mid\n",
    " \n",
    " \n",
    "alist = input('Enter the list of numbers: ').split()\n",
    "alist = [int(x) for x in alist]\n",
    "binary_insertion_sort(alist)\n",
    "print('Sorted list: ', end='')\n",
    "print(alist)"
   ]
  },
  {
   "cell_type": "markdown",
   "metadata": {},
   "source": [
    "#### Python Program to Sort using a Binary Search Tree"
   ]
  },
  {
   "cell_type": "code",
   "execution_count": 22,
   "metadata": {},
   "outputs": [
    {
     "name": "stdout",
     "output_type": "stream",
     "text": [
      "Enter the list of numbers: 6 4 8 6 2 3 1\n",
      "Sorted list: 1 2 3 4 6 6 8 "
     ]
    }
   ],
   "source": [
    "class BSTNode:\n",
    "    def __init__(self, key):\n",
    "        self.key = key\n",
    "        self.left = None\n",
    "        self.right = None\n",
    "        self.parent = None\n",
    " \n",
    "    def insert(self, node):\n",
    "        if self.key > node.key:\n",
    "            if self.left is None:\n",
    "                self.left = node\n",
    "                node.parent = self\n",
    "            else:\n",
    "                self.left.insert(node)\n",
    "        elif self.key <= node.key:\n",
    "            if self.right is None:\n",
    "                self.right = node\n",
    "                node.parent = self\n",
    "            else:\n",
    "                self.right.insert(node)\n",
    " \n",
    "    def inorder(self):\n",
    "        if self.left is not None:\n",
    "            self.left.inorder()\n",
    "        print(self.key, end=' ')\n",
    "        if self.right is not None:\n",
    "            self.right.inorder()\n",
    " \n",
    " \n",
    "class BSTree:\n",
    "    def __init__(self):\n",
    "        self.root = None\n",
    " \n",
    "    def inorder(self):\n",
    "        if self.root is not None:\n",
    "            self.root.inorder()\n",
    " \n",
    "    def add(self, key):\n",
    "        new_node = BSTNode(key)\n",
    "        if self.root is None:\n",
    "            self.root = new_node\n",
    "        else:\n",
    "            self.root.insert(new_node)\n",
    " \n",
    " \n",
    "bstree = BSTree()\n",
    " \n",
    "alist = input('Enter the list of numbers: ').split()\n",
    "alist = [int(x) for x in alist]\n",
    "for x in alist:\n",
    "    bstree.add(x)\n",
    "print('Sorted list: ', end='')\n",
    "bstree.inorder()"
   ]
  }
 ],
 "metadata": {
  "kernelspec": {
   "display_name": "Python 3",
   "language": "python",
   "name": "python3"
  },
  "language_info": {
   "codemirror_mode": {
    "name": "ipython",
    "version": 3
   },
   "file_extension": ".py",
   "mimetype": "text/x-python",
   "name": "python",
   "nbconvert_exporter": "python",
   "pygments_lexer": "ipython3",
   "version": "3.8.3"
  }
 },
 "nbformat": 4,
 "nbformat_minor": 4
}
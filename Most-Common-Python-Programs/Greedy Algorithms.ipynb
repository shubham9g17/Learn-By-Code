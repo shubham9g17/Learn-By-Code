{
 "cells": [
  {
   "cell_type": "markdown",
   "metadata": {},
   "source": [
    "#### Python Program to Solve Fractional Knapsack Problem using Greedy Algorithm"
   ]
  },
  {
   "cell_type": "code",
   "execution_count": 1,
   "metadata": {},
   "outputs": [
    {
     "name": "stdout",
     "output_type": "stream",
     "text": [
      "Enter number of items: 5\n",
      "Enter the values of the 5 item(s) in order: 34 45 32 2 23\n",
      "Enter the positive weights of the 5 item(s) in order: 3 5 2 1 1\n",
      "Enter maximum weight: 8\n",
      "The maximum value of items that can be carried: 107.0\n",
      "The fractions in which the items should be taken: [1, 0.4, 1, 0, 1]\n"
     ]
    }
   ],
   "source": [
    "def fractional_knapsack(value, weight, capacity):\n",
    "    \"\"\"Return maximum value of items and their fractional amounts.\n",
    " \n",
    "    (max_value, fractions) is returned where max_value is the maximum value of\n",
    "    items with total weight not more than capacity.\n",
    "    fractions is a list where fractions[i] is the fraction that should be taken\n",
    "    of item i, where 0 <= i < total number of items.\n",
    " \n",
    "    value[i] is the value of item i and weight[i] is the weight of item i\n",
    "    for 0 <= i < n where n is the number of items.\n",
    " \n",
    "    capacity is the maximum weight.\n",
    "    \"\"\"\n",
    "    # index = [0, 1, 2, ..., n - 1] for n items\n",
    "    index = list(range(len(value)))\n",
    "    # contains ratios of values to weight\n",
    "    ratio = [v/w for v, w in zip(value, weight)]\n",
    "    # index is sorted according to value-to-weight ratio in decreasing order\n",
    "    index.sort(key=lambda i: ratio[i], reverse=True)\n",
    " \n",
    "    max_value = 0\n",
    "    fractions = [0]*len(value)\n",
    "    for i in index:\n",
    "        if weight[i] <= capacity:\n",
    "            fractions[i] = 1\n",
    "            max_value += value[i]\n",
    "            capacity -= weight[i]\n",
    "        else:\n",
    "            fractions[i] = capacity/weight[i]\n",
    "            max_value += value[i]*capacity/weight[i]\n",
    "            break\n",
    " \n",
    "    return max_value, fractions\n",
    " \n",
    " \n",
    "n = int(input('Enter number of items: '))\n",
    "value = input('Enter the values of the {} item(s) in order: '\n",
    "              .format(n)).split()\n",
    "value = [int(v) for v in value]\n",
    "weight = input('Enter the positive weights of the {} item(s) in order: '\n",
    "               .format(n)).split()\n",
    "weight = [int(w) for w in weight]\n",
    "capacity = int(input('Enter maximum weight: '))\n",
    " \n",
    "max_value, fractions = fractional_knapsack(value, weight, capacity)\n",
    "print('The maximum value of items that can be carried:', max_value)\n",
    "print('The fractions in which the items should be taken:', fractions)"
   ]
  },
  {
   "cell_type": "markdown",
   "metadata": {},
   "source": [
    "#### Python Program to Solve Interval Scheduling Problem using Greedy Algorithm"
   ]
  },
  {
   "cell_type": "code",
   "execution_count": 2,
   "metadata": {},
   "outputs": [
    {
     "name": "stdout",
     "output_type": "stream",
     "text": [
      "Enter number of activities: 5\n",
      "Enter the start time of the 5 activities in order: 1 2 3 4 5\n",
      "Enter the finish times of the 5 activities in order: 2 3 4 5 6\n",
      "A maximum-size subset of activities that are mutually compatible is {0, 1, 2, 3, 4}\n"
     ]
    }
   ],
   "source": [
    "def interval_scheduling(stimes, ftimes):\n",
    "    \"\"\"Return largest set of mutually compatible activities.\n",
    " \n",
    "    This will return a maximum-set subset of activities (numbered from 0 to n -\n",
    "    1) that are mutually compatible. Two activities are mutually compatible if\n",
    "    the start time of one activity is not less then the finish time of the other.\n",
    " \n",
    "    stimes[i] is the start time of activity i.\n",
    "    ftimes[i] is the finish time of activity i.\n",
    "    \"\"\"\n",
    "    # index = [0, 1, 2, ..., n - 1] for n items\n",
    "    index = list(range(len(stimes)))\n",
    "    # sort according to finish times\n",
    "    index.sort(key=lambda i: ftimes[i])\n",
    " \n",
    "    maximal_set = set()\n",
    "    prev_finish_time = 0\n",
    "    for i in index:\n",
    "        if stimes[i] >= prev_finish_time:\n",
    "            maximal_set.add(i)\n",
    "            prev_finish_time = ftimes[i]\n",
    " \n",
    "    return maximal_set\n",
    " \n",
    " \n",
    "n = int(input('Enter number of activities: '))\n",
    "stimes = input('Enter the start time of the {} activities in order: '\n",
    "              .format(n)).split()\n",
    "stimes = [int(st) for st in stimes]\n",
    "ftimes = input('Enter the finish times of the {} activities in order: '\n",
    "               .format(n)).split()\n",
    "ftimes = [int(ft) for ft in ftimes]\n",
    " \n",
    "ans = interval_scheduling(stimes, ftimes)\n",
    "print('A maximum-size subset of activities that are mutually compatible is', ans)"
   ]
  },
  {
   "cell_type": "markdown",
   "metadata": {},
   "source": [
    "#### Python Program to Find the Smallest Set of Unit-Length Closed Intervals that Contains All Points using Greedy Algorithm"
   ]
  },
  {
   "cell_type": "code",
   "execution_count": 3,
   "metadata": {},
   "outputs": [
    {
     "name": "stdout",
     "output_type": "stream",
     "text": [
      "Enter the points: 2.1 10.3 11.2\n",
      "A smallest-size set containing unit-length intervals that contain all of these points is {(2.1, 3.1), (10.3, 11.3)}\n"
     ]
    }
   ],
   "source": [
    "def smallest_unit_length_intervals(points):\n",
    "    \"\"\"Return smallest set with unit-length intervals that includes all points.\n",
    " \n",
    "    A smallest set containing closed intervals is returned such that each point\n",
    "    is included in some interval.\n",
    "    The intervals are in the form of tuples (a, b).\n",
    " \n",
    "    points is a list of points on the x-axis.\n",
    "    \"\"\"\n",
    "    points.sort()\n",
    " \n",
    "    smallest_set = set()\n",
    "    end_of_last_interval = float('-inf')\n",
    "    for p in points:\n",
    "        if end_of_last_interval <= p:\n",
    "            interval = (p, p + 1)\n",
    "            smallest_set.add(interval)\n",
    "            end_of_last_interval = p + 1\n",
    " \n",
    "    return smallest_set\n",
    " \n",
    "points = input('Enter the points: ').split()\n",
    "points = [float(p) for p in points]\n",
    " \n",
    "ans = smallest_unit_length_intervals(points)\n",
    "print('A smallest-size set containing unit-length intervals '\n",
    "      'that contain all of these points is', ans)"
   ]
  },
  {
   "cell_type": "markdown",
   "metadata": {},
   "source": [
    "#### Python Program to Minimize Maximum Lateness using Greedy Algorithm"
   ]
  },
  {
   "cell_type": "code",
   "execution_count": 4,
   "metadata": {},
   "outputs": [
    {
     "name": "stdout",
     "output_type": "stream",
     "text": [
      "Enter number of requests: 3\n",
      "Enter the time taken to complete the 3 request(s) in order: 3 4 5\n",
      "Enter the deadlines of the 3 request(s) in order: 4 3 2\n",
      "The minimum maximum lateness: 8\n",
      "The order in which the requests should be scheduled: [2, 1, 0]\n"
     ]
    }
   ],
   "source": [
    "def minimize_lateness(ttimes, dtimes):\n",
    "    \"\"\"Return minimum max lateness and the schedule to obtain it.\n",
    " \n",
    "    (min_lateness, schedule) is returned.\n",
    " \n",
    "    Lateness of a request i is L(i) = finish time of i - deadline of if\n",
    "    request i finishes after its deadline.\n",
    "    The maximum lateness is the maximum value of L(i) over all i.\n",
    "    min_lateness is the minimum value of the maximum lateness that can be\n",
    "    achieved by optimally scheduling the requests.\n",
    " \n",
    "    schedule is a list that contains the indexes of the requests ordered such\n",
    "    that minimum maximum lateness is achieved.\n",
    " \n",
    "    ttime[i] is the time taken to complete request i.\n",
    "    dtime[i] is the deadline of request i.\n",
    "    \"\"\"\n",
    "    # index = [0, 1, 2, ..., n - 1] for n requests\n",
    "    index = list(range(len(dtimes)))\n",
    "    # sort according to deadlines\n",
    "    index.sort(key=lambda i: dtimes[i])\n",
    " \n",
    "    min_lateness = 0\n",
    "    start_time = 0\n",
    "    for i in index:\n",
    "        min_lateness = max(min_lateness,\n",
    "                           (ttimes[i] + start_time) - dtimes[i])\n",
    "        start_time += ttimes[i]\n",
    " \n",
    "    return min_lateness, index\n",
    " \n",
    " \n",
    "n = int(input('Enter number of requests: '))\n",
    "ttimes = input('Enter the time taken to complete the {} request(s) in order: '\n",
    "              .format(n)).split()\n",
    "ttimes = [int(tt) for tt in ttimes]\n",
    "dtimes = input('Enter the deadlines of the {} request(s) in order: '\n",
    "               .format(n)).split()\n",
    "dtimes = [int(dt) for dt in dtimes]\n",
    " \n",
    "min_lateness, schedule = minimize_lateness(ttimes, dtimes)\n",
    "print('The minimum maximum lateness:', min_lateness)\n",
    "print('The order in which the requests should be scheduled:', schedule)"
   ]
  }
 ],
 "metadata": {
  "kernelspec": {
   "display_name": "Python 3",
   "language": "python",
   "name": "python3"
  },
  "language_info": {
   "codemirror_mode": {
    "name": "ipython",
    "version": 3
   },
   "file_extension": ".py",
   "mimetype": "text/x-python",
   "name": "python",
   "nbconvert_exporter": "python",
   "pygments_lexer": "ipython3",
   "version": "3.8.3"
  }
 },
 "nbformat": 4,
 "nbformat_minor": 4
}
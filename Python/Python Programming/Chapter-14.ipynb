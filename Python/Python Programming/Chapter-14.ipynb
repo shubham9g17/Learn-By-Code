{
 "cells": [
  {
   "cell_type": "markdown",
   "metadata": {},
   "source": [
    "# Regular Expressions"
   ]
  },
  {
   "cell_type": "markdown",
   "metadata": {},
   "source": [
    "*`Regular Expression is a declarative mechanism to represent a group of strings according to particular pattern like email or phone no.`*"
   ]
  },
  {
   "cell_type": "code",
   "execution_count": 1,
   "metadata": {},
   "outputs": [],
   "source": [
    "import re"
   ]
  },
  {
   "cell_type": "markdown",
   "metadata": {},
   "source": [
    "### 1. compile()"
   ]
  },
  {
   "cell_type": "markdown",
   "metadata": {},
   "source": [
    "`re module contains compile function to compile a pattern into a regex object`"
   ]
  },
  {
   "cell_type": "code",
   "execution_count": 2,
   "metadata": {},
   "outputs": [],
   "source": [
    "pattern=re.compile(\"sg\")"
   ]
  },
  {
   "cell_type": "code",
   "execution_count": 3,
   "metadata": {},
   "outputs": [
    {
     "name": "stdout",
     "output_type": "stream",
     "text": [
      "re.compile('sg')\t<class 're.Pattern'>\n"
     ]
    }
   ],
   "source": [
    "print(pattern,type(pattern),sep=\"\\t\")\n"
   ]
  },
  {
   "cell_type": "markdown",
   "metadata": {},
   "source": [
    "### 2. finditer()"
   ]
  },
  {
   "cell_type": "markdown",
   "metadata": {},
   "source": [
    "`returns a iterator object which yeilds Match object for every Match`"
   ]
  },
  {
   "cell_type": "code",
   "execution_count": 4,
   "metadata": {},
   "outputs": [
    {
     "name": "stdout",
     "output_type": "stream",
     "text": [
      "3\t7\ts3tv\n",
      "12\t16\ts3tv\n",
      "21\t25\ts3tv\n",
      "30\t34\ts3tv\n",
      "39\t43\ts3tv\n"
     ]
    }
   ],
   "source": [
    "#method-1\n",
    "pattern=re.compile(\"s3tv\")\n",
    "matcher=pattern.finditer(\"sg@s3tv,twi@s3tv,var@s3tv,sam@s3tv,chu@s3tv\")\n",
    "for match in matcher:\n",
    "    print(match.start(),match.end(),match.group(),sep=\"\\t\")"
   ]
  },
  {
   "cell_type": "code",
   "execution_count": 5,
   "metadata": {},
   "outputs": [
    {
     "name": "stdout",
     "output_type": "stream",
     "text": [
      "3\t7\ts3tv\n",
      "12\t16\ts3tv\n",
      "21\t25\ts3tv\n",
      "30\t34\ts3tv\n",
      "39\t43\ts3tv\n"
     ]
    }
   ],
   "source": [
    "#method-2\n",
    "matcher=re.finditer(\"s3tv\",\"sg@s3tv,twi@s3tv,var@s3tv,sam@s3tv,chu@s3tv\")\n",
    "for match in matcher:\n",
    "    print(match.start(),match.end(),match.group(),sep=\"\\t\")"
   ]
  },
  {
   "cell_type": "markdown",
   "metadata": {},
   "source": [
    "## Character classes"
   ]
  },
  {
   "cell_type": "markdown",
   "metadata": {},
   "source": [
    "1. [abc]===>either a or b or c\n",
    "2. [^abc]===>except a and b and c\n",
    "3. [a-z]===>any lower case alphabet symbol\n",
    "4. [A-Z]===>any Upper case alphabet symbol\n",
    "5. [0-9]===>any digit from 0-9\n",
    "6. [a-zA-Z0-9]===>Any chracter except special characters"
   ]
  },
  {
   "cell_type": "code",
   "execution_count": 6,
   "metadata": {},
   "outputs": [
    {
     "name": "stdout",
     "output_type": "stream",
     "text": [
      "[abc]\n",
      "0...a\n",
      "2...b\n",
      "\n",
      "[^abc]\n",
      "1...7\n",
      "3...@\n",
      "4...k\n",
      "5...9\n",
      "6...z\n",
      "7...A\n",
      "8...B\n",
      "\n",
      "[a-z]\n",
      "0...a\n",
      "2...b\n",
      "4...k\n",
      "6...z\n",
      "\n",
      "[A-Z]\n",
      "7...A\n",
      "8...B\n",
      "\n",
      "[0-9]\n",
      "1...7\n",
      "5...9\n",
      "\n",
      "[a-zA-Z0-9]\n",
      "0...a\n",
      "1...7\n",
      "2...b\n",
      "4...k\n",
      "5...9\n",
      "6...z\n",
      "7...A\n",
      "8...B\n",
      "\n",
      "[^a-zA-Z0-9]\n",
      "3...@\n",
      "\n"
     ]
    }
   ],
   "source": [
    "x=[\"[abc]\",\"[^abc]\",\"[a-z]\",\"[A-Z]\",\"[0-9]\",\"[a-zA-Z0-9]\",\"[^a-zA-Z0-9]\"]\n",
    "for i in range(len(x)):\n",
    "    matcher=re.finditer(x[i],\"a7b@k9zAB\")\n",
    "    print(x[i])\n",
    "    for match in matcher:\n",
    "        print(match.start(),match.group(),sep=\"...\")\n",
    "    print()    "
   ]
  },
  {
   "cell_type": "markdown",
   "metadata": {},
   "source": [
    "## Pre defined Character classes"
   ]
  },
  {
   "cell_type": "markdown",
   "metadata": {},
   "source": [
    "* \\s-->Space character\n",
    "* \\S-->Except Space Character\n",
    "* \\d-->Any Digit\n",
    "* \\D-->Except Digit\n",
    "* \\w-->Any word Character\n",
    "* \\W-->Except any word character\n",
    "* .-->Any Character"
   ]
  },
  {
   "cell_type": "code",
   "execution_count": 7,
   "metadata": {},
   "outputs": [
    {
     "name": "stdout",
     "output_type": "stream",
     "text": [
      "\\s\n",
      "3... \n",
      "\n",
      "\\S\n",
      "0...a\n",
      "1...7\n",
      "2...b\n",
      "4...@\n",
      "5...k\n",
      "6...9\n",
      "7...z\n",
      "8...A\n",
      "9...B\n",
      "\n",
      "\\d\n",
      "1...7\n",
      "6...9\n",
      "\n",
      "\\D\n",
      "0...a\n",
      "2...b\n",
      "3... \n",
      "4...@\n",
      "5...k\n",
      "7...z\n",
      "8...A\n",
      "9...B\n",
      "\n",
      "\\w\n",
      "0...a\n",
      "1...7\n",
      "2...b\n",
      "5...k\n",
      "6...9\n",
      "7...z\n",
      "8...A\n",
      "9...B\n",
      "\n",
      "\\W\n",
      "3... \n",
      "4...@\n",
      "\n",
      ".\n",
      "0...a\n",
      "1...7\n",
      "2...b\n",
      "3... \n",
      "4...@\n",
      "5...k\n",
      "6...9\n",
      "7...z\n",
      "8...A\n",
      "9...B\n",
      "\n"
     ]
    }
   ],
   "source": [
    "x=[\"\\s\",\"\\S\",\"\\d\",\"\\D\",\"\\w\",\"\\W\",\".\"]\n",
    "for i in range(len(x)):\n",
    "    matcher=re.finditer(x[i],\"a7b @k9zAB\")\n",
    "    print(x[i])\n",
    "    for match in matcher:\n",
    "        print(match.start(),match.group(),sep=\"...\")\n",
    "    print()"
   ]
  },
  {
   "cell_type": "markdown",
   "metadata": {},
   "source": [
    "## Quantifiers"
   ]
  },
  {
   "cell_type": "markdown",
   "metadata": {},
   "source": [
    "* a ==> Exactly one 'a'\n",
    "* a+ ==> Atleast one 'a'\n",
    "* a* ==> Any no. of 'a' (0...)\n",
    "* a? ==> Atmost one 'a'\n",
    "* a{m} ==> Exactly m no. of 'a'\n",
    "* a{m,n} ==> min(m) and max(n) no. of 'a' "
   ]
  },
  {
   "cell_type": "code",
   "execution_count": 8,
   "metadata": {},
   "outputs": [
    {
     "name": "stdout",
     "output_type": "stream",
     "text": [
      "a\n",
      "1...a\n",
      "3...a\n",
      "4...a\n",
      "6...a\n",
      "7...a\n",
      "8...a\n",
      "10...a\n",
      "11...a\n",
      "12...a\n",
      "13...a\n",
      "15...a\n",
      "16...a\n",
      "17...a\n",
      "19...a\n",
      "20...a\n",
      "22...a\n",
      "\n",
      "a+\n",
      "1...a\n",
      "3...aa\n",
      "6...aaa\n",
      "10...aaaa\n",
      "15...aaa\n",
      "19...aa\n",
      "22...a\n",
      "\n",
      "a*\n",
      "0...\n",
      "1...a\n",
      "2...\n",
      "3...aa\n",
      "5...\n",
      "6...aaa\n",
      "9...\n",
      "10...aaaa\n",
      "14...\n",
      "15...aaa\n",
      "18...\n",
      "19...aa\n",
      "21...\n",
      "22...a\n",
      "23...\n",
      "24...\n",
      "\n",
      "a?\n",
      "0...\n",
      "1...a\n",
      "2...\n",
      "3...a\n",
      "4...a\n",
      "5...\n",
      "6...a\n",
      "7...a\n",
      "8...a\n",
      "9...\n",
      "10...a\n",
      "11...a\n",
      "12...a\n",
      "13...a\n",
      "14...\n",
      "15...a\n",
      "16...a\n",
      "17...a\n",
      "18...\n",
      "19...a\n",
      "20...a\n",
      "21...\n",
      "22...a\n",
      "23...\n",
      "24...\n",
      "\n",
      "a{2}\n",
      "3...aa\n",
      "6...aa\n",
      "10...aa\n",
      "12...aa\n",
      "15...aa\n",
      "19...aa\n",
      "\n",
      "a{2,4}\n",
      "3...aa\n",
      "6...aaa\n",
      "10...aaaa\n",
      "15...aaa\n",
      "19...aa\n",
      "\n"
     ]
    }
   ],
   "source": [
    "x=[\"a\",\"a+\",\"a*\",\"a?\",\"a{2}\",\"a{2,4}\"]\n",
    "for i in range(len(x)):\n",
    "    matcher=re.finditer(x[i],\"babaabaaabaaaabaaabaabab\")\n",
    "    print(x[i])\n",
    "    for match in matcher:\n",
    "        print(match.start(),match.group(),sep=\"...\")\n",
    "    print()"
   ]
  },
  {
   "cell_type": "markdown",
   "metadata": {},
   "source": [
    "**Note**:- \n",
    "* ^x It will check whether target string starts with x or not\n",
    "* x$ It will check whether target string ends with x or not"
   ]
  },
  {
   "cell_type": "markdown",
   "metadata": {},
   "source": [
    "## Important Functions of re Module"
   ]
  },
  {
   "cell_type": "markdown",
   "metadata": {},
   "source": [
    "### 1. match() "
   ]
  },
  {
   "cell_type": "markdown",
   "metadata": {},
   "source": [
    "`We can use match function to check the given pattern at beginning of target string if match is available then we will get                               Match object otherwise we get None `"
   ]
  },
  {
   "cell_type": "code",
   "execution_count": 9,
   "metadata": {},
   "outputs": [
    {
     "name": "stdout",
     "output_type": "stream",
     "text": [
      "sg@s3tv||sg\n",
      "0 2\n",
      "\n",
      "sg@s3tv@sg||sg\n",
      "0 2\n",
      "\n",
      "s3tv@sg||sg\n",
      "Not Found\n",
      "\n"
     ]
    }
   ],
   "source": [
    "s=[\"sg@s3tv\",\"sg@s3tv@sg\",\"s3tv@sg\"] #if string starts with pattern then found else not found\n",
    "sub=\"sg\"\n",
    "\n",
    "for i in range(len(s)):\n",
    "    m=re.match(sub,s[i])\n",
    "    print(s[i],sub,sep=\"||\")\n",
    "    if m!=None:\n",
    "        print(m.start(),m.end())\n",
    "    else:\n",
    "        print(\"Not Found\")\n",
    "    print()    "
   ]
  },
  {
   "cell_type": "markdown",
   "metadata": {},
   "source": [
    "### 2. fullmatch()"
   ]
  },
  {
   "cell_type": "markdown",
   "metadata": {},
   "source": [
    "`We can Use fullmatch function to match a pattern to all of target string i.e complete string should be matched to the pattern`"
   ]
  },
  {
   "cell_type": "code",
   "execution_count": 10,
   "metadata": {},
   "outputs": [
    {
     "name": "stdout",
     "output_type": "stream",
     "text": [
      "ababab||ab\n",
      "Not Full Matched\n",
      "\n",
      "ababab||aabab\n",
      "Not Full Matched\n",
      "\n",
      "ababab||ababab\n",
      "Full Matched\n",
      "\n"
     ]
    }
   ],
   "source": [
    "sub=[\"ab\",\"aabab\",\"ababab\"]\n",
    "for i in range(len(sub)):\n",
    "    m=re.fullmatch(sub[i],\"ababab\")\n",
    "    print(\"ababab\",sub[i],sep=\"||\")\n",
    "    if m!=None:\n",
    "        print(\"Full Matched\")\n",
    "    else:\n",
    "        print(\"Not Full Matched\")\n",
    "    print()  "
   ]
  },
  {
   "cell_type": "markdown",
   "metadata": {},
   "source": [
    "  ### 3. search()        "
   ]
  },
  {
   "cell_type": "markdown",
   "metadata": {},
   "source": [
    "`We can use search function to search the given pattern in the string present anywhere`    "
   ]
  },
  {
   "cell_type": "code",
   "execution_count": 11,
   "metadata": {},
   "outputs": [
    {
     "name": "stdout",
     "output_type": "stream",
     "text": [
      "sg@s3tv||sg\n",
      "0 2\n",
      "\n",
      "sg@s3tv@sg||sg\n",
      "0 2\n",
      "\n",
      "s3tv@sg||sg\n",
      "5 7\n",
      "\n",
      "tv@ss||sg\n",
      "Not Found\n",
      "\n"
     ]
    }
   ],
   "source": [
    "s=[\"sg@s3tv\",\"sg@s3tv@sg\",\"s3tv@sg\",\"tv@ss\"] #if string starts with pattern then found else not found\n",
    "sub=\"sg\"\n",
    "\n",
    "for i in range(len(s)):\n",
    "    m=re.search(sub,s[i])\n",
    "    print(s[i],sub,sep=\"||\")\n",
    "    if m!=None:\n",
    "        print(m.start(),m.end())\n",
    "    else:\n",
    "        print(\"Not Found\")\n",
    "    print() "
   ]
  },
  {
   "cell_type": "markdown",
   "metadata": {},
   "source": [
    "### 4. findall"
   ]
  },
  {
   "cell_type": "markdown",
   "metadata": {},
   "source": [
    "`To find all the occurrences of a given pattern return in the form of list`"
   ]
  },
  {
   "cell_type": "code",
   "execution_count": 12,
   "metadata": {},
   "outputs": [
    {
     "name": "stdout",
     "output_type": "stream",
     "text": [
      "['123']\n"
     ]
    }
   ],
   "source": [
    "l=re.findall(\"\\d{3}\",\"QWERTY12345\")\n",
    "print(l)"
   ]
  },
  {
   "cell_type": "markdown",
   "metadata": {},
   "source": [
    "### 5. finditer()"
   ]
  },
  {
   "cell_type": "markdown",
   "metadata": {},
   "source": [
    "`returns a iterator object which yeilds Match object for every Match`"
   ]
  },
  {
   "cell_type": "code",
   "execution_count": 13,
   "metadata": {},
   "outputs": [
    {
     "name": "stdout",
     "output_type": "stream",
     "text": [
      "3\t7\ts3tv\n",
      "12\t16\ts3tv\n",
      "21\t25\ts3tv\n",
      "30\t34\ts3tv\n",
      "39\t43\ts3tv\n"
     ]
    }
   ],
   "source": [
    "matcher=re.finditer(\"s3tv\",\"sg@s3tv,twi@s3tv,var@s3tv,sam@s3tv,chu@s3tv\")\n",
    "for match in matcher:\n",
    "    print(match.start(),match.end(),match.group(),sep=\"\\t\")"
   ]
  },
  {
   "cell_type": "markdown",
   "metadata": {},
   "source": [
    "### 6. sub()"
   ]
  },
  {
   "cell_type": "markdown",
   "metadata": {},
   "source": [
    "`sub means substitution or replacement\n",
    "re.sub(regex,replacement,targetstring)`"
   ]
  },
  {
   "cell_type": "code",
   "execution_count": 14,
   "metadata": {},
   "outputs": [
    {
     "name": "stdout",
     "output_type": "stream",
     "text": [
      "@@@@@@123QWERTY\n"
     ]
    }
   ],
   "source": [
    "s=re.sub(\"[a-z]\",\"@\",\"qwerty123QWERTY\")\n",
    "print(s)"
   ]
  },
  {
   "cell_type": "markdown",
   "metadata": {},
   "source": [
    "### 7. subn()"
   ]
  },
  {
   "cell_type": "markdown",
   "metadata": {},
   "source": [
    "`same as sub() it also return no. of replacements`"
   ]
  },
  {
   "cell_type": "code",
   "execution_count": 15,
   "metadata": {},
   "outputs": [
    {
     "name": "stdout",
     "output_type": "stream",
     "text": [
      "('@@@@@@123QWERTY', 6)\n"
     ]
    }
   ],
   "source": [
    "s=re.subn(\"[a-z]\",\"@\",\"qwerty123QWERTY\")\n",
    "print(s)"
   ]
  },
  {
   "cell_type": "markdown",
   "metadata": {},
   "source": [
    "### 8. split()"
   ]
  },
  {
   "cell_type": "markdown",
   "metadata": {},
   "source": [
    "`If we want to split the given target string according to a particular pattern then use split()`"
   ]
  },
  {
   "cell_type": "code",
   "execution_count": 16,
   "metadata": {},
   "outputs": [
    {
     "name": "stdout",
     "output_type": "stream",
     "text": [
      "['sg', 'twi', 'var', 'sam', 'chu']\n"
     ]
    }
   ],
   "source": [
    "l=re.split(\",\",\"sg,twi,var,sam,chu\")\n",
    "print(l)"
   ]
  },
  {
   "cell_type": "code",
   "execution_count": 17,
   "metadata": {},
   "outputs": [
    {
     "name": "stdout",
     "output_type": "stream",
     "text": [
      "['', '', '', '', '', '', '', '', '', '', '', '', '', '', '', '', '', '', '']\n"
     ]
    }
   ],
   "source": [
    "l=re.split(\".\",\"sg.twi@var.sam@chu\")# it splits on all chracters\n",
    "print(l)"
   ]
  },
  {
   "cell_type": "code",
   "execution_count": 18,
   "metadata": {},
   "outputs": [
    {
     "name": "stdout",
     "output_type": "stream",
     "text": [
      "['sg', 'twi@var', 'sam', 'chu']\n"
     ]
    }
   ],
   "source": [
    "l=re.split(\"\\.\",\"sg.twi@var.sam.chu\")# . should be used as escape sequence\n",
    "print(l)"
   ]
  },
  {
   "cell_type": "markdown",
   "metadata": {},
   "source": [
    "### ^ symbol"
   ]
  },
  {
   "cell_type": "code",
   "execution_count": 19,
   "metadata": {},
   "outputs": [
    {
     "name": "stdout",
     "output_type": "stream",
     "text": [
      "Target String starts with Learn\n"
     ]
    }
   ],
   "source": [
    "s=\"Learning Python is Very Easy\" \n",
    "res=re.search(\"^Learn\",s)\n",
    "if res != None:\n",
    "    print(\"Target String starts with Learn\")   \n",
    "else:   \n",
    "    print(\"Target String Not starts with Learn\")   "
   ]
  },
  {
   "cell_type": "markdown",
   "metadata": {},
   "source": [
    "### $ symbol"
   ]
  },
  {
   "cell_type": "code",
   "execution_count": 20,
   "metadata": {},
   "outputs": [
    {
     "name": "stdout",
     "output_type": "stream",
     "text": [
      "Target String ends with Easy\n"
     ]
    }
   ],
   "source": [
    "s=\"Learning Python is Very Easy\"\n",
    "res=re.search(\"Easy$\",s)\n",
    "if res != None:\n",
    "    print(\"Target String ends with Easy\")\n",
    "else:\n",
    "    print(\"Target String Not ends with Easy\") "
   ]
  },
  {
   "cell_type": "code",
   "execution_count": 21,
   "metadata": {},
   "outputs": [
    {
     "name": "stdout",
     "output_type": "stream",
     "text": [
      "Target String ends with Easy\n"
     ]
    }
   ],
   "source": [
    "s=\"Learning Python is Very Easy\"\n",
    "res=re.search(\"easy$\",s,re.IGNORECASE)\n",
    "if res != None:\n",
    "    print(\"Target String ends with Easy\")\n",
    "else:\n",
    "    print(\"Target String Not ends with Easy\") "
   ]
  },
  {
   "cell_type": "markdown",
   "metadata": {},
   "source": [
    "### Write a program to check whether a identifier follows :\n",
    "\n",
    "1. The allowed characters are      a-z,A-Z,0-9,#\n",
    "2. The first character should be a lower case alphabet symbol from a to k\n",
    "3. The second character should be a digit divisible by 3 \n",
    "4. The length of identifier should be atleast 2. "
   ]
  },
  {
   "cell_type": "code",
   "execution_count": 22,
   "metadata": {},
   "outputs": [
    {
     "name": "stdout",
     "output_type": "stream",
     "text": [
      "ak47\tNo\n",
      "m416\tNo\n",
      "q3z\tNo\n",
      "k3\tYes\n",
      "k3#1\tYes\n"
     ]
    }
   ],
   "source": [
    "s=[\"ak47\",\"m416\",\"q3z\",\"k3\",\"k3#1\"]\n",
    "sub=\"[a-k][0369][a-zA-Z0-9#]*\"\n",
    "for i in range(len(s)):\n",
    "    m=re.fullmatch(sub,s[i])\n",
    "    print(s[i],end=\"\\t\")\n",
    "    if m!=None:\n",
    "        print(\"Yes\")\n",
    "    else:\n",
    "        print(\"No\") \n",
    "    "
   ]
  },
  {
   "cell_type": "markdown",
   "metadata": {},
   "source": [
    "### Write a program to check whether a given no. is valid phone no."
   ]
  },
  {
   "cell_type": "code",
   "execution_count": 23,
   "metadata": {},
   "outputs": [
    {
     "name": "stdout",
     "output_type": "stream",
     "text": [
      "94123456\tNo\n",
      "1234567891\tNo\n",
      "9876543210\tYes\n",
      "+919557125328\tYes\n"
     ]
    }
   ],
   "source": [
    "s=[\"94123456\",\"1234567891\",\"9876543210\",\"+919557125328\"]\n",
    "sub=\"(0|\\+91)?[7-9]\\d{9}\"\n",
    "for i in range(len(s)):\n",
    "    m=re.fullmatch(sub,s[i])\n",
    "    print(s[i],end=\"\\t\")\n",
    "    if m!=None:\n",
    "        print(\"Yes\")\n",
    "    else:\n",
    "        print(\"No\")\n"
   ]
  },
  {
   "cell_type": "markdown",
   "metadata": {},
   "source": [
    "### Write a program to check whether a given gmail id. is valid ?"
   ]
  },
  {
   "cell_type": "code",
   "execution_count": 25,
   "metadata": {},
   "outputs": [
    {
     "name": "stdout",
     "output_type": "stream",
     "text": [
      "Enter Mail id: shubham9@gmail.com\n",
      "Valid Mail Id\n"
     ]
    }
   ],
   "source": [
    "s=input(\"Enter Mail id: \")\n",
    "m=re.fullmatch(\"\\w[a-zA-Z0-9_.]*@gmail[.]com\",s)\n",
    "if m!=None:\n",
    "    print(\"Valid Mail Id\")\n",
    "else:\n",
    "    print(\"Invalid Mail id\") "
   ]
  }
 ],
 "metadata": {
  "kernelspec": {
   "display_name": "Python 3",
   "language": "python",
   "name": "python3"
  },
  "language_info": {
   "codemirror_mode": {
    "name": "ipython",
    "version": 3
   },
   "file_extension": ".py",
   "mimetype": "text/x-python",
   "name": "python",
   "nbconvert_exporter": "python",
   "pygments_lexer": "ipython3",
   "version": "3.8.3"
  }
 },
 "nbformat": 4,
 "nbformat_minor": 4
}
{
 "cells": [
  {
   "cell_type": "markdown",
   "metadata": {},
   "source": [
    "   # INTRODUCTION"
   ]
  },
  {
   "cell_type": "markdown",
   "metadata": {},
   "source": [
    "    Python is a general purpose high programing language\n",
    "    Developed by Guido Van Rossam"
   ]
  },
  {
   "cell_type": "markdown",
   "metadata": {},
   "source": [
    "    To print Hello world"
   ]
  },
  {
   "cell_type": "code",
   "execution_count": 1,
   "metadata": {},
   "outputs": [
    {
     "name": "stdout",
     "output_type": "stream",
     "text": [
      "hello world\n"
     ]
    }
   ],
   "source": [
    "print(\"hello world\")"
   ]
  },
  {
   "cell_type": "markdown",
   "metadata": {},
   "source": [
    "    To add two numbers"
   ]
  },
  {
   "cell_type": "code",
   "execution_count": 2,
   "metadata": {},
   "outputs": [
    {
     "name": "stdout",
     "output_type": "stream",
     "text": [
      "sum= 33\n"
     ]
    }
   ],
   "source": [
    "a=14\n",
    "b=19\n",
    "print(\"sum=\",(a+b))"
   ]
  },
  {
   "cell_type": "markdown",
   "metadata": {},
   "source": [
    "    Guido developed Python by mixing all the flavours of various languages\n",
    "    C for functional programing\n",
    "    C++ for its object oriented design\n",
    "    Perl for its scripting features\n",
    "    Modula-3 for its modular programming features\n",
    "    "
   ]
  },
  {
   "cell_type": "markdown",
   "metadata": {},
   "source": [
    "   # Features of Python\n",
    "    Simple and Easy to Learn\n",
    "    Freeware and Open Source\n",
    "    High Level Programming Language\n",
    "    Platform Independent\n",
    "    Portability\n",
    "    Dynamically Typed\n",
    "    Both Procedural and Object Oriented\n",
    "    Interpreted\n",
    "    Extensible\n",
    "    Embedded\n",
    "    Extensive Libarary\n",
    "    "
   ]
  },
  {
   "cell_type": "markdown",
   "metadata": {},
   "source": [
    "# Limitations of Python\n",
    "    Performance wise not up to the mark\n",
    "    Not for Mobile Applications"
   ]
  },
  {
   "cell_type": "markdown",
   "metadata": {},
   "source": [
    "# Flavous of Python\n",
    "    Cpython\n",
    "    Jython\n",
    "    IronPython\n",
    "    PyPy\n",
    "    RubyPython\n",
    "    AnacondaPython\n",
    "    "
   ]
  },
  {
   "cell_type": "markdown",
   "metadata": {},
   "source": [
    "Note:- There is no gurrantee that python 2.x code will run into python 3.x"
   ]
  },
  {
   "cell_type": "markdown",
   "metadata": {},
   "source": [
    "# Applications of Python\n",
    "    Desktop Applications\n",
    "    Web Applications\n",
    "    Database Applications\n",
    "    Network Programming\n",
    "    Developing Games\n",
    "    Data Analysis Applications\n",
    "    Machine Learning\n",
    "    Developing AI Applications\n",
    "    IOT"
   ]
  }
 ],
 "metadata": {
  "kernelspec": {
   "display_name": "Python 3",
   "language": "python",
   "name": "python3"
  },
  "language_info": {
   "codemirror_mode": {
    "name": "ipython",
    "version": 3
   },
   "file_extension": ".py",
   "mimetype": "text/x-python",
   "name": "python",
   "nbconvert_exporter": "python",
   "pygments_lexer": "ipython3",
   "version": "3.8.3"
  }
 },
 "nbformat": 4,
 "nbformat_minor": 2
}
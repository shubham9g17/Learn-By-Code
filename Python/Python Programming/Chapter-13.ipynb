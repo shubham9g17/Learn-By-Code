{
 "cells": [
  {
   "cell_type": "markdown",
   "metadata": {},
   "source": [
    "# File Handling"
   ]
  },
  {
   "cell_type": "markdown",
   "metadata": {},
   "source": [
    "`As Part of programming requirement, we have to store our data permanently for future purposes For this we use File Handling`"
   ]
  },
  {
   "cell_type": "markdown",
   "metadata": {},
   "source": [
    "## Types of Files"
   ]
  },
  {
   "cell_type": "markdown",
   "metadata": {},
   "source": [
    "### 1. Text Files"
   ]
  },
  {
   "cell_type": "markdown",
   "metadata": {},
   "source": [
    "`use text files to store character data` "
   ]
  },
  {
   "cell_type": "markdown",
   "metadata": {},
   "source": [
    "### 2. Binary Files"
   ]
  },
  {
   "cell_type": "markdown",
   "metadata": {},
   "source": [
    "`use binary files to store audio or video or image data`"
   ]
  },
  {
   "cell_type": "markdown",
   "metadata": {},
   "source": [
    "## Opening a File"
   ]
  },
  {
   "cell_type": "markdown",
   "metadata": {},
   "source": [
    "**`f=open(filename,mode)`**"
   ]
  },
  {
   "cell_type": "markdown",
   "metadata": {},
   "source": [
    "### Allowed modes:-"
   ]
  },
  {
   "cell_type": "markdown",
   "metadata": {},
   "source": [
    "`1. r -> open an existing file for read operation. The file pointer is positioned at the beginning  of the file.If the specified file does not exist then we will get FileNotFoundError.This is default mode.`\n",
    "\n",
    "`2. w -> open an existing file for write operation. If the file already contains some data then it will be overridden. If the specified file is not already avaialble then this mode will create that file.` \n",
    "\n",
    "`3. a -> open an existing file for append operation. It won't override existing data.If the specified file is not already avaialble then this mode will create a new file.` \n",
    "\n",
    "`4. r+ -> To read and write data into the file. The previous data in the file will not be deleted.The file pointer is placed at the beginning of the file.`\n",
    "\n",
    "`5. w+ -> To write and read data. It will override existing data.`\n",
    "\n",
    "`6. a+ -> To append and read data from the file.It wont override existing data.` \n",
    "\n",
    "`7. x -> To open a file in exclusive creation mode for write operation. If the file already exists then we will get FileExistsError.` \n",
    " \n",
    "`Note: All the above modes are applicable for text files. If the above modes suffixed with 'b' then these represents for binary files.` \n",
    " \n",
    "`Eg: rb,wb,ab,r+b,w+b,a+b,xb`"
   ]
  },
  {
   "cell_type": "markdown",
   "metadata": {},
   "source": [
    "## Closing a File"
   ]
  },
  {
   "cell_type": "markdown",
   "metadata": {},
   "source": [
    "`After completing our operations on the file it is highly recommended to close the file`"
   ]
  },
  {
   "cell_type": "markdown",
   "metadata": {},
   "source": [
    "**`f.close()`**"
   ]
  },
  {
   "cell_type": "markdown",
   "metadata": {},
   "source": [
    "## Various Properties of File Object:"
   ]
  },
  {
   "cell_type": "code",
   "execution_count": 1,
   "metadata": {},
   "outputs": [
    {
     "name": "stdout",
     "output_type": "stream",
     "text": [
      "File Name:  Files\\abc.txt\n",
      "File Mode:  w\n",
      "Is File Readable:   False\n",
      "Is File Writable:   True\n",
      "Is File Closed :  False\n",
      "Is File Closed :  True\n"
     ]
    }
   ],
   "source": [
    "f=open(\"Files\\\\abc.txt\",'w')\n",
    "print(\"File Name: \",f.name)\n",
    "print(\"File Mode: \",f.mode)\n",
    "print(\"Is File Readable:  \",f.readable())\n",
    "print(\"Is File Writable:  \",f.writable())\n",
    "print(\"Is File Closed : \",f.closed)\n",
    "f.close()\n",
    "print(\"Is File Closed : \",f.closed)\n"
   ]
  },
  {
   "cell_type": "markdown",
   "metadata": {},
   "source": [
    "## Writing data to text files"
   ]
  },
  {
   "cell_type": "markdown",
   "metadata": {},
   "source": [
    "`We can write character data to the text files by using 2 methods`\n",
    "\n",
    "* `write(str)`\n",
    "\n",
    "* `writelines(list(str))`"
   ]
  },
  {
   "cell_type": "code",
   "execution_count": 2,
   "metadata": {},
   "outputs": [],
   "source": [
    "f=open(\"Files\\\\write_demo.txt\",\"w\")\n",
    "f.write(\"Sg@s3tv\\n\")\n",
    "f.writelines([\"twi@s3tv\\n\",\"var@s3tv\\n\",\"sam@s3tv\\n\",\"chu@s3tv\\n\"])\n",
    "f.close()"
   ]
  },
  {
   "cell_type": "markdown",
   "metadata": {},
   "source": [
    "**Note**:- ` In the above program, data present in the file will be overridden everytime if we run the program. Instead of overriding if we want append operation then we should open the file as follows.` "
   ]
  },
  {
   "cell_type": "markdown",
   "metadata": {},
   "source": [
    "**`f = open(\"abcd.txt\",\"a\")`**"
   ]
  },
  {
   "cell_type": "markdown",
   "metadata": {},
   "source": [
    "## Reading Character Data from Text Files"
   ]
  },
  {
   "cell_type": "markdown",
   "metadata": {},
   "source": [
    "`We can read character data from text file by using the following read methods.` \n",
    " \n",
    "* read() -> To read total data from the file \n",
    "* read(n) -> To read 'n' characters from the file \n",
    "* readline() -> To read only one line \n",
    "* readlines() -> To read all lines into a list "
   ]
  },
  {
   "cell_type": "code",
   "execution_count": 3,
   "metadata": {},
   "outputs": [
    {
     "name": "stdout",
     "output_type": "stream",
     "text": [
      "Sg@s3tv\n",
      "twi@s3tv\n",
      "var@s3tv\n",
      "sam@s3tv\n",
      "chu@s3tv\n",
      "\n"
     ]
    }
   ],
   "source": [
    "f=open(\"Files\\\\write_demo.txt\",'r')\n",
    "data=f.read()\n",
    "print(data)\n",
    "f.close() "
   ]
  },
  {
   "cell_type": "code",
   "execution_count": 4,
   "metadata": {},
   "outputs": [
    {
     "name": "stdout",
     "output_type": "stream",
     "text": [
      "Sg@s3tv\n",
      "\n"
     ]
    }
   ],
   "source": [
    "f=open(\"Files\\\\write_demo.txt\",'r')\n",
    "data=f.read(8)\n",
    "print(data)\n",
    "f.close() "
   ]
  },
  {
   "cell_type": "code",
   "execution_count": 5,
   "metadata": {},
   "outputs": [
    {
     "name": "stdout",
     "output_type": "stream",
     "text": [
      "Sg@s3tv\n",
      "\n",
      "twi@s3tv\n",
      "\n"
     ]
    }
   ],
   "source": [
    "f=open(\"Files\\\\write_demo.txt\",'r')\n",
    "line1=f.readline()\n",
    "print(line1)\n",
    "line2=f.readline()\n",
    "print(line2)\n",
    "f.close() "
   ]
  },
  {
   "cell_type": "code",
   "execution_count": 6,
   "metadata": {},
   "outputs": [
    {
     "name": "stdout",
     "output_type": "stream",
     "text": [
      "Sg@s3tv\n",
      "twi@s3tv\n",
      "var@s3tv\n",
      "sam@s3tv\n",
      "chu@s3tv\n"
     ]
    }
   ],
   "source": [
    "f=open(\"Files\\\\write_demo.txt\",'r')\n",
    "data=f.readlines()\n",
    "for i in data:\n",
    "    print(i,end=\"\")\n",
    "f.close() "
   ]
  },
  {
   "cell_type": "markdown",
   "metadata": {},
   "source": [
    "## With Statement"
   ]
  },
  {
   "cell_type": "markdown",
   "metadata": {},
   "source": [
    "`with statement can be used while opening a file.`\n",
    "\n",
    "`We can Use this to group file operations within a block.`"
   ]
  },
  {
   "cell_type": "code",
   "execution_count": 7,
   "metadata": {},
   "outputs": [
    {
     "name": "stdout",
     "output_type": "stream",
     "text": [
      "Is File Closed:  False\n",
      "Is File Closed:  True\n"
     ]
    }
   ],
   "source": [
    "with open(\"Files\\\\abc.txt\",\"w\") as f:\n",
    "    f.write(\"sg123\\n\")\n",
    "    f.write(\"@123\\n\")\n",
    "    f.write(\"g34s\\n\")\n",
    "    print(\"Is File Closed: \",f.closed)\n",
    "print(\"Is File Closed: \",f.closed) "
   ]
  },
  {
   "cell_type": "markdown",
   "metadata": {},
   "source": [
    "## The seek() and tell() methods"
   ]
  },
  {
   "cell_type": "markdown",
   "metadata": {},
   "source": [
    "### tell() "
   ]
  },
  {
   "cell_type": "markdown",
   "metadata": {},
   "source": [
    "`We can use tell() method to return current position of the cursor(file pointer) from beginning of the file.`\n",
    "\n",
    "`[ can you plese tell current cursor position]`\n",
    "\n",
    "`The position(index) of first character in files is zero just like string index.`"
   ]
  },
  {
   "cell_type": "code",
   "execution_count": 8,
   "metadata": {},
   "outputs": [
    {
     "name": "stdout",
     "output_type": "stream",
     "text": [
      "0\n",
      "sg\n",
      "2\n",
      "123\n",
      "5\n"
     ]
    }
   ],
   "source": [
    "f=open(\"Files//abc.txt\",\"r\")\n",
    "print(f.tell())\n",
    "print(f.read(2))\n",
    "print(f.tell())\n",
    "print(f.read(3))\n",
    "print(f.tell())\n",
    "f.close()"
   ]
  },
  {
   "cell_type": "markdown",
   "metadata": {},
   "source": [
    "### seek()"
   ]
  },
  {
   "cell_type": "markdown",
   "metadata": {},
   "source": [
    "`We can use seek() method to move cursor(file pointer) to specified location.`\n",
    "\n",
    "`[Can you please seek the cursor to a particular location]` \n",
    " "
   ]
  },
  {
   "cell_type": "code",
   "execution_count": 9,
   "metadata": {},
   "outputs": [
    {
     "name": "stdout",
     "output_type": "stream",
     "text": [
      "All Students are STUPIDS\n",
      "The Current Cursor Position:  24\n",
      "The Current Cursor Position:  17\n",
      "Data After Modification:\n",
      "All Students are GEMS!!!\n"
     ]
    }
   ],
   "source": [
    "data=\"All Students are STUPIDS\"\n",
    "f=open(\"Files\\\\abc.txt\",\"w\")\n",
    "f.write(data)\n",
    "f.close()\n",
    "with open(\"Files\\\\abc.txt\",\"r+\") as f:   \n",
    "    text=f.read()   \n",
    "    print(text)   \n",
    "    print(\"The Current Cursor Position: \",f.tell())   \n",
    "    f.seek(17)   \n",
    "    print(\"The Current Cursor Position: \",f.tell())   \n",
    "    f.write(\"GEMS!!!\")   \n",
    "    f.seek(0)   \n",
    "    text=f.read()\n",
    "    print(\"Data After Modification:\")   \n",
    "    print(text)   "
   ]
  },
  {
   "cell_type": "markdown",
   "metadata": {},
   "source": [
    "#### Write a Program to check whether the given file exists or not if exists then print its contents"
   ]
  },
  {
   "cell_type": "code",
   "execution_count": 10,
   "metadata": {},
   "outputs": [
    {
     "name": "stdout",
     "output_type": "stream",
     "text": [
      "File Exists: Files\\abc.txt\n",
      "Content of File are-\n",
      "All Students are GEMS!!!\n",
      "\n",
      "File does not exist: abc.txt\n",
      "\n",
      "File Exists: Files\\write_demo.txt\n",
      "Content of File are-\n",
      "Sg@s3tv\n",
      "twi@s3tv\n",
      "var@s3tv\n",
      "sam@s3tv\n",
      "chu@s3tv\n",
      "\n",
      "\n",
      "File does not exist: acd.txt\n",
      "\n"
     ]
    }
   ],
   "source": [
    "import os,sys\n",
    "fname=[\"Files\\\\abc.txt\",\"abc.txt\",\"Files\\\\write_demo.txt\",\"acd.txt\"]\n",
    "for i in range(len(fname)):\n",
    "    if os.path.isfile(fname[i]):\n",
    "        print(\"File Exists:\",fname[i])\n",
    "        f=open(fname[i],\"r\")\n",
    "    else:\n",
    "        print(\"File does not exist:\",fname[i])\n",
    "        print()\n",
    "        continue\n",
    "    print(\"Content of File are-\")\n",
    "    data=f.read()\n",
    "    print(data)\n",
    "    print()"
   ]
  },
  {
   "cell_type": "markdown",
   "metadata": {},
   "source": [
    "#### Write a program to print the number of lines,words and characters present in the given file"
   ]
  },
  {
   "cell_type": "code",
   "execution_count": 11,
   "metadata": {},
   "outputs": [
    {
     "name": "stdout",
     "output_type": "stream",
     "text": [
      "File Exists: Files\\abc.txt\n",
      "lines- 1\n",
      "words- 4\n",
      "characters- 24\n",
      "\n",
      "File does not exist: abc.txt\n",
      "\n",
      "File Exists: Files\\write_demo.txt\n",
      "lines- 5\n",
      "words- 5\n",
      "characters- 44\n",
      "\n",
      "File does not exist: acd.txt\n",
      "\n"
     ]
    }
   ],
   "source": [
    "import os,sys\n",
    "fname=[\"Files\\\\abc.txt\",\"abc.txt\",\"Files\\\\write_demo.txt\",\"acd.txt\"]\n",
    "for i in range(len(fname)):\n",
    "    if os.path.isfile(fname[i]):\n",
    "        print(\"File Exists:\",fname[i])\n",
    "        f=open(fname[i],\"r\")\n",
    "    else:\n",
    "        print(\"File does not exist:\",fname[i])\n",
    "        print()\n",
    "        continue\n",
    "    lcount=wcount=ccount=0\n",
    "    for line in f:\n",
    "        lcount+=1\n",
    "        ccount+=len(line)\n",
    "        wcount+=len(line.split())\n",
    "    print(\"lines-\",lcount)\n",
    "    print(\"words-\",wcount)\n",
    "    print(\"characters-\",ccount)\n",
    "    print()"
   ]
  },
  {
   "cell_type": "markdown",
   "metadata": {},
   "source": [
    "## Handling Binary Data"
   ]
  },
  {
   "cell_type": "markdown",
   "metadata": {},
   "source": [
    "`It is very common need to read or write binary data like images,video files,audio files etc.`"
   ]
  },
  {
   "cell_type": "markdown",
   "metadata": {},
   "source": [
    "#### Program to read an image and output an different image"
   ]
  },
  {
   "cell_type": "code",
   "execution_count": 12,
   "metadata": {},
   "outputs": [],
   "source": [
    "f1=open(\"Files\\\\download.jpg\",\"rb\")\n",
    "f2=open(\"Files\\\\edit.jpg\",\"wb\")\n",
    "bytes=f1.read()\n",
    "f2.write(bytes)\n",
    "f1.close()\n",
    "f2.close()"
   ]
  },
  {
   "cell_type": "markdown",
   "metadata": {},
   "source": [
    "## Handling CSV files"
   ]
  },
  {
   "cell_type": "markdown",
   "metadata": {},
   "source": [
    "### Writing Data to CSV file:"
   ]
  },
  {
   "cell_type": "code",
   "execution_count": 13,
   "metadata": {},
   "outputs": [
    {
     "name": "stdout",
     "output_type": "stream",
     "text": [
      "Enter no. of Employees: 3\n",
      "Enter Eno,Ename,Esal,Eaddr as this format(seperator= ',' )111 abc 100 A\n",
      "Enter Eno,Ename,Esal,Eaddr as this format(seperator= ',' )222 def 101 B\n",
      "Enter Eno,Ename,Esal,Eaddr as this format(seperator= ',' )333 ghi 102 C\n",
      "Records Successfully Entered\n"
     ]
    }
   ],
   "source": [
    "import csv\n",
    "with open(\"Files\\\\emp.csv\",\"w\",newline=\"\") as f:\n",
    "    w=csv.writer(f)\n",
    "    w.writerow([\"ENO\",\"ENAME\",\"ESAL\",\"EADDR\"])\n",
    "    n=int(input(\"Enter no. of Employees: \"))\n",
    "    for i in range(n):\n",
    "        li=input(\"Enter Eno,Ename,Esal,Eaddr as this format(seperator= ',' )\").split(\",\")\n",
    "        w.writerow(li)\n",
    "    print(\"Records Successfully Entered\")    "
   ]
  },
  {
   "cell_type": "code",
   "execution_count": 24,
   "metadata": {},
   "outputs": [
    {
     "name": "stdout",
     "output_type": "stream",
     "text": [
      "ENO  ENAME  ESAL  EADDR  \n",
      "111 abc 100 A  \n",
      "222 def 101 B  \n",
      "333 ghi 102 C  \n"
     ]
    }
   ],
   "source": [
    "import csv\n",
    "f=open(\"Files\\\\emp.csv\",'r')\n",
    "r=csv.reader(f) #returns csv reader object\n",
    "data=list(r)#print(data)\n",
    "for line in data:   \n",
    "    for word in line:   \n",
    "        print(word,\" \",end='')   \n",
    "    print()"
   ]
  },
  {
   "cell_type": "markdown",
   "metadata": {},
   "source": [
    "## Zipping and Unzipping Files"
   ]
  },
  {
   "cell_type": "markdown",
   "metadata": {},
   "source": [
    "`It is very common requirement to zip and unzip files. The main advantages are:`\n",
    " \n",
    "1. To improve memory utilization\n",
    "2. We can reduce transport time\n",
    "3. We can improve performance. "
   ]
  },
  {
   "cell_type": "markdown",
   "metadata": {},
   "source": [
    "### To create Zip file: \n",
    " \n",
    "`We have to create ZipFile class object with name of the zip file,mode and constant ZIP_DEFLATED. This constant represents we are creating zip file.` \n",
    " \n",
    "**`f = ZipFile(\"files.zip\",\"w\",\"ZIP_DEFLATED\")`** \n",
    " \n",
    "`Once we create ZipFile object,we can add files by using write() method.` \n",
    " \n",
    "**`f.write(filename)`**"
   ]
  },
  {
   "cell_type": "code",
   "execution_count": 15,
   "metadata": {},
   "outputs": [
    {
     "name": "stdout",
     "output_type": "stream",
     "text": [
      "files.zip file created successfully\n"
     ]
    }
   ],
   "source": [
    "from zipfile import *\n",
    "f=ZipFile(\"Files//files.zip\",'w',ZIP_DEFLATED)\n",
    "f.write(\"Files//file1.txt\")\n",
    "f.write(\"Files//file2.txt\")\n",
    "f.close()\n",
    "print(\"files.zip file created successfully\") "
   ]
  },
  {
   "cell_type": "markdown",
   "metadata": {},
   "source": [
    "### To perform unzip operation: \n",
    " \n",
    "`We have to create ZipFile object as follows` \n",
    " \n",
    "**`f = ZipFile(\"files.zip\",\"r\",ZIP_STORED)`** \n",
    " \n",
    "`ZIP_STORED represents unzip operation. This is default value and hence we are not required to specify. Once we created ZipFile object for unzip operation,we can get all file names present in that zip file by using namelist() method.` \n",
    " \n",
    "**`names  = f.namelist()`** "
   ]
  },
  {
   "cell_type": "code",
   "execution_count": 16,
   "metadata": {},
   "outputs": [
    {
     "name": "stdout",
     "output_type": "stream",
     "text": [
      "File Name:  Files/file1.txt\n",
      "The Content of this  file is:\n",
      "file1\n",
      "\n",
      "File Name:  Files/file2.txt\n",
      "The Content of this  file is:\n",
      "file2\n",
      "\n"
     ]
    }
   ],
   "source": [
    "from zipfile import *\n",
    "f=ZipFile(\"Files\\\\files.zip\",'r',ZIP_STORED)\n",
    "names=f.namelist()\n",
    "for name in names:   \n",
    "    print(\"File Name: \",name)\n",
    "    print(\"The Content of this  file is:\")\n",
    "    f1=open(name,'r')\n",
    "    print(f1.read())\n",
    "    print()\n",
    "    f1.close()"
   ]
  },
  {
   "cell_type": "markdown",
   "metadata": {},
   "source": [
    "## Working with Directories: \n",
    " \n",
    "It is very common requirement to perform operations for directories like \n",
    " \n",
    "1. To know current working directory\n",
    "2. To create a new directory\n",
    "3. To remove an existing directory\n",
    "4. To rename a directory\n",
    "5. To list contents of the directory "
   ]
  },
  {
   "cell_type": "markdown",
   "metadata": {},
   "source": [
    "#### Q1. To Know Current Working Directory:"
   ]
  },
  {
   "cell_type": "code",
   "execution_count": 17,
   "metadata": {},
   "outputs": [
    {
     "name": "stdout",
     "output_type": "stream",
     "text": [
      "Current Working Directory: C:\\Users\\Guppi\\Desktop\\Learn-Python-By-Code\n"
     ]
    }
   ],
   "source": [
    "import os \n",
    "cwd=os.getcwd()\n",
    "print(\"Current Working Directory:\",cwd)"
   ]
  },
  {
   "cell_type": "markdown",
   "metadata": {},
   "source": [
    "#### Q2. To create a sub directory in the current working directory: "
   ]
  },
  {
   "cell_type": "code",
   "execution_count": 18,
   "metadata": {},
   "outputs": [
    {
     "name": "stdout",
     "output_type": "stream",
     "text": [
      "mysub directory created in cwd\n"
     ]
    }
   ],
   "source": [
    "import os\n",
    "os.mkdir(\"mysub\")\n",
    "print(\"mysub directory created in cwd\") "
   ]
  },
  {
   "cell_type": "markdown",
   "metadata": {},
   "source": [
    "#### Q3. To create a sub directory in mysub directory:"
   ]
  },
  {
   "cell_type": "code",
   "execution_count": 19,
   "metadata": {},
   "outputs": [
    {
     "name": "stdout",
     "output_type": "stream",
     "text": [
      "mysub2  created inside mysub\n"
     ]
    }
   ],
   "source": [
    "import os\n",
    "os.mkdir(\"mysub/mysub2\")\n",
    "print(\"mysub2  created inside mysub\") "
   ]
  },
  {
   "cell_type": "markdown",
   "metadata": {},
   "source": [
    "#### Q4. To create multiple directories like sub1 in that sub2 in that sub3: "
   ]
  },
  {
   "cell_type": "code",
   "execution_count": 20,
   "metadata": {},
   "outputs": [
    {
     "name": "stdout",
     "output_type": "stream",
     "text": [
      "sub1 and in that sub2 and in that sub3 directories created\n"
     ]
    }
   ],
   "source": [
    "import os\n",
    "os.makedirs(\"sub1/sub2/sub3\")\n",
    "print(\"sub1 and in that sub2 and in that sub3 directories created\") "
   ]
  },
  {
   "cell_type": "markdown",
   "metadata": {},
   "source": [
    "#### Q5. To remove a directory: "
   ]
  },
  {
   "cell_type": "code",
   "execution_count": 21,
   "metadata": {},
   "outputs": [
    {
     "name": "stdout",
     "output_type": "stream",
     "text": [
      "mysub2 directory deleted\n"
     ]
    }
   ],
   "source": [
    "import os\n",
    "os.rmdir(\"mysub/mysub2\")\n",
    "print(\"mysub2 directory deleted\") "
   ]
  },
  {
   "cell_type": "markdown",
   "metadata": {},
   "source": [
    "#### Q6. To remove multiple directories in the path: "
   ]
  },
  {
   "cell_type": "code",
   "execution_count": 22,
   "metadata": {},
   "outputs": [
    {
     "name": "stdout",
     "output_type": "stream",
     "text": [
      "All 3 directories sub1,sub2 and sub3 removed\n"
     ]
    }
   ],
   "source": [
    "import os\n",
    "os.removedirs(\"sub1/sub2/sub3\")\n",
    "print(\"All 3 directories sub1,sub2 and sub3 removed\") "
   ]
  },
  {
   "cell_type": "markdown",
   "metadata": {},
   "source": [
    "#### Q7. To rename a directory: "
   ]
  },
  {
   "cell_type": "code",
   "execution_count": 25,
   "metadata": {},
   "outputs": [
    {
     "name": "stdout",
     "output_type": "stream",
     "text": [
      "mysub directory renamed to newdir\n"
     ]
    }
   ],
   "source": [
    "import os\n",
    "os.rename(\"mysub\",\"newdir\") \n",
    "print(\"mysub directory renamed to newdir\") "
   ]
  },
  {
   "cell_type": "markdown",
   "metadata": {},
   "source": [
    "#### Q8. To know contents of directory: "
   ]
  },
  {
   "cell_type": "code",
   "execution_count": 26,
   "metadata": {},
   "outputs": [
    {
     "name": "stdout",
     "output_type": "stream",
     "text": [
      "['.git', '.ipynb_checkpoints', 'abc.py', 'DATA TYPES.ipynb', 'Dictionary.ipynb', 'emp.dat', 'Files', 'FLOW CONTROL.ipynb', 'IDENTIFIERS.ipynb', 'INPUT AND OUTPUT.ipynb', 'Introduction.ipynb', 'List.ipynb', 'newdir', 'OPERATORS.ipynb', 'README.md', 'Regular Expressions.ipynb', 'Set.ipynb', 'String.ipynb', 'Tuple.ipynb', 'Type Casting.ipynb', 'Untitled.ipynb']\n"
     ]
    }
   ],
   "source": [
    "import os   \n",
    "print(os.listdir(\".\")) "
   ]
  },
  {
   "cell_type": "markdown",
   "metadata": {},
   "source": [
    "#### Q9. To know contents of directory including sub directories: "
   ]
  },
  {
   "cell_type": "code",
   "execution_count": 27,
   "metadata": {},
   "outputs": [
    {
     "name": "stdout",
     "output_type": "stream",
     "text": [
      "Current Directory Path: .\n",
      "Directories: ['.git', '.ipynb_checkpoints', 'Files', 'newdir']\n",
      "Files: ['abc.py', 'DATA TYPES.ipynb', 'Dictionary.ipynb', 'emp.dat', 'FLOW CONTROL.ipynb', 'IDENTIFIERS.ipynb', 'INPUT AND OUTPUT.ipynb', 'Introduction.ipynb', 'List.ipynb', 'OPERATORS.ipynb', 'README.md', 'Regular Expressions.ipynb', 'Set.ipynb', 'String.ipynb', 'Tuple.ipynb', 'Type Casting.ipynb', 'Untitled.ipynb']\n",
      "\n",
      "Current Directory Path: .\\.git\n",
      "Directories: ['hooks', 'info', 'logs', 'objects', 'refs']\n",
      "Files: ['COMMIT_EDITMSG', 'config', 'description', 'HEAD', 'index', 'packed-refs']\n",
      "\n",
      "Current Directory Path: .\\.git\\hooks\n",
      "Directories: []\n",
      "Files: ['applypatch-msg.sample', 'commit-msg.sample', 'fsmonitor-watchman.sample', 'post-update.sample', 'pre-applypatch.sample', 'pre-commit.sample', 'pre-merge-commit.sample', 'pre-push.sample', 'pre-rebase.sample', 'pre-receive.sample', 'prepare-commit-msg.sample', 'update.sample']\n",
      "\n",
      "Current Directory Path: .\\.git\\info\n",
      "Directories: []\n",
      "Files: ['exclude']\n",
      "\n",
      "Current Directory Path: .\\.git\\logs\n",
      "Directories: ['refs']\n",
      "Files: ['HEAD']\n",
      "\n",
      "Current Directory Path: .\\.git\\logs\\refs\n",
      "Directories: ['heads', 'remotes']\n",
      "Files: []\n",
      "\n",
      "Current Directory Path: .\\.git\\logs\\refs\\heads\n",
      "Directories: []\n",
      "Files: ['master']\n",
      "\n",
      "Current Directory Path: .\\.git\\logs\\refs\\remotes\n",
      "Directories: ['origin']\n",
      "Files: []\n",
      "\n",
      "Current Directory Path: .\\.git\\logs\\refs\\remotes\\origin\n",
      "Directories: []\n",
      "Files: ['HEAD', 'master']\n",
      "\n",
      "Current Directory Path: .\\.git\\objects\n",
      "Directories: ['0a', '0b', '12', '15', '17', '1a', '1b', '37', '3e', '53', '54', '55', '57', '6b', '88', '99', 'a4', 'b7', 'cf', 'd6', 'd8', 'e7', 'ea', 'ee', 'ef', 'f5', 'info', 'pack']\n",
      "Files: []\n",
      "\n",
      "Current Directory Path: .\\.git\\objects\\0a\n",
      "Directories: []\n",
      "Files: ['3a6cc6d9fc4c83d8dddad49fb3281b210fe0d8']\n",
      "\n",
      "Current Directory Path: .\\.git\\objects\\0b\n",
      "Directories: []\n",
      "Files: ['6693176d0f626f74402b245042a1e1394c4d10']\n",
      "\n",
      "Current Directory Path: .\\.git\\objects\\12\n",
      "Directories: []\n",
      "Files: ['fa8903b85c52872a9d66e448b266bab54aa0e4']\n",
      "\n",
      "Current Directory Path: .\\.git\\objects\\15\n",
      "Directories: []\n",
      "Files: ['8ac98344fd2c15eb35560352828a8195265845']\n",
      "\n",
      "Current Directory Path: .\\.git\\objects\\17\n",
      "Directories: []\n",
      "Files: ['408804ed91fb9be43a04be2c939e316d108df7']\n",
      "\n",
      "Current Directory Path: .\\.git\\objects\\1a\n",
      "Directories: []\n",
      "Files: ['46aa4af35c6f58273cebc9a606e77b5e94fbe7']\n",
      "\n",
      "Current Directory Path: .\\.git\\objects\\1b\n",
      "Directories: []\n",
      "Files: ['c220504d2186310ad0025ae1030e87e956520b']\n",
      "\n",
      "Current Directory Path: .\\.git\\objects\\37\n",
      "Directories: []\n",
      "Files: ['12c6241888289f9f234b2a4b1e31a720513dcd']\n",
      "\n",
      "Current Directory Path: .\\.git\\objects\\3e\n",
      "Directories: []\n",
      "Files: ['888e14ba40fe6786c324d728273978701f9d3f']\n",
      "\n",
      "Current Directory Path: .\\.git\\objects\\53\n",
      "Directories: []\n",
      "Files: ['80da1685ac7633f1ce6f5b47ba5f90d2bfc910']\n",
      "\n",
      "Current Directory Path: .\\.git\\objects\\54\n",
      "Directories: []\n",
      "Files: ['402f93636dba76e2332e07208f42b589c202b8']\n",
      "\n",
      "Current Directory Path: .\\.git\\objects\\55\n",
      "Directories: []\n",
      "Files: ['26b82cd0989530871e8509331ceba355d40999']\n",
      "\n",
      "Current Directory Path: .\\.git\\objects\\57\n",
      "Directories: []\n",
      "Files: ['3a31332c3c5685acfe8ea2b554976b7dd876a7']\n",
      "\n",
      "Current Directory Path: .\\.git\\objects\\6b\n",
      "Directories: []\n",
      "Files: ['261df50a816e0b8955a016b37fd95a403d3d4f', '815e883126308d6fbce1258eb2bd7bb568e68d']\n",
      "\n",
      "Current Directory Path: .\\.git\\objects\\88\n",
      "Directories: []\n",
      "Files: ['90a63f99bcde207381b2f73d0171a84129cdf7']\n",
      "\n",
      "Current Directory Path: .\\.git\\objects\\99\n",
      "Directories: []\n",
      "Files: ['2646f4bac6c3911096e41a6b5768a9d357dd8f']\n",
      "\n",
      "Current Directory Path: .\\.git\\objects\\a4\n",
      "Directories: []\n",
      "Files: ['2886a61e1cf484042074c5e49fc6bf07d9e128']\n",
      "\n",
      "Current Directory Path: .\\.git\\objects\\b7\n",
      "Directories: []\n",
      "Files: ['4a897798856ffcaadf97e83c65794a1eaf04fd']\n",
      "\n",
      "Current Directory Path: .\\.git\\objects\\cf\n",
      "Directories: []\n",
      "Files: ['60c4375a6dcb2b86ab736c0a1116d0d42d7ad8']\n",
      "\n",
      "Current Directory Path: .\\.git\\objects\\d6\n",
      "Directories: []\n",
      "Files: ['f960632bd16364a2712f229c7878fd2015893d']\n",
      "\n",
      "Current Directory Path: .\\.git\\objects\\d8\n",
      "Directories: []\n",
      "Files: ['94c1e6854b43fe964c2af5e7a53466d3af1330']\n",
      "\n",
      "Current Directory Path: .\\.git\\objects\\e7\n",
      "Directories: []\n",
      "Files: ['82f85f82315d5e35e1f69e667b3ea2daea8fed']\n",
      "\n",
      "Current Directory Path: .\\.git\\objects\\ea\n",
      "Directories: []\n",
      "Files: ['3a6893cfb4ae7f54cca6d6d284c5793518a9a2']\n",
      "\n",
      "Current Directory Path: .\\.git\\objects\\ee\n",
      "Directories: []\n",
      "Files: ['680702fc69839d9675939566be1d15ce7ea5af']\n",
      "\n",
      "Current Directory Path: .\\.git\\objects\\ef\n",
      "Directories: []\n",
      "Files: ['91851a451238d25edc78f3d6ccad6521112460']\n",
      "\n",
      "Current Directory Path: .\\.git\\objects\\f5\n",
      "Directories: []\n",
      "Files: ['59fd91a63f0146c3225e5fef826be4df4415b9', 'dfc581f894b213fd4b23f5d14bc0faa3f6da41']\n",
      "\n",
      "Current Directory Path: .\\.git\\objects\\info\n",
      "Directories: []\n",
      "Files: []\n",
      "\n",
      "Current Directory Path: .\\.git\\objects\\pack\n",
      "Directories: []\n",
      "Files: ['pack-7cef34290bd8dbe4e521ed5b2bbe5523e8e72196.idx', 'pack-7cef34290bd8dbe4e521ed5b2bbe5523e8e72196.pack']\n",
      "\n",
      "Current Directory Path: .\\.git\\refs\n",
      "Directories: ['heads', 'remotes', 'tags']\n",
      "Files: []\n",
      "\n",
      "Current Directory Path: .\\.git\\refs\\heads\n",
      "Directories: []\n",
      "Files: ['master']\n",
      "\n",
      "Current Directory Path: .\\.git\\refs\\remotes\n",
      "Directories: ['origin']\n",
      "Files: []\n",
      "\n",
      "Current Directory Path: .\\.git\\refs\\remotes\\origin\n",
      "Directories: []\n",
      "Files: ['HEAD', 'master']\n",
      "\n",
      "Current Directory Path: .\\.git\\refs\\tags\n",
      "Directories: []\n",
      "Files: []\n",
      "\n",
      "Current Directory Path: .\\.ipynb_checkpoints\n",
      "Directories: []\n",
      "Files: ['DATA TYPES-checkpoint.ipynb', 'Dictionary-checkpoint.ipynb', 'FLOW CONTROL-checkpoint.ipynb', 'IDENTIFIERS-checkpoint.ipynb', 'INPUT AND OUTPUT-checkpoint.ipynb', 'Introduction-checkpoint.ipynb', 'List-checkpoint.ipynb', 'OPERATORS-checkpoint.ipynb', 'Regular Expressions-checkpoint.ipynb', 'Set-checkpoint.ipynb', 'String-checkpoint.ipynb', 'Tuple-checkpoint.ipynb', 'Type Casting-checkpoint.ipynb', 'Untitled-checkpoint.ipynb']\n",
      "\n",
      "Current Directory Path: .\\Files\n",
      "Directories: ['.ipynb_checkpoints']\n",
      "Files: ['abc.txt', 'download.jpg', 'edit.jpg', 'emp.csv', 'file1.txt', 'file2.txt', 'files.zip', 'write_demo.txt']\n",
      "\n",
      "Current Directory Path: .\\Files\\.ipynb_checkpoints\n",
      "Directories: []\n",
      "Files: []\n",
      "\n",
      "Current Directory Path: .\\newdir\n",
      "Directories: []\n",
      "Files: []\n",
      "\n"
     ]
    }
   ],
   "source": [
    "import os \n",
    "for dirpath,dirnames,filenames  in os.walk('.'):\n",
    "    print(\"Current Directory Path:\",dirpath)\n",
    "    print(\"Directories:\",dirnames)\n",
    "    print(\"Files:\",filenames)\n",
    "    print() "
   ]
  },
  {
   "cell_type": "markdown",
   "metadata": {},
   "source": [
    "#### Q10. To print all statistics of file abc.txt: "
   ]
  },
  {
   "cell_type": "code",
   "execution_count": 28,
   "metadata": {},
   "outputs": [
    {
     "name": "stdout",
     "output_type": "stream",
     "text": [
      "os.stat_result(st_mode=33206, st_ino=4222124651298676, st_dev=2354977725, st_nlink=1, st_uid=0, st_gid=0, st_size=24, st_atime=1592993120, st_mtime=1592993120, st_ctime=1592938376)\n"
     ]
    }
   ],
   "source": [
    "import os\n",
    "stats=os.stat(\"Files\\\\abc.txt\")\n",
    "print(stats) "
   ]
  },
  {
   "cell_type": "markdown",
   "metadata": {},
   "source": [
    "#### Q11. To print specified properties: "
   ]
  },
  {
   "cell_type": "code",
   "execution_count": 29,
   "metadata": {},
   "outputs": [
    {
     "name": "stdout",
     "output_type": "stream",
     "text": [
      "File Size in Bytes: 24\n",
      "File Last Accessed Time: 2020-06-24 15:35:20.568295\n",
      "File Last Modified Time: 2020-06-24 15:35:20.568295\n"
     ]
    }
   ],
   "source": [
    "import os\n",
    "from  datetime   import *\n",
    "stats=os.stat(\"Files\\\\abc.txt\")\n",
    "print(\"File Size in Bytes:\",stats.st_size)\n",
    "print(\"File Last Accessed Time:\",datetime.fromtimestamp(stats.st_atime))\n",
    "print(\"File Last Modified Time:\",datetime.fromtimestamp(stats.st_mtime)) "
   ]
  },
  {
   "cell_type": "markdown",
   "metadata": {},
   "source": [
    "## Pickling and Unpickling of Objects: \n",
    " \n",
    "Sometimes we have to write total state of object to the file and we have to read total object from the file. \n",
    " \n",
    "The process of writing state of object to the file is called pickling and the process of reading state of an object from the file is called unpickling.  \n",
    " \n",
    "We can implement pickling and unpickling by using pickle module of Python. \n",
    " \n",
    "pickle module contains dump() function to perform pickling. \n",
    " \n",
    "**`pickle.dump(object,file)`** \n",
    " \n",
    "pickle module contains load() function to perform unpickling \n",
    " \n",
    "**`obj=pickle.load(file)`** \n",
    " \n",
    " "
   ]
  },
  {
   "cell_type": "markdown",
   "metadata": {},
   "source": [
    "### Writing and Reading State of object by using pickle Module"
   ]
  },
  {
   "cell_type": "code",
   "execution_count": 30,
   "metadata": {},
   "outputs": [
    {
     "name": "stdout",
     "output_type": "stream",
     "text": [
      "Pickling of Employee Object completed...\n",
      "Printing Employee Information after unpickling\n",
      "100 \t Sg \t 1000 \t UP\n"
     ]
    }
   ],
   "source": [
    "import pickle\n",
    "class Employee:\n",
    "    def __init__(self,eno,ename,esal,eaddr):\n",
    "        self.eno=eno;\n",
    "        self.ename=ename;\n",
    "        self.esal=esal;\n",
    "        self.eaddr=eaddr;\n",
    "    def display(self):\n",
    "        print(self.eno,\"\\t\",self.ename,\"\\t\",self.esal,\"\\t\",self.eaddr)\n",
    "with open(\"emp.dat\",\"wb\") as f:\n",
    "    e=Employee(100,\"Sg\",1000,\"UP\")\n",
    "    pickle.dump(e,f)\n",
    "    print(\"Pickling of Employee Object completed...\")\n",
    "with open(\"emp.dat\",\"rb\") as f:\n",
    "    obj=pickle.load(f)\n",
    "    print(\"Printing Employee Information after unpickling\")\n",
    "    obj.display()   \n"
   ]
  },
  {
   "cell_type": "markdown",
   "metadata": {},
   "source": [
    "### Writing Multiple Employee Objects to the file: "
   ]
  },
  {
   "cell_type": "code",
   "execution_count": 31,
   "metadata": {},
   "outputs": [],
   "source": [
    "#emp.py: \n",
    "\n",
    "class Employee:\n",
    "    def __init__(self,eno,ename,esal,eaddr):\n",
    "        self.eno=eno;\n",
    "        self.ename=ename;\n",
    "        self.esal=esal;\n",
    "        self.eaddr=eaddr;\n",
    "    def display(self):\n",
    "        print(self.eno,\"\\t\",self.ename,\"\\t\",self.esal,\"\\t\",self.eaddr) "
   ]
  },
  {
   "cell_type": "code",
   "execution_count": 32,
   "metadata": {},
   "outputs": [
    {
     "name": "stdout",
     "output_type": "stream",
     "text": [
      "Enter The number of Employees:3\n",
      "Enter Employee Number:1\n",
      "Enter Employee Name:sg\n",
      "Enter Employee Salary:1000\n",
      "Enter Employee Address:abcd\n",
      "Employee Objects pickled successfully\n",
      "Enter Employee Number:2\n",
      "Enter Employee Name:tv\n",
      "Enter Employee Salary:2000\n",
      "Enter Employee Address:bgfd\n",
      "Employee Objects pickled successfully\n",
      "Enter Employee Number:3\n",
      "Enter Employee Name:ss\n",
      "Enter Employee Salary:2000\n",
      "Enter Employee Address:ghtr\n",
      "Employee Objects pickled successfully\n"
     ]
    }
   ],
   "source": [
    "#pick.py: \n",
    "import pickle\n",
    "f=open(\"Files\\\\emp.dat\",\"wb\")\n",
    "n=int(input(\"Enter The number of Employees:\"))\n",
    "for i in range(n):\n",
    "    eno=int(input(\"Enter Employee Number:\"))\n",
    "    ename=input(\"Enter Employee Name:\")\n",
    "    esal=float(input(\"Enter Employee Salary:\"))\n",
    "    eaddr=input(\"Enter Employee Address:\")\n",
    "    e=Employee(eno,ename,esal,eaddr)\n",
    "    pickle.dump(e,f)\n",
    "    print(\"Employee Objects pickled successfully\") "
   ]
  },
  {
   "cell_type": "code",
   "execution_count": 33,
   "metadata": {},
   "outputs": [
    {
     "name": "stdout",
     "output_type": "stream",
     "text": [
      "Employee Details:\n",
      "1 \t sg \t 1000.0 \t abcd\n",
      "2 \t tv \t 2000.0 \t bgfd\n",
      "3 \t ss \t 2000.0 \t ghtr\n",
      "All employees Completed\n"
     ]
    }
   ],
   "source": [
    "#unpick.py: \n",
    "import pickle\n",
    "f=open(\"Files\\\\emp.dat\",\"rb\")\n",
    "print(\"Employee Details:\")\n",
    "while True:\n",
    "    try:\n",
    "        obj=pickle.load(f)\n",
    "        obj.display()\n",
    "    except EOFError:\n",
    "        print(\"All employees Completed\")\n",
    "        break\n",
    "f.close()   "
   ]
  }
 ],
 "metadata": {
  "kernelspec": {
   "display_name": "Python 3",
   "language": "python",
   "name": "python3"
  },
  "language_info": {
   "codemirror_mode": {
    "name": "ipython",
    "version": 3
   },
   "file_extension": ".py",
   "mimetype": "text/x-python",
   "name": "python",
   "nbconvert_exporter": "python",
   "pygments_lexer": "ipython3",
   "version": "3.8.3"
  }
 },
 "nbformat": 4,
 "nbformat_minor": 4
}
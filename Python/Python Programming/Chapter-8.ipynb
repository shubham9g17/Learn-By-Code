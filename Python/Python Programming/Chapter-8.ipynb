{
 "cells": [
  {
   "cell_type": "markdown",
   "metadata": {},
   "source": [
    "# What is string"
   ]
  },
  {
   "cell_type": "markdown",
   "metadata": {},
   "source": [
    "Any sequence of characters in single or double quotes is known as string"
   ]
  },
  {
   "cell_type": "code",
   "execution_count": 3,
   "metadata": {},
   "outputs": [
    {
     "name": "stdout",
     "output_type": "stream",
     "text": [
      "<class 'str'> <class 'str'>\n"
     ]
    }
   ],
   "source": [
    "sg=\"shubham\"\n",
    "s1='shubham'\n",
    "print(type(sg),type(s1))"
   ]
  },
  {
   "cell_type": "code",
   "execution_count": 5,
   "metadata": {},
   "outputs": [
    {
     "data": {
      "text/plain": [
       "str"
      ]
     },
     "execution_count": 5,
     "metadata": {},
     "output_type": "execute_result"
    }
   ],
   "source": [
    "ch=\"a\"\n",
    "type(ch) # There is no character datatype in python"
   ]
  },
  {
   "cell_type": "markdown",
   "metadata": {},
   "source": [
    "# How to define multi-line string literals"
   ]
  },
  {
   "cell_type": "code",
   "execution_count": 8,
   "metadata": {},
   "outputs": [],
   "source": [
    "s='''Excuses sound best to the person\n",
    "who is making them''' "
   ]
  },
  {
   "cell_type": "code",
   "execution_count": 9,
   "metadata": {},
   "outputs": [
    {
     "name": "stdout",
     "output_type": "stream",
     "text": [
      "Excuses sound best to the person\n",
      "who is making them\n"
     ]
    }
   ],
   "source": [
    "print(s)"
   ]
  },
  {
   "cell_type": "markdown",
   "metadata": {},
   "source": [
    " # How to access characters of a string"
   ]
  },
  {
   "cell_type": "markdown",
   "metadata": {},
   "source": [
    "## 1. By using index"
   ]
  },
  {
   "cell_type": "markdown",
   "metadata": {},
   "source": [
    "    Python supports both +ve and -ve index\n",
    "    +ve index means from left to right(forward direction)\n",
    "    -ve index means from right to left(backward direction)"
   ]
  },
  {
   "cell_type": "code",
   "execution_count": 20,
   "metadata": {},
   "outputs": [
    {
     "name": "stdout",
     "output_type": "stream",
     "text": [
      "shubham\n",
      "-7 -6 -5 -4 -3 -2 -1 \n",
      "s  h  u  b  h  a  m  \n",
      "0  1  2  3  4  5  6  "
     ]
    }
   ],
   "source": [
    "s=input()\n",
    "for i in range(len(s),0,-1):\n",
    "    print(-(i),end=\" \")\n",
    "print()\n",
    "for i in s:\n",
    "    print(i,end=\"  \")\n",
    "print()\n",
    "for i in range(len(s)):\n",
    "    print(i,end=\"  \")"
   ]
  },
  {
   "cell_type": "code",
   "execution_count": 21,
   "metadata": {},
   "outputs": [
    {
     "data": {
      "text/plain": [
       "'u'"
      ]
     },
     "execution_count": 21,
     "metadata": {},
     "output_type": "execute_result"
    }
   ],
   "source": [
    "s[-5]"
   ]
  },
  {
   "cell_type": "code",
   "execution_count": 15,
   "metadata": {},
   "outputs": [
    {
     "ename": "IndexError",
     "evalue": "string index out of range",
     "output_type": "error",
     "traceback": [
      "\u001b[1;31m---------------------------------------------------------------------------\u001b[0m",
      "\u001b[1;31mIndexError\u001b[0m                                Traceback (most recent call last)",
      "\u001b[1;32m<ipython-input-15-7061a0aed4d5>\u001b[0m in \u001b[0;36m<module>\u001b[1;34m\u001b[0m\n\u001b[1;32m----> 1\u001b[1;33m \u001b[0ms\u001b[0m\u001b[1;33m[\u001b[0m\u001b[1;36m9\u001b[0m\u001b[1;33m]\u001b[0m \u001b[1;31m#when we try to access index that is out of range for string length\u001b[0m\u001b[1;33m\u001b[0m\u001b[1;33m\u001b[0m\u001b[0m\n\u001b[0m",
      "\u001b[1;31mIndexError\u001b[0m: string index out of range"
     ]
    }
   ],
   "source": [
    "s[9] #when we try to access index that is out of range for string length "
   ]
  },
  {
   "cell_type": "markdown",
   "metadata": {},
   "source": [
    "## 2. Accessing characters by using slice operator"
   ]
  },
  {
   "cell_type": "markdown",
   "metadata": {},
   "source": [
    "    s[beg : end : step]\n",
    "    beg:- from where we have to take the substring\n",
    "    end:- till the point(end-1) to which we want to end the substring\n",
    "    step:- increment value"
   ]
  },
  {
   "cell_type": "markdown",
   "metadata": {},
   "source": [
    "    step value can be either +ve or -ve\n",
    "    if +ve then we have to consider from beg to end-1\n",
    "    if -ve then we have to consider from beg to end+1"
   ]
  },
  {
   "cell_type": "markdown",
   "metadata": {},
   "source": [
    "    In the backward direction if end value is -1 then result is an empty string\n",
    "    In the forward direction if end value is 0 then result is an empty string"
   ]
  },
  {
   "cell_type": "markdown",
   "metadata": {},
   "source": [
    "#### In forward direction"
   ]
  },
  {
   "cell_type": "markdown",
   "metadata": {},
   "source": [
    "    **Default Value**\n",
    "    beg:- 0\n",
    "    end:- len(string)\n",
    "    step:- 1"
   ]
  },
  {
   "cell_type": "markdown",
   "metadata": {},
   "source": [
    "#### In backward direction"
   ]
  },
  {
   "cell_type": "markdown",
   "metadata": {},
   "source": [
    "    **Default Value**\n",
    "    beg:- -1\n",
    "    end:- -(len(string)+1)\n",
    "    "
   ]
  },
  {
   "cell_type": "markdown",
   "metadata": {},
   "source": [
    "**Either forward direction or backward direction , we can take both +ve and -ve values for beg and end index**"
   ]
  },
  {
   "cell_type": "code",
   "execution_count": 22,
   "metadata": {},
   "outputs": [
    {
     "name": "stdout",
     "output_type": "stream",
     "text": [
      "h\n",
      "m\n",
      "shub\n",
      "hubh\n",
      "mahbuhs\n",
      "shubham\n",
      "ha\n",
      "ma\n"
     ]
    }
   ],
   "source": [
    "s=\"shubham\"\n",
    "print(s[1])#chracter at index 1\n",
    "print(s[len(s)-1])#chracter at index last\n",
    "print(s[:4])#substring from 0 till 4(not included) \n",
    "print(s[1:5])#substring from 1 till 5\n",
    "print(s[::-1])#reverse string\n",
    "print(s[::])#string\n",
    "print(s[4:-1])#substring from 4 till -1(negative index) \n",
    "print(s[:4:-1])#substring from right index till 4 in reverse order"
   ]
  },
  {
   "cell_type": "markdown",
   "metadata": {},
   "source": [
    "# Mathematical Operation"
   ]
  },
  {
   "cell_type": "code",
   "execution_count": 26,
   "metadata": {},
   "outputs": [
    {
     "name": "stdout",
     "output_type": "stream",
     "text": [
      "shubham gupta\n",
      "shubhamshubhamshubhamshubhamshubham\n"
     ]
    }
   ],
   "source": [
    "s=\"shubham\"\n",
    "age=21\n",
    "print(s+\" gupta\")# string concatenation\n",
    "print(s*5) #string repetition"
   ]
  },
  {
   "cell_type": "markdown",
   "metadata": {},
   "source": [
    "## len()"
   ]
  },
  {
   "cell_type": "code",
   "execution_count": 27,
   "metadata": {},
   "outputs": [
    {
     "data": {
      "text/plain": [
       "7"
      ]
     },
     "execution_count": 27,
     "metadata": {},
     "output_type": "execute_result"
    }
   ],
   "source": [
    "len(\"shubham\") # no of chracters in string"
   ]
  },
  {
   "cell_type": "markdown",
   "metadata": {},
   "source": [
    "## checking membership"
   ]
  },
  {
   "cell_type": "code",
   "execution_count": 30,
   "metadata": {},
   "outputs": [
    {
     "name": "stdout",
     "output_type": "stream",
     "text": [
      "True\n",
      "False\n",
      "True\n"
     ]
    }
   ],
   "source": [
    "string=\"sg@s3tv\"\n",
    "print(\"sg\" in string)\n",
    "print(\"s3\" not in string)\n",
    "print(\"@\" in string)"
   ]
  },
  {
   "cell_type": "markdown",
   "metadata": {},
   "source": [
    "## comparison of strings"
   ]
  },
  {
   "cell_type": "code",
   "execution_count": 33,
   "metadata": {},
   "outputs": [
    {
     "name": "stdout",
     "output_type": "stream",
     "text": [
      "False\n",
      "True\n"
     ]
    }
   ],
   "source": [
    "print(\"shubham\"==\"sg\")\n",
    "print(\"sg\"<\"sg@s3tv\") # comparision will be performed based on alphabetical order"
   ]
  },
  {
   "cell_type": "markdown",
   "metadata": {},
   "source": [
    "## Removing spaces from string"
   ]
  },
  {
   "cell_type": "markdown",
   "metadata": {},
   "source": [
    "    rstrip():- To remove space from right side\n",
    "    lstrip():- To remove space from left side\n",
    "    strip():- To remove space from both side"
   ]
  },
  {
   "cell_type": "code",
   "execution_count": 36,
   "metadata": {},
   "outputs": [
    {
     "name": "stdout",
     "output_type": "stream",
     "text": [
      " shubham||shubham ||shubham\n"
     ]
    }
   ],
   "source": [
    "print(\" shubham \".rstrip(),\" shubham \".lstrip(),\" shubham \".strip(),sep=\"||\")"
   ]
  },
  {
   "cell_type": "markdown",
   "metadata": {},
   "source": [
    "## Finding substrings"
   ]
  },
  {
   "cell_type": "markdown",
   "metadata": {},
   "source": [
    "### 1. find()"
   ]
  },
  {
   "cell_type": "markdown",
   "metadata": {},
   "source": [
    "    s.find(substring):- searches the substring in whole string, returns first matched location\n",
    "    s.find(subs,beg,end):- searches the substring from beg to end-1 index"
   ]
  },
  {
   "cell_type": "code",
   "execution_count": 49,
   "metadata": {},
   "outputs": [],
   "source": [
    "s=\"learning Python is very easy Python\""
   ]
  },
  {
   "cell_type": "code",
   "execution_count": 39,
   "metadata": {},
   "outputs": [
    {
     "data": {
      "text/plain": [
       "9"
      ]
     },
     "execution_count": 39,
     "metadata": {},
     "output_type": "execute_result"
    }
   ],
   "source": [
    "s.find(\"Python\")"
   ]
  },
  {
   "cell_type": "code",
   "execution_count": 40,
   "metadata": {},
   "outputs": [
    {
     "data": {
      "text/plain": [
       "-1"
      ]
     },
     "execution_count": 40,
     "metadata": {},
     "output_type": "execute_result"
    }
   ],
   "source": [
    "s.find(\"python\",30,len(s)) #it basically means searching in the string s[30:]"
   ]
  },
  {
   "cell_type": "code",
   "execution_count": 51,
   "metadata": {},
   "outputs": [
    {
     "data": {
      "text/plain": [
       "'ython'"
      ]
     },
     "execution_count": 51,
     "metadata": {},
     "output_type": "execute_result"
    }
   ],
   "source": [
    "s[30:] # as you can see there is no desired substring we want to search"
   ]
  },
  {
   "cell_type": "markdown",
   "metadata": {},
   "source": [
    "### 2. index()"
   ]
  },
  {
   "cell_type": "code",
   "execution_count": 42,
   "metadata": {},
   "outputs": [
    {
     "data": {
      "text/plain": [
       "9"
      ]
     },
     "execution_count": 42,
     "metadata": {},
     "output_type": "execute_result"
    }
   ],
   "source": [
    "s.index(\"Python\")"
   ]
  },
  {
   "cell_type": "code",
   "execution_count": 44,
   "metadata": {},
   "outputs": [
    {
     "ename": "ValueError",
     "evalue": "substring not found",
     "output_type": "error",
     "traceback": [
      "\u001b[1;31m---------------------------------------------------------------------------\u001b[0m",
      "\u001b[1;31mValueError\u001b[0m                                Traceback (most recent call last)",
      "\u001b[1;32m<ipython-input-44-2c7fd92361f8>\u001b[0m in \u001b[0;36m<module>\u001b[1;34m\u001b[0m\n\u001b[1;32m----> 1\u001b[1;33m \u001b[0ms\u001b[0m\u001b[1;33m.\u001b[0m\u001b[0mindex\u001b[0m\u001b[1;33m(\u001b[0m\u001b[1;34m\"python\"\u001b[0m\u001b[1;33m,\u001b[0m\u001b[1;36m10\u001b[0m\u001b[1;33m,\u001b[0m\u001b[0mlen\u001b[0m\u001b[1;33m(\u001b[0m\u001b[0ms\u001b[0m\u001b[1;33m)\u001b[0m\u001b[1;33m)\u001b[0m \u001b[1;31m# it is same as find() function except the fact it gives error\u001b[0m\u001b[1;33m\u001b[0m\u001b[1;33m\u001b[0m\u001b[0m\n\u001b[0m",
      "\u001b[1;31mValueError\u001b[0m: substring not found"
     ]
    }
   ],
   "source": [
    "s.index(\"python\",10,len(s)) # it is same as find() function except the fact it gives error "
   ]
  },
  {
   "cell_type": "markdown",
   "metadata": {},
   "source": [
    "**for backward direction**\n"
   ]
  },
  {
   "cell_type": "markdown",
   "metadata": {},
   "source": [
    "we use rfind() , rindex()"
   ]
  },
  {
   "cell_type": "code",
   "execution_count": 50,
   "metadata": {},
   "outputs": [
    {
     "data": {
      "text/plain": [
       "29"
      ]
     },
     "execution_count": 50,
     "metadata": {},
     "output_type": "execute_result"
    }
   ],
   "source": [
    "s.rindex(\"Python\")"
   ]
  },
  {
   "cell_type": "code",
   "execution_count": 55,
   "metadata": {},
   "outputs": [
    {
     "name": "stdout",
     "output_type": "stream",
     "text": [
      "Enter string\n",
      "string which is a string of strings is also a string\n",
      "Enter substring\n",
      "string\n",
      "string  is found at index  0\n",
      "string  is found at index  18\n",
      "string  is found at index  28\n",
      "string  is found at index  46\n"
     ]
    }
   ],
   "source": [
    "# Program to display all the index at which the substring is present\n",
    "string=input(\"Enter string\\n\")\n",
    "substring=input(\"Enter substring\\n\")\n",
    "pos=-1\n",
    "flag=False\n",
    "n=len(string)\n",
    "while True:\n",
    "    pos=string.find(substring,pos+1,n)\n",
    "    if pos==-1:\n",
    "        break\n",
    "    else:\n",
    "        print(substring,\" is found at index \",pos)\n",
    "        flag=True\n",
    "if flag==False:\n",
    "    print(\"Not Found\")"
   ]
  },
  {
   "cell_type": "markdown",
   "metadata": {},
   "source": [
    "## counting substring\n"
   ]
  },
  {
   "cell_type": "code",
   "execution_count": 56,
   "metadata": {},
   "outputs": [
    {
     "data": {
      "text/plain": [
       "4"
      ]
     },
     "execution_count": 56,
     "metadata": {},
     "output_type": "execute_result"
    }
   ],
   "source": [
    "string.count(\"string\")#counts total no of string comes in the main string\n"
   ]
  },
  {
   "cell_type": "code",
   "execution_count": 58,
   "metadata": {},
   "outputs": [
    {
     "data": {
      "text/plain": [
       "2"
      ]
     },
     "execution_count": 58,
     "metadata": {},
     "output_type": "execute_result"
    }
   ],
   "source": [
    "string.count(\"string\",20,len(string)) #counts \"string\" count from beg to end-1"
   ]
  },
  {
   "cell_type": "markdown",
   "metadata": {},
   "source": [
    "## replacing a string with another string"
   ]
  },
  {
   "cell_type": "code",
   "execution_count": 7,
   "metadata": {},
   "outputs": [
    {
     "name": "stdout",
     "output_type": "stream",
     "text": [
      "Enter  stringreplace two with three\n",
      "enter 1st wordtwo\n",
      "enter 2nd wordthree\n",
      "replace two with three\n",
      "replace three with two\n"
     ]
    }
   ],
   "source": [
    "no=input(\"Enter  string\")\n",
    "st1=input(\"enter 1st word\")\n",
    "st2 = input(\"enter 2nd word\")\n",
    "no1=no.replace(st1,\"@\")\n",
    "no2=no1.replace(st2,st1)\n",
    "no3=no2.replace(\"@\",st2)\n",
    "print(no)\n",
    "print(no3)"
   ]
  },
  {
   "cell_type": "code",
   "execution_count": 64,
   "metadata": {},
   "outputs": [
    {
     "name": "stdout",
     "output_type": "stream",
     "text": [
      "enter any stringshubhamsg\n",
      "2133947931888\n",
      "2133948552304\n",
      "shubhamgs\n"
     ]
    }
   ],
   "source": [
    "n1=input(\"enter any string\\n\")#this explains how replace function works as strings are immutable\n",
    "print(id(n1))#old object id\n",
    "n1=n1.replace(\"sg\",\"gs\")# it creates a new object with alter details\n",
    "print(id(n1))#new object id\n",
    "print(n1)"
   ]
  },
  {
   "cell_type": "markdown",
   "metadata": {},
   "source": [
    "## splitting of string\n"
   ]
  },
  {
   "cell_type": "code",
   "execution_count": 66,
   "metadata": {},
   "outputs": [
    {
     "name": "stdout",
     "output_type": "stream",
     "text": [
      "['learning', 'python', 'is', 'very', 'easy']\n"
     ]
    },
    {
     "data": {
      "text/plain": [
       "list"
      ]
     },
     "execution_count": 66,
     "metadata": {},
     "output_type": "execute_result"
    }
   ],
   "source": [
    "s=\"learning python is very easy\"\n",
    "print(s.split())# by default seperator is \" \"\n",
    "type(s.split())"
   ]
  },
  {
   "cell_type": "code",
   "execution_count": 1,
   "metadata": {},
   "outputs": [
    {
     "name": "stdout",
     "output_type": "stream",
     "text": [
      "['shubham', 'is', 'a', 'very', 'good', 'boy']\n",
      "['shubham', 'is', 'a', '', '', 'very', 'good', 'boy']\n"
     ]
    }
   ],
   "source": [
    "string=\"shubham is a   very good boy\"\n",
    "print(string.split())\n",
    "print(string.split(\" \"))# it does not remove consecutive white spaces"
   ]
  },
  {
   "cell_type": "markdown",
   "metadata": {},
   "source": [
    "## joining of string"
   ]
  },
  {
   "cell_type": "code",
   "execution_count": 67,
   "metadata": {},
   "outputs": [
    {
     "name": "stdout",
     "output_type": "stream",
     "text": [
      "sg-tr-vs-sv-sc\n"
     ]
    }
   ],
   "source": [
    "l=[\"sg\",\"tr\",\"vs\",\"sv\",\"sc\"]\n",
    "\n",
    "string=\"-\".join(l)\n",
    "print(string)"
   ]
  },
  {
   "cell_type": "markdown",
   "metadata": {},
   "source": [
    "## changing case of string"
   ]
  },
  {
   "cell_type": "code",
   "execution_count": 68,
   "metadata": {},
   "outputs": [
    {
     "name": "stdout",
     "output_type": "stream",
     "text": [
      "SUCCESS COMES TO THOSE WHO WORK FOR IT\n",
      "success comes to those who work for it\n",
      "sUCCESS COMES TO THOSE wHO WORK FOR IT\n",
      "Success Comes To Those Who Work For It\n",
      "Success comes to those who work for it\n"
     ]
    }
   ],
   "source": [
    "s=\"Success comes to those Who work for it\"\n",
    "print(s.upper())\n",
    "print(s.lower())\n",
    "print(s.swapcase())\n",
    "print(s.title())\n",
    "print(s.capitalize())"
   ]
  },
  {
   "cell_type": "markdown",
   "metadata": {},
   "source": [
    "## checking ending and starting part of string"
   ]
  },
  {
   "cell_type": "code",
   "execution_count": 69,
   "metadata": {},
   "outputs": [
    {
     "name": "stdout",
     "output_type": "stream",
     "text": [
      "True\n",
      "True\n",
      "True\n"
     ]
    }
   ],
   "source": [
    "print(s.startswith(\"Success\"))\n",
    "print(s.endswith(\"it\"))\n",
    "print(s.endswith(\"t\"))\n"
   ]
  },
  {
   "cell_type": "markdown",
   "metadata": {},
   "source": [
    "## to check type of chracters present in a string"
   ]
  },
  {
   "cell_type": "code",
   "execution_count": 71,
   "metadata": {},
   "outputs": [
    {
     "name": "stdout",
     "output_type": "stream",
     "text": [
      "True\n",
      "True\n",
      "True\n",
      "True\n",
      "True\n",
      "True\n",
      "False\n"
     ]
    }
   ],
   "source": [
    "print(\"sg12345\".isalnum())#return true if all chracters are [a-zA-Z0-9]\n",
    "print(\"shubhamSG\".isalpha())#return true if [a-zA-Z]\n",
    "print(\"9876543210\".isdigit())#return true if all are digits\n",
    "print(\"shubhamgupta\".islower())#if all in lower case\n",
    "print(\"SHUBHAMGUPTA\".isupper())#if all in upper case\n",
    "print(\"Shubham Gupta\".istitle())#if string in title case\n",
    "print(\"every_space_is_not_space\".isspace())#if string contain space"
   ]
  },
  {
   "cell_type": "markdown",
   "metadata": {},
   "source": [
    "# Important Programs For String"
   ]
  },
  {
   "cell_type": "markdown",
   "metadata": {},
   "source": [
    "#### WRITE A PROGRAM TO REVERSE THE GIVEN STRING"
   ]
  },
  {
   "cell_type": "code",
   "execution_count": 1,
   "metadata": {},
   "outputs": [
    {
     "name": "stdout",
     "output_type": "stream",
     "text": [
      "shubham\n",
      "mahbuhs\n"
     ]
    }
   ],
   "source": [
    "S=input()\n",
    "RS=S[::-1]# with the help of slicing\n",
    "print(RS)"
   ]
  },
  {
   "cell_type": "code",
   "execution_count": null,
   "metadata": {},
   "outputs": [],
   "source": [
    "s=input()\n",
    "print(\"\".join(reversed(s)))# with the help of reversed object\n"
   ]
  },
  {
   "cell_type": "code",
   "execution_count": 6,
   "metadata": {},
   "outputs": [
    {
     "name": "stdout",
     "output_type": "stream",
     "text": [
      "shubham\n",
      "mahbuhs\n"
     ]
    }
   ],
   "source": [
    "rv=\"\"\n",
    "s=input()\n",
    "n=len(s)\n",
    "for i in range(n-1,-1,-1):# with the help of indexing\n",
    "    rv+=s[i]\n",
    "print(rv)    "
   ]
  },
  {
   "cell_type": "markdown",
   "metadata": {},
   "source": [
    "#### PROGRAM TO REVERSE ORDER OF WORDS"
   ]
  },
  {
   "cell_type": "code",
   "execution_count": 8,
   "metadata": {},
   "outputs": [
    {
     "name": "stdout",
     "output_type": "stream",
     "text": [
      "shubham is a good boy a\n",
      "a boy good a is shubham\n"
     ]
    }
   ],
   "source": [
    "s=input().split()\n",
    "s.reverse()\n",
    "print(\" \".join(s))"
   ]
  },
  {
   "cell_type": "code",
   "execution_count": 10,
   "metadata": {},
   "outputs": [
    {
     "name": "stdout",
     "output_type": "stream",
     "text": [
      "my name is shubham\n",
      "shubham is name my\n"
     ]
    }
   ],
   "source": [
    "s=input().split()\n",
    "lr=[]\n",
    "i=len(s)-1\n",
    "while i>=0:\n",
    "    lr.append(s[i])\n",
    "    i=i-1\n",
    "print(\" \".join(lr))    "
   ]
  },
  {
   "cell_type": "markdown",
   "metadata": {},
   "source": [
    "#### PROGRAM TO REVERSE INTERNAL CONTENT OF EACH WORD"
   ]
  },
  {
   "cell_type": "code",
   "execution_count": 11,
   "metadata": {},
   "outputs": [
    {
     "name": "stdout",
     "output_type": "stream",
     "text": [
      "shubham is a good boy\n",
      "mahbuhs si a doog yob\n"
     ]
    }
   ],
   "source": [
    "s=input().split()\n",
    "lrc=[]\n",
    "for i in range(len(s)):\n",
    "    lrc.append(s[i][::-1])\n",
    "print(\" \".join(lrc))    \n"
   ]
  },
  {
   "cell_type": "markdown",
   "metadata": {},
   "source": [
    "#### PROGRAM TO PRINT CHRACTERS AT EVEN AND ODD LOCATIONS"
   ]
  },
  {
   "cell_type": "code",
   "execution_count": 13,
   "metadata": {},
   "outputs": [
    {
     "name": "stdout",
     "output_type": "stream",
     "text": [
      "shubhamg\n",
      "character at even position suhm\n",
      "character at odd position hbag\n"
     ]
    }
   ],
   "source": [
    "s=input()\n",
    "print(\"character at even position\",s[0::2])\n",
    "print(\"character at odd position\",s[1::2])"
   ]
  },
  {
   "cell_type": "markdown",
   "metadata": {},
   "source": []
  }
 ],
 "metadata": {
  "kernelspec": {
   "display_name": "Python 3",
   "language": "python",
   "name": "python3"
  },
  "language_info": {
   "codemirror_mode": {
    "name": "ipython",
    "version": 3
   },
   "file_extension": ".py",
   "mimetype": "text/x-python",
   "name": "python",
   "nbconvert_exporter": "python",
   "pygments_lexer": "ipython3",
   "version": "3.8.3"
  }
 },
 "nbformat": 4,
 "nbformat_minor": 2
}
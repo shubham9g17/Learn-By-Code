{
 "cells": [
  {
   "cell_type": "markdown",
   "metadata": {},
   "source": [
    "  # INPUT "
   ]
  },
  {
   "cell_type": "code",
   "execution_count": 1,
   "metadata": {},
   "outputs": [
    {
     "name": "stdout",
     "output_type": "stream",
     "text": [
      "Enter value10\n"
     ]
    },
    {
     "data": {
      "text/plain": [
       "str"
      ]
     },
     "execution_count": 1,
     "metadata": {},
     "output_type": "execute_result"
    }
   ],
   "source": [
    "# Reading Dynamic input from stdin\n",
    "x=input(\"Enter value\") #by default input is in string format\n",
    "type(x)"
   ]
  },
  {
   "cell_type": "code",
   "execution_count": null,
   "metadata": {},
   "outputs": [],
   "source": [
    "# How to read Multiple inputs in one line\n",
    "a,b=[int(x) for x in input(\"Enter Two Numbers \").split()] #Method 1\n",
    "print(a+b)"
   ]
  },
  {
   "cell_type": "code",
   "execution_count": 6,
   "metadata": {},
   "outputs": [
    {
     "name": "stdout",
     "output_type": "stream",
     "text": [
      "23 45\n",
      "68\n"
     ]
    }
   ],
   "source": [
    "ab=list(map(int,input().split())) #Method 2\n",
    "a=ab[0]\n",
    "b=ab[1]\n",
    "print(a + b)"
   ]
  },
  {
   "cell_type": "code",
   "execution_count": 8,
   "metadata": {},
   "outputs": [
    {
     "name": "stdout",
     "output_type": "stream",
     "text": [
      "10*4+3\n",
      "43\n"
     ]
    }
   ],
   "source": [
    "# How to use eval() function\n",
    "a=eval(input())\n",
    "print(a)"
   ]
  },
  {
   "cell_type": "code",
   "execution_count": 9,
   "metadata": {},
   "outputs": [
    {
     "data": {
      "text/plain": [
       "104"
      ]
     },
     "execution_count": 9,
     "metadata": {},
     "output_type": "execute_result"
    }
   ],
   "source": [
    "eval(\"10**2+4\") #Evaluating given expression"
   ]
  },
  {
   "cell_type": "code",
   "execution_count": 11,
   "metadata": {},
   "outputs": [
    {
     "name": "stdout",
     "output_type": "stream",
     "text": [
      "[1, 2, 3, 45, 56]\n"
     ]
    },
    {
     "data": {
      "text/plain": [
       "list"
      ]
     },
     "execution_count": 11,
     "metadata": {},
     "output_type": "execute_result"
    }
   ],
   "source": [
    "li=eval(\"[1,2,3,45,56]\") # evaluate as list\n",
    "print(li)\n",
    "type(li)"
   ]
  },
  {
   "cell_type": "code",
   "execution_count": 12,
   "metadata": {},
   "outputs": [
    {
     "data": {
      "text/plain": [
       "dict"
      ]
     },
     "execution_count": 12,
     "metadata": {},
     "output_type": "execute_result"
    }
   ],
   "source": [
    "dic=eval(\"{1:4,34:67}\") # evaluate as dictionary\n",
    "type(dic)"
   ]
  },
  {
   "cell_type": "code",
   "execution_count": null,
   "metadata": {},
   "outputs": [
    {
     "name": "stdout",
     "output_type": "stream",
     "text": [
      "4\n",
      "5\n",
      "\n",
      ".\n"
     ]
    }
   ],
   "source": [
    "while True:\n",
    "    try:\n",
    "        q=input()\n",
    "        pass\n",
    "    except:\n",
    "        break\n",
    "# when we want to take input till the user stop entering"
   ]
  },
  {
   "cell_type": "code",
   "execution_count": 1,
   "metadata": {},
   "outputs": [
    {
     "name": "stdout",
     "output_type": "stream",
     "text": [
      "shubham 90 100 56\n",
      "shubham [90, 100, 56]\n"
     ]
    }
   ],
   "source": [
    "name,*marks=input().split()\n",
    "li=list(map(int,marks))\n",
    "print(name,li)"
   ]
  },
  {
   "cell_type": "markdown",
   "metadata": {},
   "source": [
    "# COMMAND LINE  ARGUMENTS"
   ]
  },
  {
   "cell_type": "markdown",
   "metadata": {},
   "source": [
    "argv is not an array but it is a list available in sys Module"
   ]
  },
  {
   "cell_type": "markdown",
   "metadata": {},
   "source": [
    "    argv[0] represents name of program\n",
    "    argv[1...] represents command line argument"
   ]
  },
  {
   "cell_type": "code",
   "execution_count": 13,
   "metadata": {},
   "outputs": [],
   "source": [
    "from sys import argv"
   ]
  },
  {
   "cell_type": "code",
   "execution_count": 16,
   "metadata": {},
   "outputs": [
    {
     "name": "stdout",
     "output_type": "stream",
     "text": [
      "C:\\ProgramData\\Anaconda3\\lib\\site-packages\\ipykernel_launcher.py\n",
      "-f\n",
      "C:\\Users\\Guppi\\AppData\\Roaming\\jupyter\\runtime\\kernel-abecb060-544f-40e4-b3da-c63348870b2b.json\n"
     ]
    }
   ],
   "source": [
    "for x in argv:print(x)"
   ]
  },
  {
   "cell_type": "code",
   "execution_count": 17,
   "metadata": {},
   "outputs": [
    {
     "name": "stdout",
     "output_type": "stream",
     "text": [
      "['C:\\\\ProgramData\\\\Anaconda3\\\\lib\\\\site-packages\\\\ipykernel_launcher.py', '-f', 'C:\\\\Users\\\\Guppi\\\\AppData\\\\Roaming\\\\jupyter\\\\runtime\\\\kernel-abecb060-544f-40e4-b3da-c63348870b2b.json']\n"
     ]
    }
   ],
   "source": [
    "print(argv)"
   ]
  },
  {
   "cell_type": "markdown",
   "metadata": {},
   "source": [
    "**Usually space is a separator between command line arguments but what if our argument is of str type(words) then we should enclose that argument within double quotes(not single quotes)**"
   ]
  },
  {
   "cell_type": "markdown",
   "metadata": {},
   "source": [
    "# OUTPUT \n"
   ]
  },
  {
   "cell_type": "code",
   "execution_count": 22,
   "metadata": {},
   "outputs": [
    {
     "name": "stdout",
     "output_type": "stream",
     "text": [
      "\n"
     ]
    },
    {
     "data": {
      "text/plain": [
       "NoneType"
      ]
     },
     "execution_count": 22,
     "metadata": {},
     "output_type": "execute_result"
    }
   ],
   "source": [
    "s=print()#form 1 It just print a new line\n",
    "type(s)"
   ]
  },
  {
   "cell_type": "code",
   "execution_count": 24,
   "metadata": {},
   "outputs": [
    {
     "name": "stdout",
     "output_type": "stream",
     "text": [
      "what's up\n",
      "hello sg\n",
      "sg sg sg sg sg sg sg sg sg sg sg sg sg sg \n"
     ]
    }
   ],
   "source": [
    "#form 2\n",
    "print(\"what\\'s up\")#escape sequence\n",
    "print(\"hello \"+\"sg\")#string concatenation\n",
    "print(\"sg \"*14)#string multiplication"
   ]
  },
  {
   "cell_type": "code",
   "execution_count": 29,
   "metadata": {},
   "outputs": [
    {
     "name": "stdout",
     "output_type": "stream",
     "text": [
      "i am ,21, years old\n",
      "10\t23\t34\n",
      "10 23 34\n"
     ]
    }
   ],
   "source": [
    "#form 3\n",
    "print(\"i am \",21,\" years old\",sep=\",\")\n",
    "print(10,23,34,sep=\"\\t\")\n",
    "print(10,23,34)# by default sep=\" \""
   ]
  },
  {
   "cell_type": "code",
   "execution_count": 31,
   "metadata": {},
   "outputs": [
    {
     "name": "stdout",
     "output_type": "stream",
     "text": [
      "my name is sg and sg@s3tv\n"
     ]
    }
   ],
   "source": [
    "#form 4\n",
    "print(\"my name is sg\",end=\" \")\n",
    "print(\"and sg@s3tv\") # by default end=\"\\n\""
   ]
  },
  {
   "cell_type": "code",
   "execution_count": 32,
   "metadata": {},
   "outputs": [
    {
     "name": "stdout",
     "output_type": "stream",
     "text": [
      "[1, 2, 3, 4]\n"
     ]
    }
   ],
   "source": [
    "#form 5\n",
    "li=[1,2,3,4]\n",
    "print(li)# printing of any object"
   ]
  },
  {
   "cell_type": "code",
   "execution_count": 33,
   "metadata": {},
   "outputs": [
    {
     "name": "stdout",
     "output_type": "stream",
     "text": [
      "list is 43 45\n"
     ]
    }
   ],
   "source": [
    "#form 6\n",
    "print(\"list is\",a,b)#string + any no. of variables"
   ]
  },
  {
   "cell_type": "code",
   "execution_count": 35,
   "metadata": {},
   "outputs": [
    {
     "name": "stdout",
     "output_type": "stream",
     "text": [
      "hello sg your age is 19 and first name is shubham\n"
     ]
    }
   ],
   "source": [
    "# form 7\n",
    "#print(formated string)\n",
    "#%i--->int\n",
    "#%d--->int\n",
    "#%s--->string\n",
    "#%f--->float\n",
    "age=19\n",
    "name=\"shubham\"\n",
    "#Syntax\n",
    "print(\"hello sg your age is %d and first name is %s\"%(age,name))"
   ]
  },
  {
   "cell_type": "code",
   "execution_count": 37,
   "metadata": {},
   "outputs": [
    {
     "name": "stdout",
     "output_type": "stream",
     "text": [
      "age is 19 , name is shubham \n"
     ]
    }
   ],
   "source": [
    "# form 8\n",
    "# print with replacement operator\n",
    "print(\"age is {x} , name is {y} \".format(y=name,x=age))"
   ]
  }
 ],
 "metadata": {
  "kernelspec": {
   "display_name": "Python 3",
   "language": "python",
   "name": "python3"
  },
  "language_info": {
   "codemirror_mode": {
    "name": "ipython",
    "version": 3
   },
   "file_extension": ".py",
   "mimetype": "text/x-python",
   "name": "python",
   "nbconvert_exporter": "python",
   "pygments_lexer": "ipython3",
   "version": "3.8.3"
  }
 },
 "nbformat": 4,
 "nbformat_minor": 2
}
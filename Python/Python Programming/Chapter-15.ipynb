{
 "cells": [
  {
   "cell_type": "markdown",
   "metadata": {},
   "source": [
    "# Python's Object Oriented Programming (OOPs) "
   ]
  },
  {
   "cell_type": "markdown",
   "metadata": {},
   "source": [
    "`What is Class:`  \n",
    " \n",
    "* In Python every thing is an object. To create objects we required some Model or Plan or Blue print, which is nothing but class.\n",
    "* We can write a class to represent properties (attributes) and actions (behaviour) of object.  \n",
    "* Properties can be represented by variables \n",
    "* Actions can be represented by Methods. \n",
    "*  Hence class contains both variables and methods. "
   ]
  },
  {
   "cell_type": "markdown",
   "metadata": {},
   "source": [
    "__`How to Define a class?`__ \n",
    " \n",
    "`We can define a class by using class keyword.`  \n",
    " \n",
    "`Syntax:`\n",
    "\n",
    "**`class`** `className:`\n",
    "\n",
    "     `''' documenttation string '''`  \n",
    "        \n",
    "**variables:** instance variables,static and local variables \n",
    "    \n",
    "**methods:** instance methods,static methods,class methods \n",
    " \n",
    "`Documentation string represents description of the class. Within the class doc string is always optional. We can get doc string by using the following 2 ways.` \n",
    " \n",
    "1. print(`classname.__doc__`)\n",
    "2. help(`classname`) "
   ]
  },
  {
   "cell_type": "code",
   "execution_count": 2,
   "metadata": {},
   "outputs": [
    {
     "name": "stdout",
     "output_type": "stream",
     "text": [
      "This is a Student Class\n"
     ]
    }
   ],
   "source": [
    "class student:\n",
    "     '''This is a Student Class'''\n",
    "print(student.__doc__)\n"
   ]
  },
  {
   "cell_type": "code",
   "execution_count": 3,
   "metadata": {},
   "outputs": [
    {
     "name": "stdout",
     "output_type": "stream",
     "text": [
      "Help on class student in module __main__:\n",
      "\n",
      "class student(builtins.object)\n",
      " |  This is a Student Class\n",
      " |  \n",
      " |  Data descriptors defined here:\n",
      " |  \n",
      " |  __dict__\n",
      " |      dictionary for instance variables (if defined)\n",
      " |  \n",
      " |  __weakref__\n",
      " |      list of weak references to the object (if defined)\n",
      "\n"
     ]
    }
   ],
   "source": [
    "help(student)"
   ]
  },
  {
   "cell_type": "markdown",
   "metadata": {},
   "source": [
    "Within the Python class we can represent data by using variables.\n",
    "\n",
    "There are 3 types of variables are allowed.  \n",
    " \n",
    "1. Instance Variables (Object Level Variables)\n",
    "2. Static Variables (Class Level Variables)\n",
    "3. Local variables (Method Level Variables) \n",
    " \n",
    "Within the Python class, we can represent operations by using methods.\n",
    "\n",
    "The following are various types of allowed methods\n",
    "\n",
    "1. Instance Methods\n",
    "2. Class Methods\n",
    "3. Static Methods \n",
    " "
   ]
  },
  {
   "cell_type": "markdown",
   "metadata": {},
   "source": [
    "## What is Object: \n",
    " \n",
    "* Physical existence of a class is nothing but object.\n",
    "* We can create any number of objects for a class. \n",
    " \n",
    "`Syntax to create object:` referencevariable = classname() \n",
    " \n",
    "_`Example: s = Student()`_ "
   ]
  },
  {
   "cell_type": "markdown",
   "metadata": {},
   "source": [
    "## What is Reference Variable: \n",
    " \n",
    "`The variable which can be used to refer object is called reference variable. By using reference variable, we can access properties and methods of object.` \n",
    " \n",
    " "
   ]
  },
  {
   "cell_type": "markdown",
   "metadata": {},
   "source": [
    "__Write a Python program to create a Student class and Creates an object to it. Call the method talk() to display student details__ "
   ]
  },
  {
   "cell_type": "code",
   "execution_count": 7,
   "metadata": {},
   "outputs": [
    {
     "name": "stdout",
     "output_type": "stream",
     "text": [
      "Hello Myself SG\n",
      "Age 21\n",
      "Marks= 80\n"
     ]
    }
   ],
   "source": [
    "class student:\n",
    "    '''This is a Student Class'''\n",
    "    def __init__(self):\n",
    "        self.name=\"SG\"\n",
    "        self.age=\"21\"\n",
    "        self.marks=\"80\"\n",
    "    def talk(self):\n",
    "        print(\"Hello Myself\",self.name)\n",
    "        print(\"Age\",self.age)\n",
    "        print(\"Marks=\",self.marks)\n",
    "s=student()\n",
    "s.talk()"
   ]
  },
  {
   "cell_type": "markdown",
   "metadata": {},
   "source": [
    "### Self variable: \n",
    " \n",
    "self is the default variable which is always pointing to current object (like this keyword in Java) \n",
    " \n",
    "By using self we can access instance variables and instance methods of object. \n",
    " \n",
    "Note:\n",
    "    \n",
    "1. self should be first parameter inside constructor\n",
    "    * def `__init__`(self): \n",
    "\n",
    "\n",
    "2. self should be first parameter inside instance methods\n",
    "    * def talk(self): \n",
    " "
   ]
  },
  {
   "cell_type": "markdown",
   "metadata": {},
   "source": [
    "### Constructor Concept:\n",
    "* Constructor is a special method in python.\n",
    "* The name of the constructor should be `__init__(self)`\n",
    "* Constructor will be executed automatically at the time of object creation.\n",
    "* The main purpose of constructor is to declare and initialize instance variables.\n",
    "* Per object constructor will be exeucted only once.\n",
    "* Constructor can take atleast one argument(atleast self) \n",
    "* Constructor is optional and if we are not providing any constructor then python will provide default constructor. \n",
    " \n"
   ]
  },
  {
   "cell_type": "markdown",
   "metadata": {},
   "source": [
    "__Program to demonistrate constructor will execute only once per object:__ "
   ]
  },
  {
   "cell_type": "code",
   "execution_count": 8,
   "metadata": {},
   "outputs": [
    {
     "name": "stdout",
     "output_type": "stream",
     "text": [
      "Constuctor Execution\n",
      "Method Execution\n",
      "Method Execution\n",
      "Constuctor Execution\n",
      "Method Execution\n"
     ]
    }
   ],
   "source": [
    "class test:\n",
    "    def __init__(self):\n",
    "        print(\"Constuctor Execution\")\n",
    "    def method(self):\n",
    "        print(\"Method Execution\")\n",
    "t1=test()\n",
    "t1.method()\n",
    "t1.method()\n",
    "t2=test()\n",
    "t2.method()"
   ]
  },
  {
   "cell_type": "markdown",
   "metadata": {},
   "source": [
    "__Program:__ "
   ]
  },
  {
   "cell_type": "code",
   "execution_count": 9,
   "metadata": {},
   "outputs": [
    {
     "name": "stdout",
     "output_type": "stream",
     "text": [
      "Hello Myself SG\n",
      "Age 21\n",
      "Marks= 80\n"
     ]
    }
   ],
   "source": [
    "class student:\n",
    "    '''This is a Student Class'''\n",
    "    def __init__(self,name,age,marks):\n",
    "        self.name=name\n",
    "        self.age=age\n",
    "        self.marks=marks\n",
    "    def talk(self):\n",
    "        print(\"Hello Myself\",self.name)\n",
    "        print(\"Age\",self.age)\n",
    "        print(\"Marks=\",self.marks)\n",
    "s=student(\"SG\",21,80)\n",
    "s.talk()"
   ]
  },
  {
   "cell_type": "markdown",
   "metadata": {},
   "source": [
    "### Types of Variables: \n",
    " \n",
    "Inside Python class 3 types of variables are allowed. \n",
    " \n",
    "1. Instance Variables (Object Level Variables)\n",
    "2. Static Variables (Class Level Variables)\n",
    "3. Local variables (Method Level Variables) \n",
    " "
   ]
  },
  {
   "cell_type": "markdown",
   "metadata": {},
   "source": [
    "#### 1. Instance Variables: \n",
    " \n",
    "If the value of a variable is varied from object to object, then such type of variables are called instance variables. \n",
    " \n",
    "For every object a separate copy of instance variables will be created. \n",
    " \n",
    "Where we can declare Instance variables:\n",
    "1. Inside Constructor by using self variable\n",
    "2. Inside Instance Method by using self variable\n",
    "3. Outside of the class by using object reference variable "
   ]
  },
  {
   "cell_type": "markdown",
   "metadata": {},
   "source": [
    " \n",
    "___`1. Inside Constructor by using self variable:`___\n",
    "\n",
    "`We can declare instance variables inside a constructor by using self keyword. Once we creates object, automatically these variables will be added to the object.`"
   ]
  },
  {
   "cell_type": "code",
   "execution_count": 10,
   "metadata": {},
   "outputs": [
    {
     "data": {
      "text/plain": [
       "{'eno': 100, 'ename': 'SG', 'esal': 10000}"
      ]
     },
     "execution_count": 10,
     "metadata": {},
     "output_type": "execute_result"
    }
   ],
   "source": [
    "class Employee:\n",
    "    def __init__(self):\n",
    "        self.eno=100\n",
    "        self.ename='SG'\n",
    "        self.esal=10000\n",
    "e=Employee() \n",
    "e.__dict__"
   ]
  },
  {
   "cell_type": "markdown",
   "metadata": {},
   "source": [
    "___`2. Inside Instance Method by using self variable:`___\n",
    "\n",
    "`We can also declare instance variables inside instance method by using self variable. If any instance variable declared inside instance method, that instance variable will be added once we call taht method.` "
   ]
  },
  {
   "cell_type": "code",
   "execution_count": 11,
   "metadata": {},
   "outputs": [
    {
     "name": "stdout",
     "output_type": "stream",
     "text": [
      "{'a': 10, 'b': 20, 'c': 30}\n"
     ]
    }
   ],
   "source": [
    " class Test:\n",
    "        def __init__(self):\n",
    "            self.a=10\n",
    "            self.b=20\n",
    "        def m1(self):\n",
    "            self.c=30\n",
    "t=Test()\n",
    "t.m1()\n",
    "print(t.__dict__) "
   ]
  },
  {
   "cell_type": "markdown",
   "metadata": {},
   "source": [
    "___`3. Outside of the class by using object reference variable: `___\n",
    "\n",
    "`We can also add instance variables outside of a class to a particular object.`"
   ]
  },
  {
   "cell_type": "code",
   "execution_count": 12,
   "metadata": {},
   "outputs": [
    {
     "name": "stdout",
     "output_type": "stream",
     "text": [
      "{'a': 10, 'b': 20, 'c': 30, 'd': 40}\n"
     ]
    }
   ],
   "source": [
    "class Test:\n",
    "    def __init__(self):\n",
    "        self.a=10\n",
    "        self.b=20\n",
    "    def m1(self):\n",
    "        self.c=30\n",
    "t=Test()\n",
    "t.m1()\n",
    "t.d=40\n",
    "print(t.__dict__)"
   ]
  },
  {
   "cell_type": "markdown",
   "metadata": {},
   "source": [
    "#### How to access Instance variables: \n",
    " \n",
    "\n",
    "`We can access instance variables with in the class by using self variable and outside of the class by using object reference.`"
   ]
  },
  {
   "cell_type": "code",
   "execution_count": 14,
   "metadata": {},
   "outputs": [
    {
     "name": "stdout",
     "output_type": "stream",
     "text": [
      "10\n",
      "20\n",
      "10 20\n"
     ]
    }
   ],
   "source": [
    "class Test:\n",
    "    def __init__(self):\n",
    "        self.a=10\n",
    "        self.b=20\n",
    "    def display(self): \n",
    "        print(self.a)  \n",
    "        print(self.b) \n",
    "t=Test()   \n",
    "t.display() \n",
    "print(t.a,t.b) "
   ]
  },
  {
   "cell_type": "markdown",
   "metadata": {},
   "source": [
    "#### How to delete instance variable from the object: \n",
    " \n",
    "1. Within a class we can delete instance variable as follows \n",
    "\n",
    "   `del self.variableName`  \n",
    "\n",
    "\n",
    "2. From outside of class we can delete instance variables as follows\n",
    "\n",
    "   `del objectreference.variableName` "
   ]
  },
  {
   "cell_type": "code",
   "execution_count": 16,
   "metadata": {},
   "outputs": [
    {
     "name": "stdout",
     "output_type": "stream",
     "text": [
      "{'a': 10, 'b': 20, 'c': 30, 'd': 40}\n",
      "{'a': 10, 'b': 20, 'c': 30}\n",
      "{'a': 10, 'b': 20}\n"
     ]
    }
   ],
   "source": [
    "class Test: \n",
    "    def __init__(self):  \n",
    "        self.a=10   \n",
    "        self.b=20 \n",
    "        self.c=30   \n",
    "        self.d=40  \n",
    "    def m1(self):  \n",
    "        del self.d  \n",
    "t=Test() \n",
    "print(t.__dict__) \n",
    "t.m1()  \n",
    "print(t.__dict__) \n",
    "del t.c \n",
    "print(t.__dict__) "
   ]
  },
  {
   "cell_type": "markdown",
   "metadata": {},
   "source": [
    "__`Note:`__ `The instance variables which are deleted from one object,will not be deleted from other objects.` "
   ]
  },
  {
   "cell_type": "code",
   "execution_count": 17,
   "metadata": {},
   "outputs": [
    {
     "name": "stdout",
     "output_type": "stream",
     "text": [
      "{'b': 20, 'c': 30, 'd': 40}\n",
      "{'a': 10, 'b': 20, 'c': 30, 'd': 40}\n"
     ]
    }
   ],
   "source": [
    "class Test: \n",
    "    def __init__(self):  \n",
    "        self.a=10  \n",
    "        self.b=20  \n",
    "        self.c=30  \n",
    "        self.d=40  \n",
    "t1=Test()  \n",
    "t2=Test()  \n",
    "del t1.a  \n",
    "print(t1.__dict__)  \n",
    "print(t2.__dict__)"
   ]
  },
  {
   "cell_type": "markdown",
   "metadata": {},
   "source": [
    "`If we change the values of instance variables of one object then those changes won't be reflected to the remaining objects, because for every object we are separate copy of instance variables are available.`"
   ]
  },
  {
   "cell_type": "code",
   "execution_count": 18,
   "metadata": {},
   "outputs": [
    {
     "name": "stdout",
     "output_type": "stream",
     "text": [
      "t1: 888 999\n",
      "t2: 10 20\n"
     ]
    }
   ],
   "source": [
    "class Test:  \n",
    "    def __init__(self):  \n",
    "        self.a=10 \n",
    "        self.b=20 \n",
    "t1=Test()  \n",
    "t1.a=888  \n",
    "t1.b=999   \n",
    "t2=Test()   \n",
    "print('t1:',t1.a,t1.b)   \n",
    "print('t2:',t2.a,t2.b)"
   ]
  },
  {
   "cell_type": "markdown",
   "metadata": {},
   "source": [
    "#### 2. Static variables: "
   ]
  },
  {
   "cell_type": "markdown",
   "metadata": {},
   "source": [
    "If the value of a variable is not varied from object to object, such type of variables we have to declare with in the class directly but outside of methods. Such type of variables are called Static variables. \n",
    " \n",
    "For total class only one copy of static variable will be created and shared by all objects of that class. \n",
    " \n",
    "We can access static variables either by class name or by object reference. But recommended to use class name. "
   ]
  },
  {
   "cell_type": "markdown",
   "metadata": {},
   "source": [
    "#### Instance Variable vs Static Variable: \n",
    " \n",
    "`Note: In the case of instance variables for every object a seperate copy will be created,but in the case of static variables for total class only one copy will be created and shared by every object of that class.` "
   ]
  },
  {
   "cell_type": "code",
   "execution_count": 20,
   "metadata": {},
   "outputs": [
    {
     "name": "stdout",
     "output_type": "stream",
     "text": [
      "t1: 10 20\n",
      "t2: 10 20\n",
      "t1: 888 999\n",
      "t2: 888 20\n"
     ]
    }
   ],
   "source": [
    "class Test: \n",
    "    x=10  \n",
    "    def __init__(self): \n",
    "        self.y=20 \n",
    "t1=Test() \n",
    "t2=Test()\n",
    "print('t1:',t1.x,t1.y)  \n",
    "print('t2:',t2.x,t2.y)  \n",
    "Test.x=888  \n",
    "t1.y=999 \n",
    "print('t1:',t1.x,t1.y) \n",
    "print('t2:',t2.x,t2.y)"
   ]
  },
  {
   "cell_type": "markdown",
   "metadata": {},
   "source": [
    "**Various places to declare static variables:** \n",
    " \n",
    "1. In general we can declare within the class directly but from out side of any method\n",
    "2. Inside constructor by using class name\n",
    "3. Inside instance method by using class name\n",
    "4. Inside classmethod by using either class name or cls variable\n",
    "5. Inside static method by using class name "
   ]
  },
  {
   "cell_type": "code",
   "execution_count": 22,
   "metadata": {
    "collapsed": true
   },
   "outputs": [
    {
     "name": "stdout",
     "output_type": "stream",
     "text": [
      "{'__module__': '__main__', 'a': 10, '__init__': <function Test.__init__ at 0x000001B1EAEAF288>, 'm1': <function Test.m1 at 0x000001B1EAEAF318>, 'm2': <classmethod object at 0x000001B1EAEB8DC8>, 'm3': <staticmethod object at 0x000001B1EAEBB348>, '__dict__': <attribute '__dict__' of 'Test' objects>, '__weakref__': <attribute '__weakref__' of 'Test' objects>, '__doc__': None}\n",
      "{'__module__': '__main__', 'a': 10, '__init__': <function Test.__init__ at 0x000001B1EAEAF288>, 'm1': <function Test.m1 at 0x000001B1EAEAF318>, 'm2': <classmethod object at 0x000001B1EAEB8DC8>, 'm3': <staticmethod object at 0x000001B1EAEBB348>, '__dict__': <attribute '__dict__' of 'Test' objects>, '__weakref__': <attribute '__weakref__' of 'Test' objects>, '__doc__': None, 'b': 20}\n",
      "{'__module__': '__main__', 'a': 10, '__init__': <function Test.__init__ at 0x000001B1EAEAF288>, 'm1': <function Test.m1 at 0x000001B1EAEAF318>, 'm2': <classmethod object at 0x000001B1EAEB8DC8>, 'm3': <staticmethod object at 0x000001B1EAEBB348>, '__dict__': <attribute '__dict__' of 'Test' objects>, '__weakref__': <attribute '__weakref__' of 'Test' objects>, '__doc__': None, 'b': 20, 'c': 30}\n",
      "{'__module__': '__main__', 'a': 10, '__init__': <function Test.__init__ at 0x000001B1EAEAF288>, 'm1': <function Test.m1 at 0x000001B1EAEAF318>, 'm2': <classmethod object at 0x000001B1EAEB8DC8>, 'm3': <staticmethod object at 0x000001B1EAEBB348>, '__dict__': <attribute '__dict__' of 'Test' objects>, '__weakref__': <attribute '__weakref__' of 'Test' objects>, '__doc__': None, 'b': 20, 'c': 30, 'd1': 40, 'd2': 400}\n",
      "{'__module__': '__main__', 'a': 10, '__init__': <function Test.__init__ at 0x000001B1EAEAF288>, 'm1': <function Test.m1 at 0x000001B1EAEAF318>, 'm2': <classmethod object at 0x000001B1EAEB8DC8>, 'm3': <staticmethod object at 0x000001B1EAEBB348>, '__dict__': <attribute '__dict__' of 'Test' objects>, '__weakref__': <attribute '__weakref__' of 'Test' objects>, '__doc__': None, 'b': 20, 'c': 30, 'd1': 40, 'd2': 400, 'e': 50}\n",
      "{'__module__': '__main__', 'a': 10, '__init__': <function Test.__init__ at 0x000001B1EAEAF288>, 'm1': <function Test.m1 at 0x000001B1EAEAF318>, 'm2': <classmethod object at 0x000001B1EAEB8DC8>, 'm3': <staticmethod object at 0x000001B1EAEBB348>, '__dict__': <attribute '__dict__' of 'Test' objects>, '__weakref__': <attribute '__weakref__' of 'Test' objects>, '__doc__': None, 'b': 20, 'c': 30, 'd1': 40, 'd2': 400, 'e': 50, 'f': 60}\n"
     ]
    }
   ],
   "source": [
    "class Test:  \n",
    "    a=10  \n",
    "    def __init__(self):  \n",
    "        Test.b=20  \n",
    "    def m1(self):  \n",
    "        Test.c=30  \n",
    "    @classmethod  \n",
    "    def m2(cls):  \n",
    "        cls.d1=40  \n",
    "        Test.d2=400   \n",
    "    @staticmethod \n",
    "    def m3(): \n",
    "        Test.e=50 \n",
    "print(Test.__dict__)  \n",
    "t=Test()   \n",
    "print(Test.__dict__)  \n",
    "t.m1()  \n",
    "print(Test.__dict__)  \n",
    "Test.m2()  \n",
    "print(Test.__dict__)  \n",
    "Test.m3() \n",
    "print(Test.__dict__) \n",
    "Test.f=60  \n",
    "print(Test.__dict__) "
   ]
  },
  {
   "cell_type": "markdown",
   "metadata": {},
   "source": [
    "**How to access static variables:** \n",
    " \n",
    "1. inside constructor: by using either self or classname\n",
    "2. inside instance method:  by using either self or classname\n",
    "3. inside class method: by using either cls variable or classname\n",
    "4. inside static method: by using classname\n",
    "5. From outside of class: by using either object reference or classname "
   ]
  },
  {
   "cell_type": "code",
   "execution_count": 23,
   "metadata": {},
   "outputs": [
    {
     "name": "stdout",
     "output_type": "stream",
     "text": [
      "10\n",
      "10\n",
      "10\n",
      "10\n",
      "10\n",
      "10\n",
      "10\n",
      "10\n",
      "10\n"
     ]
    }
   ],
   "source": [
    " class Test:   \n",
    "        a=10   \n",
    "        def __init__(self):   \n",
    "            print(self.a)   \n",
    "            print(Test.a)   \n",
    "        def m1(self):   \n",
    "            print(self.a)\n",
    "            print(Test.a)   \n",
    "        @classmethod   \n",
    "        def m2(cls):   \n",
    "            print(cls.a)   \n",
    "            print(Test.a)   \n",
    "        @staticmethod   \n",
    "        def m3():   \n",
    "            print(Test.a)   \n",
    "t=Test()   \n",
    "print(Test.a)   \n",
    "print(t.a)   \n",
    "t.m1()   \n",
    "t.m2()   \n",
    "t.m3() "
   ]
  },
  {
   "cell_type": "markdown",
   "metadata": {},
   "source": [
    "#### Where we can modify the value of static variable: \n",
    " \n",
    "Anywhere either with in the class or outside of class we can modify by using classname. But inside class method, by using cls variable. "
   ]
  },
  {
   "cell_type": "code",
   "execution_count": 24,
   "metadata": {},
   "outputs": [
    {
     "name": "stdout",
     "output_type": "stream",
     "text": [
      "777\n",
      "888\n",
      "999\n"
     ]
    }
   ],
   "source": [
    "class Test:   \n",
    "    a=777   \n",
    "    @classmethod   \n",
    "    def m1(cls):   \n",
    "        cls.a=888  \n",
    "    @staticmethod   \n",
    "    def m2():   \n",
    "        Test.a=999   \n",
    "print(Test.a)  \n",
    "Test.m1()   \n",
    "print(Test.a)   \n",
    "Test.m2()   \n",
    "print(Test.a)   \n"
   ]
  },
  {
   "cell_type": "markdown",
   "metadata": {},
   "source": [
    "#### If we change the value of static variable by using either self or object reference variable: \n",
    " \n",
    " If we change the value of static variable by using either self or object reference variable, then the value of static variable won't be changed,just a new instance variable with that name will be added to that particular object. "
   ]
  },
  {
   "cell_type": "code",
   "execution_count": 1,
   "metadata": {},
   "outputs": [
    {
     "name": "stdout",
     "output_type": "stream",
     "text": [
      "10\n",
      "888\n"
     ]
    }
   ],
   "source": [
    "#Example 1: \n",
    "class Test:   \n",
    "    a=10   \n",
    "    def  m1(self):   \n",
    "        self.a=888   \n",
    "t1=Test()   \n",
    "t1.m1()   \n",
    "print(Test.a)   \n",
    "print(t1.a)   "
   ]
  },
  {
   "cell_type": "code",
   "execution_count": 3,
   "metadata": {},
   "outputs": [
    {
     "name": "stdout",
     "output_type": "stream",
     "text": [
      "t1: 10 20\n",
      "t2: 10 20\n",
      "t1: 888 999\n",
      "t2: 10 20\n"
     ]
    }
   ],
   "source": [
    "#Example 2\n",
    "class Test:   \n",
    "    x=10   \n",
    "    def __init__(self):   \n",
    "        self.y=20   \n",
    "t1=Test()   \n",
    "t2=Test()   \n",
    "print('t1:',t1.x,t1.y)   \n",
    "print('t2:',t2.x,t2.y)   \n",
    "t1.x=888   \n",
    "t1.y=999   \n",
    "print('t1:',t1.x,t1.y)   \n",
    "print('t2:',t2.x,t2.y)   "
   ]
  },
  {
   "cell_type": "code",
   "execution_count": 4,
   "metadata": {},
   "outputs": [
    {
     "name": "stdout",
     "output_type": "stream",
     "text": [
      "888 999\n",
      "888 20\n"
     ]
    }
   ],
   "source": [
    "#Example3: \n",
    "class Test:   \n",
    "    a=10   \n",
    "    def __init__(self):   \n",
    "        self.b=20   \n",
    "t1=Test()   \n",
    "t2=Test()   \n",
    "Test.a=888   \n",
    "t1.b=999   \n",
    "print(t1.a,t1.b)   \n",
    "print(t2.a,t2.b) "
   ]
  },
  {
   "cell_type": "code",
   "execution_count": 5,
   "metadata": {},
   "outputs": [
    {
     "name": "stdout",
     "output_type": "stream",
     "text": [
      "888 999\n",
      "10 20\n"
     ]
    }
   ],
   "source": [
    "class Test:   \n",
    "    a=10   \n",
    "    def __init__(self):   \n",
    "        self.b=20   \n",
    "    def m1(self):   \n",
    "        self.a=888   \n",
    "        self.b=999      \n",
    "t1=Test()   \n",
    "t2=Test()   \n",
    "t1.m1()   \n",
    "print(t1.a,t1.b)   \n",
    "print(t2.a,t2.b) "
   ]
  },
  {
   "cell_type": "code",
   "execution_count": 6,
   "metadata": {},
   "outputs": [
    {
     "name": "stdout",
     "output_type": "stream",
     "text": [
      "888 20\n",
      "888 20\n",
      "888 999\n"
     ]
    }
   ],
   "source": [
    "class Test:   \n",
    "    a=10   \n",
    "    def __init__(self):   \n",
    "        self.b=20   \n",
    "    @classmethod   \n",
    "    def m1(cls):   \n",
    "        cls.a=888  \n",
    "        cls.b=999   \n",
    "t1=Test()   \n",
    "t2=Test()   \n",
    "t1.m1()   \n",
    "print(t1.a,t1.b)   \n",
    "print(t2.a,t2.b)   \n",
    "print(Test.a,Test.b)   "
   ]
  },
  {
   "cell_type": "markdown",
   "metadata": {},
   "source": [
    "__How to delete static variables of a class:__ \n",
    " \n",
    "We can delete static variables from anywhere by using the following syntax \n",
    " \n",
    "`del   classname.variablename` \n",
    " \n",
    "But inside classmethod we can also use cls variable \n",
    " \n",
    "`del   cls.variablename`"
   ]
  },
  {
   "cell_type": "code",
   "execution_count": 7,
   "metadata": {},
   "outputs": [
    {
     "name": "stdout",
     "output_type": "stream",
     "text": [
      "{'__module__': '__main__', 'm1': <classmethod object at 0x000001BE290EEAC8>, '__dict__': <attribute '__dict__' of 'Test' objects>, '__weakref__': <attribute '__weakref__' of 'Test' objects>, '__doc__': None}\n"
     ]
    }
   ],
   "source": [
    "class Test:   \n",
    "    a=10   \n",
    "    @classmethod\n",
    "    def m1(cls):   \n",
    "        del cls.a  \n",
    "Test.m1()   \n",
    "print(Test.__dict__) "
   ]
  },
  {
   "cell_type": "code",
   "execution_count": 8,
   "metadata": {},
   "outputs": [
    {
     "ename": "AttributeError",
     "evalue": "a",
     "output_type": "error",
     "traceback": [
      "\u001b[1;31m---------------------------------------------------------------------------\u001b[0m",
      "\u001b[1;31mAttributeError\u001b[0m                            Traceback (most recent call last)",
      "\u001b[1;32m<ipython-input-8-fe02f6e6843b>\u001b[0m in \u001b[0;36m<module>\u001b[1;34m\u001b[0m\n\u001b[0;32m      2\u001b[0m     \u001b[0ma\u001b[0m\u001b[1;33m=\u001b[0m\u001b[1;36m10\u001b[0m\u001b[1;33m\u001b[0m\u001b[1;33m\u001b[0m\u001b[0m\n\u001b[0;32m      3\u001b[0m \u001b[0mt1\u001b[0m\u001b[1;33m=\u001b[0m\u001b[0mTest\u001b[0m\u001b[1;33m(\u001b[0m\u001b[1;33m)\u001b[0m\u001b[1;33m\u001b[0m\u001b[1;33m\u001b[0m\u001b[0m\n\u001b[1;32m----> 4\u001b[1;33m \u001b[1;32mdel\u001b[0m \u001b[0mt1\u001b[0m\u001b[1;33m.\u001b[0m\u001b[0ma\u001b[0m\u001b[1;33m\u001b[0m\u001b[1;33m\u001b[0m\u001b[0m\n\u001b[0m",
      "\u001b[1;31mAttributeError\u001b[0m: a"
     ]
    }
   ],
   "source": [
    "class Test:   \n",
    "    a=10   \n",
    "t1=Test()   \n",
    "del t1.a   "
   ]
  },
  {
   "cell_type": "markdown",
   "metadata": {},
   "source": [
    "#### Local variables: \n",
    " \n",
    "Sometimes to meet temporary requirements of programmer,we can declare variables inside a method directly,such type of variables are called local variable or temporary variables. \n",
    " \n",
    " Local variables will be created at the time of method execution and destroyed once method completes. \n",
    " \n",
    " Local variables of a method cannot be accessed from outside of method. \n",
    " \n",
    " "
   ]
  },
  {
   "cell_type": "code",
   "execution_count": 11,
   "metadata": {},
   "outputs": [
    {
     "name": "stdout",
     "output_type": "stream",
     "text": [
      "1000\n"
     ]
    },
    {
     "ename": "NameError",
     "evalue": "name 'a' is not defined",
     "output_type": "error",
     "traceback": [
      "\u001b[1;31m---------------------------------------------------------------------------\u001b[0m",
      "\u001b[1;31mNameError\u001b[0m                                 Traceback (most recent call last)",
      "\u001b[1;32m<ipython-input-11-c675d1e1a02d>\u001b[0m in \u001b[0;36m<module>\u001b[1;34m\u001b[0m\n\u001b[0;32m      9\u001b[0m \u001b[0mt\u001b[0m\u001b[1;33m=\u001b[0m\u001b[0mTest\u001b[0m\u001b[1;33m(\u001b[0m\u001b[1;33m)\u001b[0m\u001b[1;33m\u001b[0m\u001b[1;33m\u001b[0m\u001b[0m\n\u001b[0;32m     10\u001b[0m \u001b[0mt\u001b[0m\u001b[1;33m.\u001b[0m\u001b[0mm1\u001b[0m\u001b[1;33m(\u001b[0m\u001b[1;33m)\u001b[0m\u001b[1;33m\u001b[0m\u001b[1;33m\u001b[0m\u001b[0m\n\u001b[1;32m---> 11\u001b[1;33m \u001b[0mt\u001b[0m\u001b[1;33m.\u001b[0m\u001b[0mm2\u001b[0m\u001b[1;33m(\u001b[0m\u001b[1;33m)\u001b[0m\u001b[1;33m\u001b[0m\u001b[1;33m\u001b[0m\u001b[0m\n\u001b[0m",
      "\u001b[1;32m<ipython-input-11-c675d1e1a02d>\u001b[0m in \u001b[0;36mm2\u001b[1;34m(self)\u001b[0m\n\u001b[0;32m      5\u001b[0m     \u001b[1;32mdef\u001b[0m \u001b[0mm2\u001b[0m\u001b[1;33m(\u001b[0m\u001b[0mself\u001b[0m\u001b[1;33m)\u001b[0m\u001b[1;33m:\u001b[0m\u001b[1;33m\u001b[0m\u001b[1;33m\u001b[0m\u001b[0m\n\u001b[0;32m      6\u001b[0m         \u001b[0mb\u001b[0m\u001b[1;33m=\u001b[0m\u001b[1;36m2000\u001b[0m\u001b[1;33m\u001b[0m\u001b[1;33m\u001b[0m\u001b[0m\n\u001b[1;32m----> 7\u001b[1;33m         \u001b[0mprint\u001b[0m\u001b[1;33m(\u001b[0m\u001b[0ma\u001b[0m\u001b[1;33m)\u001b[0m    \u001b[1;31m#NameError: name 'a' is not defined\u001b[0m\u001b[1;33m\u001b[0m\u001b[1;33m\u001b[0m\u001b[0m\n\u001b[0m\u001b[0;32m      8\u001b[0m         \u001b[0mprint\u001b[0m\u001b[1;33m(\u001b[0m\u001b[0mb\u001b[0m\u001b[1;33m)\u001b[0m\u001b[1;33m\u001b[0m\u001b[1;33m\u001b[0m\u001b[0m\n\u001b[0;32m      9\u001b[0m \u001b[0mt\u001b[0m\u001b[1;33m=\u001b[0m\u001b[0mTest\u001b[0m\u001b[1;33m(\u001b[0m\u001b[1;33m)\u001b[0m\u001b[1;33m\u001b[0m\u001b[1;33m\u001b[0m\u001b[0m\n",
      "\u001b[1;31mNameError\u001b[0m: name 'a' is not defined"
     ]
    }
   ],
   "source": [
    "class Test:\n",
    "    def m1(self):   \n",
    "        a=1000   \n",
    "        print(a)   \n",
    "    def m2(self):   \n",
    "        b=2000   \n",
    "        print(a)    #NameError: name 'a' is not defined   \n",
    "        print(b) \n",
    "t=Test()   \n",
    "t.m1()  \n",
    "t.m2()"
   ]
  },
  {
   "cell_type": "markdown",
   "metadata": {},
   "source": [
    "## Types of Methods: \n",
    " \n",
    "Inside Python class 3 types of methods are allowed \n",
    " \n",
    "1. Instance Methods\n",
    "2. Class Methods\n",
    "3. Static Methods "
   ]
  },
  {
   "cell_type": "markdown",
   "metadata": {},
   "source": [
    "### 1. Instance Methods:\n",
    "Inside method implementation if we are using instance variables then such type of methods are called instance methods.    Inside instance method declaration,we have to pass self variable. \n",
    " \n",
    "  `def m1(self):` \n",
    " \n",
    "By using self variable inside method we can able to access instance variables. \n",
    " \n",
    "Within the class we can call instance method by using self variable and from outside of the class we can call by using object reference. \n"
   ]
  },
  {
   "cell_type": "code",
   "execution_count": 13,
   "metadata": {},
   "outputs": [
    {
     "name": "stdout",
     "output_type": "stream",
     "text": [
      "Hello Myself SG\n",
      "Age 21\n",
      "Marks= 80\n"
     ]
    }
   ],
   "source": [
    "class student:\n",
    "    '''This is a Student Class'''\n",
    "    def __init__(self,name,age,marks):\n",
    "        self.name=name\n",
    "        self.age=age\n",
    "        self.marks=marks\n",
    "    def talk(self): #instance method\n",
    "        print(\"Hello Myself\",self.name)\n",
    "        print(\"Age\",self.age)\n",
    "        print(\"Marks=\",self.marks)\n",
    "s=student(\"SG\",21,80)\n",
    "s.talk()"
   ]
  },
  {
   "cell_type": "markdown",
   "metadata": {},
   "source": [
    "### Setter and Getter Methods:\n",
    "We can set and get the values of instance variables by using getter and setter methods. \n",
    " \n",
    "#### Setter Method: \n",
    " \n",
    "setter methods can be used to set values to the instance variables. setter methods also known as mutator methods. \n",
    " \n",
    "**syntax:** \n",
    " \n",
    "def  setVariable(self,variable):\n",
    "\n",
    "    self.variable=variable \n",
    " \n",
    "**Example:**\n",
    "    \n",
    "def  setName(self,name):\n",
    "\n",
    "    self.name=name \n",
    " \n",
    "#### Getter Method: \n",
    " \n",
    "Getter methods can be used to get values of the instance variables. Getter methods also known as accessor methods. \n",
    " \n",
    "**syntax:** \n",
    " \n",
    "def  getVariable(self):\n",
    "\n",
    "    return self.variable      \n",
    "\n",
    "**Example:**\n",
    "    \n",
    "def  getName(self):\n",
    "\n",
    "    return self.name "
   ]
  },
  {
   "cell_type": "code",
   "execution_count": 15,
   "metadata": {},
   "outputs": [
    {
     "name": "stdout",
     "output_type": "stream",
     "text": [
      "Enter number of students:2\n",
      "Enter Name:Sg\n",
      "Enter Marks:87\n",
      "Hi Sg\n",
      "Your Marks are: 87\n",
      "\n",
      "Enter Name:Qwerty\n",
      "Enter Marks:34\n",
      "Hi Qwerty\n",
      "Your Marks are: 34\n",
      "\n"
     ]
    }
   ],
   "source": [
    "class Student:  \n",
    "    def setName(self,name): \n",
    "        self.name=name   \n",
    "    def getName(self):   \n",
    "        return self.name   \n",
    "    def setMarks(self,marks):   \n",
    "        self.marks=marks   \n",
    "    def getMarks(self):   \n",
    "        return self.marks   \n",
    "n=int(input('Enter number of students:'))   \n",
    "for i in range(n):   \n",
    "    s=Student()   \n",
    "    name=input('Enter Name:')   \n",
    "    s.setName(name)   \n",
    "    marks=int(input('Enter Marks:'))   \n",
    "    s.setMarks(marks)   \n",
    "    print('Hi',s.getName())   \n",
    "    print('Your Marks are:',s.getMarks())   \n",
    "    print()   \n"
   ]
  },
  {
   "cell_type": "markdown",
   "metadata": {},
   "source": [
    "### 2. Class Methods: \n",
    " \n",
    "Inside method implementation if we are using only class variables (static variables), then such type of methods we should declare as class method. \n",
    " \n",
    "We can declare class method explicitly by using @classmethod decorator.  For class method we should provide cls variable at the time of declaration "
   ]
  },
  {
   "cell_type": "markdown",
   "metadata": {},
   "source": [
    "#### Program to track the number of objects created for a class: "
   ]
  },
  {
   "cell_type": "code",
   "execution_count": 16,
   "metadata": {},
   "outputs": [
    {
     "name": "stdout",
     "output_type": "stream",
     "text": [
      "The number of objects created for test class: 2\n",
      "The number of objects created for test class: 5\n"
     ]
    }
   ],
   "source": [
    "class Test:   \n",
    "    count=0   \n",
    "    def __init__(self):   \n",
    "        Test.count =Test.count+1   \n",
    "    @classmethod   \n",
    "    def noOfObjects(cls):   \n",
    "        print('The number of objects created for test class:',cls.count)   \n",
    "t1=Test()  \n",
    "t2=Test()\n",
    "Test.noOfObjects() \n",
    "t3=Test()  \n",
    "t4=Test() \n",
    "t5=Test()  \n",
    "Test.noOfObjects() "
   ]
  },
  {
   "cell_type": "markdown",
   "metadata": {},
   "source": [
    "### 3. Static Methods: \n",
    " \n",
    "In general these methods are general utility methods. Inside these methods we won't use any instance or class variables. Here we won't provide self or cls arguments at the time of declaration. \n",
    " \n",
    "We can declare static method explicitly by using @staticmethod decorator We can access static methods by using classname or object reference "
   ]
  },
  {
   "cell_type": "code",
   "execution_count": 18,
   "metadata": {},
   "outputs": [
    {
     "name": "stdout",
     "output_type": "stream",
     "text": [
      "The Sum: 30\n",
      "The Product: 200\n",
      "The average: 15.0\n"
     ]
    }
   ],
   "source": [
    "class DurgaMath:       \n",
    "    @staticmethod   \n",
    "    def add(x,y):\n",
    "        print('The Sum:',x+y)\n",
    "    @staticmethod  \n",
    "    def product(x,y): \n",
    "        print('The Product:',x*y) \n",
    "    @staticmethod  \n",
    "    def average(x,y): \n",
    "        print('The average:',(x+y)/2)   \n",
    "DurgaMath.add(10,20)   \n",
    "DurgaMath.product(10,20)  \n",
    "DurgaMath.average(10,20) "
   ]
  },
  {
   "cell_type": "markdown",
   "metadata": {},
   "source": [
    "#### Passing members of one class to another class: \n",
    " \n",
    "We can access members of one class inside another class. "
   ]
  },
  {
   "cell_type": "code",
   "execution_count": 21,
   "metadata": {},
   "outputs": [
    {
     "name": "stdout",
     "output_type": "stream",
     "text": [
      "Employee Number: 100\n",
      "Employee Name: sg\n",
      "Employee Salary: 20000\n"
     ]
    }
   ],
   "source": [
    "class Employee:  \n",
    "    def __init__(self,eno,ename,esal): \n",
    "        self.eno=eno \n",
    "        self.ename=ename \n",
    "        self.esal=esal  \n",
    "    def display(self):  \n",
    "        print('Employee Number:',self.eno)   \n",
    "        print('Employee Name:',self.ename)   \n",
    "        print('Employee Salary:',self.esal)  \n",
    "class Test:  \n",
    "    def modify(emp):   \n",
    "        emp.esal=emp.esal+10000  \n",
    "        emp.display()   \n",
    "e=Employee(100,'sg',10000)  \n",
    "Test.modify(e) "
   ]
  },
  {
   "cell_type": "markdown",
   "metadata": {},
   "source": [
    "### Inner classes: \n",
    " \n",
    "Sometimes we can declare a class inside another class,such type of classes  are called inner classes. \n",
    " \n",
    "Without existing one type of object if there is no chance of existing another type of object,then we should go for inner classes. \n",
    " \n",
    "Example: Without existing Car object there is no chance of existing Engine object. Hence Engine class should be part of Car class. \n",
    " \n",
    "class Car:      .....      class Engine:      ...... \n",
    " \n",
    "Example: Without existing university object there is no chance of existing Department object \n",
    " \n",
    " class University:      .....      class Department:      ...... \n",
    " \n",
    " eg3:  Without existing Human there is no chance of existin Head. Hence Head should be part of Human. \n",
    " \n",
    " class Human:     class Head: \n",
    " \n",
    "Note: Without existing outer class object there is no chance of existing inner class object. Hence inner class object is always associated with outer class object. "
   ]
  },
  {
   "cell_type": "code",
   "execution_count": 22,
   "metadata": {},
   "outputs": [
    {
     "name": "stdout",
     "output_type": "stream",
     "text": [
      "outer class object creation\n",
      "inner class object creation\n",
      "inner class method\n"
     ]
    }
   ],
   "source": [
    "class Outer: \n",
    "    def __init__(self):  \n",
    "        print(\"outer class object creation\")  \n",
    "    class Inner: \n",
    "        def __init__(self):   \n",
    "            print(\"inner class object creation\")  \n",
    "        def m1(self):  \n",
    "            print(\"inner class method\")  \n",
    "o=Outer()  \n",
    "i=o.Inner()   \n",
    "i.m1() "
   ]
  },
  {
   "cell_type": "markdown",
   "metadata": {},
   "source": [
    "### Destructors: \n",
    " \n",
    "Destructor is a special method and the name should be `__del__` Just before destroying an object Garbage Collector always calls destructor to perform clean up activities (Resource deallocation activities like close database connection etc). Once destructor execution completed then Garbage Collector automatically destroys that object. \n",
    " \n",
    "Note: The job of destructor is not to destroy object and it is just to perform clean up activities. "
   ]
  },
  {
   "cell_type": "code",
   "execution_count": null,
   "metadata": {},
   "outputs": [],
   "source": [
    " \n",
    "#Example: \n",
    "import time   \n",
    "class Test:  \n",
    "    def __init__(self):  \n",
    "        print(\"Object Initialization...\")  \n",
    "    def __del__(self):   \n",
    "        print(\"Fulfilling Last Wish and performing clean up activities...\")  \n",
    "t1=Test()  \n",
    "t1=None  \n",
    "time.sleep(5)  \n",
    "print(\"End of application\")   "
   ]
  },
  {
   "cell_type": "markdown",
   "metadata": {},
   "source": [
    "# PolyMorphism"
   ]
  },
  {
   "cell_type": "markdown",
   "metadata": {},
   "source": [
    "Poly means many. Morphs means forms. Polymorphism means 'Many Forms'. \n",
    " \n",
    "Eg1: Yourself is best example of polymorphism.In front of Your parents You will have one type of behaviour and with friends another type of behaviour.Same person but different behaviours at different places,which is nothing but polymorphism. \n",
    " \n",
    "Eg2: + operator acts as concatenation and arithmetic addition \n",
    " \n",
    "Eg3: * operator acts as multiplication and repetition operator \n",
    " \n",
    "Eg4: The Same method with different implementations in Parent class and child classes.(overriding) \n",
    " \n",
    "`Related to polymorphism the following 4 topics are important` \n",
    " \n",
    "1. Duck Typing Philosophy of Python \n",
    " \n",
    "2. Overloading\n",
    "\n",
    "    `1. Operator Overloading `\n",
    "    \n",
    "    `2. Method Overloading`\n",
    "    \n",
    "    `3. Constructor Overloading` \n",
    " \n",
    "3. Overriding\n",
    "\n",
    "   ` 1. Method overriding`\n",
    "    \n",
    "    `2. constructor overriding `"
   ]
  },
  {
   "cell_type": "markdown",
   "metadata": {},
   "source": [
    " ## 1. Duck Typing Philosophy of Python: \n",
    " \n",
    "In Python we cannot specify the type explicitly. Based on provided value at runtime the type will be considered automatically. Hence Python is considered as Dynamically Typed Programming Language. \n",
    " \n",
    "\n",
    "\n",
    "def f1(obj):\n",
    "\n",
    "    obj.talk() \n",
    " \n",
    "What is the type of obj? We cannot decide at the beginning. At runtime we can pass any type.Then how we can decide the type? At runtime if 'it walks like a duck and talks like a duck,it must be duck'. Python follows this principle. This is called Duck Typing Philosophy of Python."
   ]
  },
  {
   "cell_type": "code",
   "execution_count": 25,
   "metadata": {},
   "outputs": [
    {
     "name": "stdout",
     "output_type": "stream",
     "text": [
      "Quack.. Quack..\n",
      "Moew Moew ..\n",
      "Bow Bow..\n",
      "Myaah Myaah ..\n"
     ]
    }
   ],
   "source": [
    "class Duck:  \n",
    "    def talk(self):  \n",
    "        print('Quack.. Quack..')   \n",
    "class Dog:  \n",
    "    def talk(self):  \n",
    "        print('Bow Bow..')  \n",
    "class Cat:  \n",
    "    def talk(self):  \n",
    "        print('Moew Moew ..')   \n",
    "class Goat:   \n",
    "    def talk(self):   \n",
    "        print('Myaah Myaah ..')   \n",
    "def  f1(obj):  \n",
    "    obj.talk()   \n",
    "l=[Duck(),Cat(),Dog(),Goat()]  \n",
    "for obj in l:  \n",
    "    f1(obj)  "
   ]
  },
  {
   "cell_type": "markdown",
   "metadata": {},
   "source": [
    "`The problem in this approach is if obj does not contain talk() method then we will get AttributeError `"
   ]
  },
  {
   "cell_type": "code",
   "execution_count": 26,
   "metadata": {},
   "outputs": [
    {
     "name": "stdout",
     "output_type": "stream",
     "text": [
      "Quack.. Quack..\n"
     ]
    },
    {
     "ename": "AttributeError",
     "evalue": "'Dog' object has no attribute 'talk'",
     "output_type": "error",
     "traceback": [
      "\u001b[1;31m---------------------------------------------------------------------------\u001b[0m",
      "\u001b[1;31mAttributeError\u001b[0m                            Traceback (most recent call last)",
      "\u001b[1;32m<ipython-input-26-dc092a505419>\u001b[0m in \u001b[0;36m<module>\u001b[1;34m\u001b[0m\n\u001b[0;32m     10\u001b[0m \u001b[0mf1\u001b[0m\u001b[1;33m(\u001b[0m\u001b[0md\u001b[0m\u001b[1;33m)\u001b[0m\u001b[1;33m\u001b[0m\u001b[1;33m\u001b[0m\u001b[0m\n\u001b[0;32m     11\u001b[0m \u001b[0md\u001b[0m\u001b[1;33m=\u001b[0m\u001b[0mDog\u001b[0m\u001b[1;33m(\u001b[0m\u001b[1;33m)\u001b[0m\u001b[1;33m\u001b[0m\u001b[1;33m\u001b[0m\u001b[0m\n\u001b[1;32m---> 12\u001b[1;33m \u001b[0mf1\u001b[0m\u001b[1;33m(\u001b[0m\u001b[0md\u001b[0m\u001b[1;33m)\u001b[0m\u001b[1;33m\u001b[0m\u001b[1;33m\u001b[0m\u001b[0m\n\u001b[0m",
      "\u001b[1;32m<ipython-input-26-dc092a505419>\u001b[0m in \u001b[0;36mf1\u001b[1;34m(obj)\u001b[0m\n\u001b[0;32m      6\u001b[0m         \u001b[0mprint\u001b[0m\u001b[1;33m(\u001b[0m\u001b[1;34m'Bow Bow..'\u001b[0m\u001b[1;33m)\u001b[0m\u001b[1;33m\u001b[0m\u001b[1;33m\u001b[0m\u001b[0m\n\u001b[0;32m      7\u001b[0m \u001b[1;32mdef\u001b[0m  \u001b[0mf1\u001b[0m\u001b[1;33m(\u001b[0m\u001b[0mobj\u001b[0m\u001b[1;33m)\u001b[0m\u001b[1;33m:\u001b[0m\u001b[1;33m\u001b[0m\u001b[1;33m\u001b[0m\u001b[0m\n\u001b[1;32m----> 8\u001b[1;33m     \u001b[0mobj\u001b[0m\u001b[1;33m.\u001b[0m\u001b[0mtalk\u001b[0m\u001b[1;33m(\u001b[0m\u001b[1;33m)\u001b[0m\u001b[1;33m\u001b[0m\u001b[1;33m\u001b[0m\u001b[0m\n\u001b[0m\u001b[0;32m      9\u001b[0m \u001b[0md\u001b[0m\u001b[1;33m=\u001b[0m\u001b[0mDuck\u001b[0m\u001b[1;33m(\u001b[0m\u001b[1;33m)\u001b[0m\u001b[1;33m\u001b[0m\u001b[1;33m\u001b[0m\u001b[0m\n\u001b[0;32m     10\u001b[0m \u001b[0mf1\u001b[0m\u001b[1;33m(\u001b[0m\u001b[0md\u001b[0m\u001b[1;33m)\u001b[0m\u001b[1;33m\u001b[0m\u001b[1;33m\u001b[0m\u001b[0m\n",
      "\u001b[1;31mAttributeError\u001b[0m: 'Dog' object has no attribute 'talk'"
     ]
    }
   ],
   "source": [
    "class Duck:\n",
    "    def talk(self):  \n",
    "        print('Quack.. Quack..')   \n",
    "class Dog:  \n",
    "    def bark(self):  \n",
    "        print('Bow Bow..')  \n",
    "def  f1(obj):   \n",
    "    obj.talk()   \n",
    "d=Duck()  \n",
    "f1(d) \n",
    "d=Dog()   \n",
    "f1(d) "
   ]
  },
  {
   "cell_type": "markdown",
   "metadata": {},
   "source": [
    "## Overloading: \n",
    " \n",
    "We can use same operator or methods for different purposes. \n",
    " \n",
    "Eg1: + operator can be used for Arithmetic addition and String concatenation           print(10+20)#30           print('durga'+'soft')#durgasoft   Eg2: * operator can be used for multiplication and string repetition purposes.             print(10`*`20)#200             print('durga'*3)#durgadurgadurga \n",
    " \n",
    "Eg3: We can use deposit() method to deposit cash  or cheque or dd           deposit(cash)           deposit(cheque)           deposit(dd) \n",
    " \n",
    "There are 3 types of overloading\n",
    "1. Operator Overloading\n",
    "2. Method Overloading\n",
    "3. Constructor Overloading"
   ]
  },
  {
   "cell_type": "markdown",
   "metadata": {},
   "source": [
    "### 1. Operator Overloading: \n",
    " \n",
    "We can use the same operator for multiple purposes, which is nothing but operator overloading. \n",
    " \n",
    "Python supports operator overloading. \n",
    " \n",
    "Eg1: + operator can be used for Arithmetic addition and String concatenation\n",
    "\n",
    "print(10+20)#30    \n",
    "\n",
    "print('durga'+'soft')#durgasoft \n",
    "\n",
    "Eg2: * operator can be used for multiplication and string repetition purposes.\n",
    "\n",
    "print(10`*20)#200\n",
    "\n",
    "print('durga'*`3)#durgadurgadurga "
   ]
  },
  {
   "cell_type": "code",
   "execution_count": 27,
   "metadata": {},
   "outputs": [
    {
     "ename": "TypeError",
     "evalue": "unsupported operand type(s) for +: 'Book' and 'Book'",
     "output_type": "error",
     "traceback": [
      "\u001b[1;31m---------------------------------------------------------------------------\u001b[0m",
      "\u001b[1;31mTypeError\u001b[0m                                 Traceback (most recent call last)",
      "\u001b[1;32m<ipython-input-27-7f13a65e6b9c>\u001b[0m in \u001b[0;36m<module>\u001b[1;34m\u001b[0m\n\u001b[0;32m      4\u001b[0m \u001b[0mb1\u001b[0m\u001b[1;33m=\u001b[0m\u001b[0mBook\u001b[0m\u001b[1;33m(\u001b[0m\u001b[1;36m100\u001b[0m\u001b[1;33m)\u001b[0m\u001b[1;33m\u001b[0m\u001b[1;33m\u001b[0m\u001b[0m\n\u001b[0;32m      5\u001b[0m \u001b[0mb2\u001b[0m\u001b[1;33m=\u001b[0m\u001b[0mBook\u001b[0m\u001b[1;33m(\u001b[0m\u001b[1;36m200\u001b[0m\u001b[1;33m)\u001b[0m\u001b[1;33m\u001b[0m\u001b[1;33m\u001b[0m\u001b[0m\n\u001b[1;32m----> 6\u001b[1;33m \u001b[0mprint\u001b[0m\u001b[1;33m(\u001b[0m\u001b[0mb1\u001b[0m\u001b[1;33m+\u001b[0m\u001b[0mb2\u001b[0m\u001b[1;33m)\u001b[0m\u001b[1;33m\u001b[0m\u001b[1;33m\u001b[0m\u001b[0m\n\u001b[0m",
      "\u001b[1;31mTypeError\u001b[0m: unsupported operand type(s) for +: 'Book' and 'Book'"
     ]
    }
   ],
   "source": [
    "class Book:  \n",
    "    def __init__(self,pages):  \n",
    "        self.pages=pages  \n",
    "b1=Book(100)   \n",
    "b2=Book(200)  \n",
    "print(b1+b2)"
   ]
  },
  {
   "cell_type": "markdown",
   "metadata": {},
   "source": [
    "We can overload + operator to work with Book objects also. i.e Python supports Operator Overloading. \n",
    " \n",
    "For every operator Magic Methods are available. To overload any operator we have to override that Method in our class.  Internally + operator is implemented by using `__add__()` method.This method is called magic method for + operator. We have to override this method in our class.  \n",
    " "
   ]
  },
  {
   "cell_type": "code",
   "execution_count": 28,
   "metadata": {},
   "outputs": [
    {
     "name": "stdout",
     "output_type": "stream",
     "text": [
      "The Total Number of Pages: 300\n"
     ]
    }
   ],
   "source": [
    "class Book: \n",
    "    def __init__(self,pages):  \n",
    "        self.pages=pages   \n",
    "    def __add__(self,other):  \n",
    "        return self.pages+other.pages  \n",
    "b1=Book(100)   \n",
    "b2=Book(200)   \n",
    "print('The Total Number of Pages:',b1+b2)"
   ]
  },
  {
   "cell_type": "markdown",
   "metadata": {},
   "source": [
    "The following is the list of operators and corresponding magic methods\n",
    "\n",
    "    +    --->  object.__add__(self,other)\n",
    "    -    --->  object.__sub__(self,other)\n",
    "    *    --->  object.__mul__(self,other)\n",
    "    /    --->  object.__div__(self,other)\n",
    "    //    --->  object.__floordiv__(self,other)\n",
    "    %    --->  object.__mod__(self,other)\n",
    "    **    --->  object.__pow__(self,other)\n",
    "    +=    --->  object.__iadd__(self,other)\n",
    "    -=    --->  object.__isub__(self,other)\n",
    "    *=    --->  object.__imul__(self,other)\n",
    "    /=    --->  object.__idiv__(self,other)\n",
    "    //=    --->  object.__ifloordiv__(self,other)\n",
    "    %=    --->  object.__imod__(self,other)\n",
    "    **=    --->  object.__ipow__(self,other)\n",
    "    <    --->  object.__lt__(self,other)\n",
    "    <=    --->  object.__le__(self,other)\n",
    "    >    --->  object.__gt__(self,other)\n",
    "    >=   --->  object.__ge__(self,other)\n",
    "    ==    --->  object.__eq__(self,other)\n",
    "    !=    --->  object.__ne__(self,other) "
   ]
  },
  {
   "cell_type": "markdown",
   "metadata": {},
   "source": [
    "### 2. Method Overloading: \n",
    " \n",
    "If 2 methods having same name but different type of arguments then those methods are said to be overloaded methods. \n",
    " \n",
    "Eg:\n",
    "\n",
    "    m1(int a)\n",
    "    m1(double d) \n",
    " \n",
    "But in Python Method overloading is not possible. If we are trying to declare multiple methods with same name and different number of arguments then Python will always consider only last method. "
   ]
  },
  {
   "cell_type": "code",
   "execution_count": 29,
   "metadata": {},
   "outputs": [
    {
     "ename": "TypeError",
     "evalue": "m1() missing 2 required positional arguments: 'a' and 'b'",
     "output_type": "error",
     "traceback": [
      "\u001b[1;31m---------------------------------------------------------------------------\u001b[0m",
      "\u001b[1;31mTypeError\u001b[0m                                 Traceback (most recent call last)",
      "\u001b[1;32m<ipython-input-29-565d93359e00>\u001b[0m in \u001b[0;36m<module>\u001b[1;34m\u001b[0m\n\u001b[0;32m      7\u001b[0m         \u001b[0mprint\u001b[0m\u001b[1;33m(\u001b[0m\u001b[1;34m'two-arg method'\u001b[0m\u001b[1;33m)\u001b[0m\u001b[1;33m\u001b[0m\u001b[1;33m\u001b[0m\u001b[0m\n\u001b[0;32m      8\u001b[0m \u001b[0mt\u001b[0m\u001b[1;33m=\u001b[0m\u001b[0mTest\u001b[0m\u001b[1;33m(\u001b[0m\u001b[1;33m)\u001b[0m\u001b[1;33m\u001b[0m\u001b[1;33m\u001b[0m\u001b[0m\n\u001b[1;32m----> 9\u001b[1;33m \u001b[0mt\u001b[0m\u001b[1;33m.\u001b[0m\u001b[0mm1\u001b[0m\u001b[1;33m(\u001b[0m\u001b[1;33m)\u001b[0m\u001b[1;33m\u001b[0m\u001b[1;33m\u001b[0m\u001b[0m\n\u001b[0m\u001b[0;32m     10\u001b[0m \u001b[0mt\u001b[0m\u001b[1;33m.\u001b[0m\u001b[0mm1\u001b[0m\u001b[1;33m(\u001b[0m\u001b[1;36m10\u001b[0m\u001b[1;33m)\u001b[0m\u001b[1;33m\u001b[0m\u001b[1;33m\u001b[0m\u001b[0m\n\u001b[0;32m     11\u001b[0m \u001b[0mt\u001b[0m\u001b[1;33m.\u001b[0m\u001b[0mm1\u001b[0m\u001b[1;33m(\u001b[0m\u001b[1;36m10\u001b[0m\u001b[1;33m,\u001b[0m\u001b[1;36m20\u001b[0m\u001b[1;33m)\u001b[0m\u001b[1;33m\u001b[0m\u001b[1;33m\u001b[0m\u001b[0m\n",
      "\u001b[1;31mTypeError\u001b[0m: m1() missing 2 required positional arguments: 'a' and 'b'"
     ]
    }
   ],
   "source": [
    "\n",
    "class Test:   \n",
    "    def m1(self):   \n",
    "        print('no-arg method')   \n",
    "    def m1(self,a):   \n",
    "        print('one-arg method')  \n",
    "    def m1(self,a,b):   \n",
    "        print('two-arg method')  \n",
    "t=Test()\n",
    "t.m1()  \n",
    "t.m1(10)\n",
    "t.m1(10,20)"
   ]
  },
  {
   "cell_type": "code",
   "execution_count": 31,
   "metadata": {},
   "outputs": [
    {
     "name": "stdout",
     "output_type": "stream",
     "text": [
      "The Sum: 30\n",
      "The Sum: 60\n",
      "The Sum: 10\n",
      "The Sum: 0\n"
     ]
    }
   ],
   "source": [
    "class Test: \n",
    "    def sum(self,*a):  \n",
    "        total=0  \n",
    "        for x in a:  \n",
    "            total=total+x  \n",
    "        print('The Sum:',total)  \n",
    "t=Test()  \n",
    "t.sum(10,20)  \n",
    "t.sum(10,20,30)   \n",
    "t.sum(10)   \n",
    "t.sum() "
   ]
  },
  {
   "cell_type": "markdown",
   "metadata": {},
   "source": [
    "### 3. Constructor Overloading: \n",
    " \n",
    "Constructor overloading is not possible in Python. If we define multiple constructors then the last constructor will be considered. "
   ]
  },
  {
   "cell_type": "code",
   "execution_count": 33,
   "metadata": {},
   "outputs": [
    {
     "ename": "TypeError",
     "evalue": "__init__() missing 2 required positional arguments: 'a' and 'b'",
     "output_type": "error",
     "traceback": [
      "\u001b[1;31m---------------------------------------------------------------------------\u001b[0m",
      "\u001b[1;31mTypeError\u001b[0m                                 Traceback (most recent call last)",
      "\u001b[1;32m<ipython-input-33-9b1c1ec07e54>\u001b[0m in \u001b[0;36m<module>\u001b[1;34m\u001b[0m\n\u001b[0;32m      6\u001b[0m     \u001b[1;32mdef\u001b[0m \u001b[0m__init__\u001b[0m\u001b[1;33m(\u001b[0m\u001b[0mself\u001b[0m\u001b[1;33m,\u001b[0m\u001b[0ma\u001b[0m\u001b[1;33m,\u001b[0m\u001b[0mb\u001b[0m\u001b[1;33m)\u001b[0m\u001b[1;33m:\u001b[0m\u001b[1;33m\u001b[0m\u001b[1;33m\u001b[0m\u001b[0m\n\u001b[0;32m      7\u001b[0m         \u001b[0mprint\u001b[0m\u001b[1;33m(\u001b[0m\u001b[1;34m'Two-Arg constructor'\u001b[0m\u001b[1;33m)\u001b[0m\u001b[1;33m\u001b[0m\u001b[1;33m\u001b[0m\u001b[0m\n\u001b[1;32m----> 8\u001b[1;33m \u001b[0mt1\u001b[0m\u001b[1;33m=\u001b[0m\u001b[0mTest\u001b[0m\u001b[1;33m(\u001b[0m\u001b[1;33m)\u001b[0m\u001b[1;33m\u001b[0m\u001b[1;33m\u001b[0m\u001b[0m\n\u001b[0m\u001b[0;32m      9\u001b[0m \u001b[1;33m\u001b[0m\u001b[0m\n\u001b[0;32m     10\u001b[0m \u001b[0mt1\u001b[0m\u001b[1;33m=\u001b[0m\u001b[0mTest\u001b[0m\u001b[1;33m(\u001b[0m\u001b[1;36m10\u001b[0m\u001b[1;33m)\u001b[0m\u001b[1;33m\u001b[0m\u001b[1;33m\u001b[0m\u001b[0m\n",
      "\u001b[1;31mTypeError\u001b[0m: __init__() missing 2 required positional arguments: 'a' and 'b'"
     ]
    }
   ],
   "source": [
    "class Test:   \n",
    "    def __init__(self):  \n",
    "        print('No-Arg Constructor')   \n",
    "    def __init__(self,a):  \n",
    "        print('One-Arg constructor')  \n",
    "    def __init__(self,a,b): \n",
    "        print('Two-Arg constructor') \n",
    "t1=Test() \n",
    "t1=Test(10)   \n",
    "t1=Test(10,20) "
   ]
  },
  {
   "cell_type": "markdown",
   "metadata": {},
   "source": [
    "#### Constructor with Default Arguments: "
   ]
  },
  {
   "cell_type": "code",
   "execution_count": 34,
   "metadata": {},
   "outputs": [
    {
     "name": "stdout",
     "output_type": "stream",
     "text": [
      "Constructor with 0|1|2|3 number of arguments\n",
      "Constructor with 0|1|2|3 number of arguments\n",
      "Constructor with 0|1|2|3 number of arguments\n",
      "Constructor with 0|1|2|3 number of arguments\n"
     ]
    }
   ],
   "source": [
    "class Test:   \n",
    "    def __init__(self,a=None,b=None,c=None):  \n",
    "        print('Constructor with 0|1|2|3 number of arguments')   \n",
    "t1=Test()  \n",
    "t2=Test(10)   \n",
    "t3=Test(10,20)   \n",
    "t4=Test(10,20,30) "
   ]
  },
  {
   "cell_type": "markdown",
   "metadata": {},
   "source": [
    "#### Constructor with Variable Number of Arguments: "
   ]
  },
  {
   "cell_type": "code",
   "execution_count": 35,
   "metadata": {},
   "outputs": [
    {
     "name": "stdout",
     "output_type": "stream",
     "text": [
      "Constructor with variable number of arguments\n",
      "Constructor with variable number of arguments\n",
      "Constructor with variable number of arguments\n",
      "Constructor with variable number of arguments\n",
      "Constructor with variable number of arguments\n"
     ]
    }
   ],
   "source": [
    "class Test:  \n",
    "    def __init__(self,*a):  \n",
    "        print('Constructor with variable number of arguments')  \n",
    "t1=Test()  \n",
    "t2=Test(10)   \n",
    "t3=Test(10,20)   \n",
    "t4=Test(10,20,30) \n",
    "t5=Test(10,20,30,40,50,60) "
   ]
  },
  {
   "cell_type": "markdown",
   "metadata": {},
   "source": [
    "## Method overriding: \n",
    " \n",
    "What ever members available in the parent class are bydefault available to the child class through inheritance. If the child class not satisfied with parent class implementation then child class is allowed to redefine that method in the child class based on its requirement. This concept is called overriding. Overriding concept applicable for both methods and constructors. "
   ]
  },
  {
   "cell_type": "markdown",
   "metadata": {},
   "source": [
    "**Demo Program for Method overriding:**"
   ]
  },
  {
   "cell_type": "code",
   "execution_count": 36,
   "metadata": {},
   "outputs": [
    {
     "name": "stdout",
     "output_type": "stream",
     "text": [
      "Gold+Land+Cash+Power\n",
      "Katrina Kaif\n"
     ]
    }
   ],
   "source": [
    "class P:   \n",
    "    def property(self):  \n",
    "        print('Gold+Land+Cash+Power')  \n",
    "    def marry(self):  \n",
    "        print('Appalamma')  \n",
    "class C(P):  \n",
    "    def marry(self):  \n",
    "        print('Katrina Kaif')   \n",
    "c=C()   \n",
    "c.property()   \n",
    "c.marry() "
   ]
  },
  {
   "cell_type": "markdown",
   "metadata": {},
   "source": [
    "From Overriding method of child class,we can call parent class method also by using super() method. "
   ]
  },
  {
   "cell_type": "code",
   "execution_count": 39,
   "metadata": {},
   "outputs": [
    {
     "name": "stdout",
     "output_type": "stream",
     "text": [
      "Gold+Land+Cash+Power\n",
      "Appalamma\n",
      "Katrina Kaif\n"
     ]
    }
   ],
   "source": [
    "class P:   \n",
    "    def property(self):  \n",
    "        print('Gold+Land+Cash+Power')\n",
    "        \n",
    "    def marry(self):  \n",
    "        print('Appalamma')  \n",
    "class C(P):  \n",
    "    def marry(self):\n",
    "        super().marry()\n",
    "        print('Katrina Kaif')   \n",
    "c=C()   \n",
    "c.property()   \n",
    "c.marry()"
   ]
  },
  {
   "cell_type": "markdown",
   "metadata": {},
   "source": [
    "#### Demo Program for Constructor overriding: "
   ]
  },
  {
   "cell_type": "code",
   "execution_count": 40,
   "metadata": {},
   "outputs": [
    {
     "name": "stdout",
     "output_type": "stream",
     "text": [
      "Child Constructor\n"
     ]
    }
   ],
   "source": [
    "class P:  \n",
    "    def __init__(self):  \n",
    "        print('Parent Constructor')  \n",
    "class C(P):  \n",
    "    def __init__(self):  \n",
    "        print('Child Constructor')\n",
    "c=C()"
   ]
  },
  {
   "cell_type": "markdown",
   "metadata": {},
   "source": [
    "In the above example,if child class does not contain constructor then parent class constructor will be executed \n",
    " \n",
    "From child class constuctor we can call parent class constructor by using super() method. "
   ]
  },
  {
   "cell_type": "code",
   "execution_count": 43,
   "metadata": {},
   "outputs": [
    {
     "name": "stdout",
     "output_type": "stream",
     "text": [
      "Parent Constructor\n",
      "Child Constructor\n"
     ]
    }
   ],
   "source": [
    "class P:  \n",
    "    def __init__(self):  \n",
    "        print('Parent Constructor')  \n",
    "class C(P):  \n",
    "    def __init__(self):\n",
    "        super().__init__()\n",
    "        print('Child Constructor')\n",
    "c=C()"
   ]
  }
 ],
 "metadata": {
  "kernelspec": {
   "display_name": "Python 3",
   "language": "python",
   "name": "python3"
  },
  "language_info": {
   "codemirror_mode": {
    "name": "ipython",
    "version": 3
   },
   "file_extension": ".py",
   "mimetype": "text/x-python",
   "name": "python",
   "nbconvert_exporter": "python",
   "pygments_lexer": "ipython3",
   "version": "3.8.3"
  }
 },
 "nbformat": 4,
 "nbformat_minor": 4
}